{
  "nbformat": 4,
  "nbformat_minor": 0,
  "metadata": {
    "colab": {
      "provenance": [],
      "authorship_tag": "ABX9TyNeS94F5UMnFNOxDiKQjNJj",
      "include_colab_link": true
    },
    "kernelspec": {
      "name": "python3",
      "display_name": "Python 3"
    },
    "language_info": {
      "name": "python"
    }
  },
  "cells": [
    {
      "cell_type": "markdown",
      "metadata": {
        "id": "view-in-github",
        "colab_type": "text"
      },
      "source": [
        "<a href=\"https://colab.research.google.com/github/nicholasfurl/Great-Courses/blob/main/Lesson09_SVM_malware.ipynb\" target=\"_parent\"><img src=\"https://colab.research.google.com/assets/colab-badge.svg\" alt=\"Open In Colab\"/></a>"
      ]
    },
    {
      "cell_type": "code",
      "source": [
        "#we will use the same malware problem as in Lesson 8 (nearest neigbor) but will run SVM instead."
      ],
      "metadata": {
        "id": "aKmiuNTcTs6I"
      },
      "execution_count": null,
      "outputs": []
    },
    {
      "cell_type": "code",
      "execution_count": 1,
      "metadata": {
        "id": "MWnERSJgTdAh"
      },
      "outputs": [],
      "source": [
        "#No tf/keras needed yet\n",
        "#yay! plots! I need to learn these ...\n",
        "\n",
        "from sklearn import neighbors\n",
        "import matplotlib.pyplot as plt"
      ]
    },
    {
      "cell_type": "code",
      "source": [
        "#Data come from Great Courses\n",
        "!wget https://github.com/mlittmancs/great_courses_ml/raw/master/data/malware-test.csv\n",
        "!wget https://github.com/mlittmancs/great_courses_ml/raw/master/data/malware-train.csv"
      ],
      "metadata": {
        "colab": {
          "base_uri": "https://localhost:8080/"
        },
        "id": "MpTUFTA-cY4T",
        "outputId": "ce336245-e77a-4001-d737-0d45b49c88fc"
      },
      "execution_count": 2,
      "outputs": [
        {
          "output_type": "stream",
          "name": "stdout",
          "text": [
            "--2023-01-06 12:06:03--  https://github.com/mlittmancs/great_courses_ml/raw/master/data/malware-test.csv\n",
            "Resolving github.com (github.com)... 140.82.112.3\n",
            "Connecting to github.com (github.com)|140.82.112.3|:443... connected.\n",
            "HTTP request sent, awaiting response... 302 Found\n",
            "Location: https://raw.githubusercontent.com/mlittmancs/great_courses_ml/master/data/malware-test.csv [following]\n",
            "--2023-01-06 12:06:03--  https://raw.githubusercontent.com/mlittmancs/great_courses_ml/master/data/malware-test.csv\n",
            "Resolving raw.githubusercontent.com (raw.githubusercontent.com)... 185.199.108.133, 185.199.109.133, 185.199.110.133, ...\n",
            "Connecting to raw.githubusercontent.com (raw.githubusercontent.com)|185.199.108.133|:443... connected.\n",
            "HTTP request sent, awaiting response... 200 OK\n",
            "Length: 11593257 (11M) [text/plain]\n",
            "Saving to: ‘malware-test.csv’\n",
            "\n",
            "malware-test.csv    100%[===================>]  11.06M  --.-KB/s    in 0.1s    \n",
            "\n",
            "2023-01-06 12:06:03 (88.4 MB/s) - ‘malware-test.csv’ saved [11593257/11593257]\n",
            "\n",
            "--2023-01-06 12:06:03--  https://github.com/mlittmancs/great_courses_ml/raw/master/data/malware-train.csv\n",
            "Resolving github.com (github.com)... 140.82.112.3\n",
            "Connecting to github.com (github.com)|140.82.112.3|:443... connected.\n",
            "HTTP request sent, awaiting response... 302 Found\n",
            "Location: https://raw.githubusercontent.com/mlittmancs/great_courses_ml/master/data/malware-train.csv [following]\n",
            "--2023-01-06 12:06:03--  https://raw.githubusercontent.com/mlittmancs/great_courses_ml/master/data/malware-train.csv\n",
            "Resolving raw.githubusercontent.com (raw.githubusercontent.com)... 185.199.109.133, 185.199.110.133, 185.199.111.133, ...\n",
            "Connecting to raw.githubusercontent.com (raw.githubusercontent.com)|185.199.109.133|:443... connected.\n",
            "HTTP request sent, awaiting response... 200 OK\n",
            "Length: 23186145 (22M) [text/plain]\n",
            "Saving to: ‘malware-train.csv’\n",
            "\n",
            "malware-train.csv   100%[===================>]  22.11M   104MB/s    in 0.2s    \n",
            "\n",
            "2023-01-06 12:06:04 (104 MB/s) - ‘malware-train.csv’ saved [23186145/23186145]\n",
            "\n"
          ]
        }
      ]
    },
    {
      "cell_type": "code",
      "source": [
        "#declare a getdat function, which collects the data and labels within the file used for training. \n",
        "#We loop over the lines of the given file one by one, splitting each line into components at the commas. \n",
        "#The data file uses pe-malicious to label the positive instances of malware. \n",
        "#So, we use == \"pre-malicious\" to turn those labels into 0/False for safe and 1/True for malware. \n",
        "#The function returns the data and the labels for the file. Since the data is read from the file as a string, \n",
        "#each component needs to be converted to a floating point number.\n",
        "#We then use this funciton to get the training and test data used for our model.\n",
        "\n",
        "#This cell is only a function definition\n",
        "\n",
        "def getdat(filename):\n",
        "\n",
        "    #So with closes resources after using them and is often used when opening a file.\n",
        "    #I guess it eliminates the f after data is created?\n",
        "    #no f is a TextIOWrapper and seems to still exist after\n",
        "    #It is supposed to be like a try/catch block and relate to exception handling somehow too\n",
        "    with open(filename, \"r\") as f:\n",
        "       data = f.readlines()\n",
        "\n",
        "    #anyway, now we have data, which is a list with 4000 items, each of which is a string of comma separated data\n",
        "\n",
        "    #Initial lists we will use for output (brackets define a list)\n",
        "    dat = []\n",
        "    labs = []\n",
        "\n",
        "    #Loops through each line and takes the string and splits it into data \n",
        "    for line in data:\n",
        "\n",
        "        #Splits each line into a new list along the commas. Wordline should have 487 items\n",
        "        wordline = line.split(\",\")\n",
        "\n",
        "        #append to label list (+ can append to a list apparently) \"True\" (not a one) if the first item in this line is \"pe-malicious\"\n",
        "        #does it authomatically pad a False otherwise, even for elements past the last true?\n",
        "        labs = labs + [wordline[0] == \"pe-malicious\"]\n",
        "\n",
        "        #mini-loop through all the data items in wordline, converting each to float and then appending as new items to data list\n",
        "        dat = dat + [[float(wordline[i]) for i in range(1,len(wordline))]]\n",
        "\n",
        "    #Return lists of labels and datalines (float)\n",
        "    return(dat,labs)\n"
      ],
      "metadata": {
        "id": "gY4zCJVbclQj"
      },
      "execution_count": 3,
      "outputs": []
    },
    {
      "cell_type": "code",
      "source": [
        "traindat, trainlabs = getdat(\"malware-train.csv\")\n",
        "testdat, testlabs = getdat(\"malware-test.csv\")\n",
        "\n",
        "#traindat should be a 4000 item list\n",
        "print(traindat[0])\n",
        "#trainlabs should be a 4000 item list\n",
        "print(trainlabs[0])\n",
        "#testdat should be a 2000 item list\n",
        "print(testdat[0])\n",
        "#testlabs should be a 2000 item list\n",
        "print(testlabs[0])"
      ],
      "metadata": {
        "colab": {
          "base_uri": "https://localhost:8080/"
        },
        "id": "-qENI-Qzc0Kq",
        "outputId": "2dde1864-7cfe-4e4a-8256-fce8d935a444"
      },
      "execution_count": 4,
      "outputs": [
        {
          "output_type": "stream",
          "name": "stdout",
          "text": [
            "[0.0, 0.0, 0.0, 0.0, 1.0, 0.0, 0.0, 1.0, 1.0, 0.0, 0.0, 0.266666666667, 0.141176470588, 0.0627450980392, 0.313725490196, 0.341176470588, 1.0, 0.0823529411765, 0.439215686275, 0.443137254902, 0.250980392157, 0.0, 0.41568627451, 0.0823529411765, 0.333333333333, 0.333333333333, 1.0, 0.454901960784, 0.141176470588, 0.125490196078, 1.0, 0.454901960784, 0.141176470588, 0.125490196078, 0.333333333333, 1.0, 0.207843137255, 0.345098039216, 0.211764705882, 0.258823529412, 0.0, 1.0, 0.0823529411765, 0.533333333333, 0.443137254902, 0.250980392157, 0.0, 0.333333333333, 1.0, 0.462745098039, 0.0470588235294, 0.909803921569, 0.56862745098, 0.839215686275, 1.0, 1.0, 0.223529411765, 0.176470588235, 0.298039215686, 0.211764705882, 0.258823529412, 0.0, 0.458823529412, 0.360784313725, 0.41568627451, 0.0313725490196, 1.0, 0.207843137255, 0.345098039216, 0.211764705882, 0.258823529412, 0.0, 1.0, 0.0823529411765, 0.376470588235, 0.0149752461244, 0.00418444903211, 0.00396123727204, 0.00395763708237, 0.0040280979375, 0.00398129547168, 0.00382134418739, 0.00390774873968, 0.00393912182116, 0.00385528883293, 0.00384705982795, 0.00384243101265, 0.00399209604072, 0.00385991764823, 0.00387843290944, 0.00396175158485, 0.00387431840695, 0.00383523063329, 0.00387586134538, 0.00395043670301, 0.00387174684289, 0.00405947101899, 0.00383728788454, 0.00379305698277, 0.0037987144237, 0.00382957319237, 0.00382031556177, 0.00397049490265, 0.00375705508599, 0.00377197015751, 0.00380437186462, 0.0037807134753, 0.00396895196421, 0.00384860276639, 0.00383163044362, 0.00391906362152, 0.00381774399771, 0.00380077167494, 0.00381517243366, 0.00385477452012, 0.0038537458945, 0.00377042721908, 0.00376374115253, 0.0039087773653, 0.00383420200767, 0.00386866096602, 0.00381002930554, 0.00379151404434, 0.00389849110907, 0.0038172296849, 0.00380282892619, 0.00380694342868, 0.00382031556177, 0.00388511897598, 0.00378791385466, 0.00383574494611, 0.00390517717562, 0.00391494911903, 0.00388511897598, 0.00385323158169, 0.00388357603755, 0.00386557508916, 0.00383317338205, 0.00381774399771, 0.00416027632999, 0.00393346438024, 0.00401318286598, 0.00376836996783, 0.00385323158169, 0.00411398817698, 0.0039226638112, 0.00380128598775, 0.00386248921229, 0.00382854456675, 0.00381877262333, 0.00385014570482, 0.00385683177137, 0.00385477452012, 0.00373493963511, 0.00378431366498, 0.00397563803076, 0.00379820011089, 0.00382494437707, 0.0039730664667, 0.00379768579807, 0.00389849110907, 0.00400546817381, 0.00398746722542, 0.00381928693615, 0.00378688522904, 0.0038218585002, 0.00383780219735, 0.00383163044362, 0.00385631745855, 0.00382340143864, 0.00387380409414, 0.00389026210409, 0.00392780693931, 0.00380180030056, 0.00382957319237, 0.00389283366815, 0.00408518665955, 0.00386403215072, 0.00386043196104, 0.0040003250457, 0.00397615234357, 0.00399003878947, 0.0038722611557, 0.00401112561473, 0.00387843290944, 0.00399261035353, 0.00388769054004, 0.00394889376457, 0.00385786039699, 0.00405689945493, 0.00395146532863, 0.00410833073605, 0.00417879159119, 0.00390414855, 0.00388974779128, 0.00398643859979, 0.00384808845357, 0.00378791385466, 0.00386351783791, 0.00385117433044, 0.00394632220052, 0.00384705982795, 0.00382905887956, 0.0039272926265, 0.00389026210409, 0.00381362949522, 0.00395557983112, 0.00380591480305, 0.0039365502571, 0.00378482797779, 0.00375962665004, 0.00385426020731, 0.00397718096919, 0.00390620580124, 0.00412684599726, 0.00380642911587, 0.00388203309912, 0.00376888428065, 0.00378997110591, 0.00377865622406, 0.00380437186462, 0.00381774399771, 0.00384654551514, 0.00384603120233, 0.00381774399771, 0.00373545394792, 0.00378225641374, 0.00379511423402, 0.00381157224398, 0.00379665717245, 0.00376579840378, 0.0037987144237, 0.00377042721908, 0.0038676323404, 0.00384860276639, 0.00383625925892, 0.00383780219735, 0.00384294532546, 0.00389437660658, 0.00380951499273, 0.00372516769169, 0.00382700162831, 0.00386043196104, 0.00382494437707, 0.00377454172157, 0.00386197489948, 0.00382597300269, 0.00381208655679, 0.00382391575145, 0.00387123253008, 0.00378174210093, 0.00384397395108, 0.00380437186462, 0.00374779745539, 0.00378328503936, 0.0038491170792, 0.0037807134753, 0.00388769054004, 0.00398438134855, 0.00377351309595, 0.00383420200767, 0.00383574494611, 0.00383574494611, 0.00390620580124, 0.00372311044045, 0.00381620105928, 0.00386608940197, 0.00393809319554, 0.00385168864325, 0.00381928693615, 0.00378791385466, 0.00378431366498, 0.00378894248028, 0.00383420200767, 0.00389643385783, 0.00386094627386, 0.00385168864325, 0.00386711802759, 0.00377968484968, 0.00377197015751, 0.00383985944859, 0.00379202835715, 0.00381928693615, 0.00386557508916, 0.00390414855, 0.00369996636394, 0.00377917053687, 0.00376065527567, 0.00380642911587, 0.00389643385783, 0.0037987144237, 0.00384808845357, 0.00381774399771, 0.00382391575145, 0.00374419726571, 0.00377402740876, 0.00374985470663, 0.003803343239, 0.00382545868988, 0.00387328978132, 0.00379768579807, 0.00375859802442, 0.00384808845357, 0.00383368769486, 0.00388614760161, 0.00375808371161, 0.00391443480622, 0.00409958741826, 0.00390517717562, 0.00368247972836, 0.0038948909194, 0.00390569148843, 0.00382905887956, 0.00373493963511, 0.00389540523221, 0.00390774873968, 0.00383008750518, 0.00389026210409, 0.00382288712582, 0.00382854456675, 0.00377094153189, 0.00382031556177, 0.00383008750518, 0.00398489566136, 0.0038264873155, 0.0038722611557, 0.00379511423402, 0.00391597774466, 0.00382082987458, 0.00391957793433, 0.00463447274194, 0.0, 0.38064516129, 0.4, 0.058064516129, 0.0, 0.0387096774194, 0.0258064516129, 0.0516129032258, 0.0258064516129, 0.0193548387097, 0.0, 0.0, 0.0, 0.0, 0.0, 0.0, 0.0, 0.0, 0.0, 0.0, 0.0, 0.0, 0.0, 0.0, 0.0, 0.0, 0.0, 0.0, 0.0, 0.0, 0.0, 0.0, 0.0, 0.0, 0.0, 0.0, 0.0, 0.0, 0.0, 0.0, 0.0, 0.0, 0.0, 0.0, 0.0, 0.0, 0.0, 0.0, 0.0, 0.0, 0.0, 0.0, 0.0, 0.0, 0.0, 0.0, 0.0, 0.0, 0.0, 0.0, 0.0, 0.0, 0.0, 0.0, 0.0, 0.0, 0.0, 0.0, 0.0, 0.0, 0.0, 0.0, 0.0, 0.0, 0.0, 0.0, 0.0, 0.0, 0.0, 0.0, 0.0, 0.0, 0.0, 0.0, 0.0, 0.0, 0.0, 0.0, 0.0, 0.0, 0.0, 0.0, 0.0, 0.0, 0.0, 0.0, 0.0, 0.0, 0.0, 0.0, 0.0, 0.0, 0.0, 0.0, 0.0, 0.0, 0.0, 0.0, 0.0, 0.0, 0.0, 0.0, 0.0, 0.0, 0.0, 0.0, 0.0, 0.0, 0.0, 0.0, 0.0, 0.0, 0.0, 0.0, 0.0, 0.0, 0.0, 0.0, 0.0, 0.0, 0.0, 0.0, 0.0, 0.0, 0.0, 0.0, 0.0, 0.0, 0.0, 0.0, 0.0, 0.0, 0.0, 0.0, 0.0, 0.0, 0.0, 0.0, 0.0, 0.0, 0.105331263739, 0.2, 0.2, 0.544824773294, 0.119891207572]\n",
            "False\n",
            "[1.0, 1.0, 0.0, 0.0, 1.0, 1.0, 0.0, 1.0, 1.0, 1.0, 0.0, 0.537254901961, 0.282352941176, 0.0156862745098, 0.764705882353, 0.2, 0.752941176471, 0.223529411765, 0.0196078431373, 0.266666666667, 0.0, 0.254901960784, 0.0, 0.0588235294118, 0.580392156863, 0.752941176471, 0.764705882353, 0.721568627451, 0.941176470588, 0.0235294117647, 0.254901960784, 0.0, 0.764705882353, 0.721568627451, 0.925490196078, 0.0235294117647, 0.254901960784, 0.0, 0.764705882353, 0.333333333333, 0.545098039216, 0.925490196078, 0.505882352941, 0.925490196078, 0.141176470588, 0.0117647058824, 0.0, 0.0, 0.325490196078, 0.41568627451, 0.0901960784314, 0.909803921569, 0.486274509804, 0.0313725490196, 0.0, 0.0, 0.521568627451, 0.752941176471, 0.454901960784, 0.0196078431373, 0.545098039216, 0.301960784314, 0.0313725490196, 0.803921568627, 0.160784313725, 0.41568627451, 0.0117647058824, 0.909803921569, 0.772549019608, 0.00392156862745, 0.0, 0.0, 0.780392156863, 0.0156862745098, 0.141176470588, 0.165816914391, 0.0139705035142, 0.0093184698698, 0.00734531628068, 0.0126454660675, 0.0039319045973, 0.00525694204401, 0.00504090332988, 0.0115508699159, 0.00430637170181, 0.0029813342551, 0.00216038714138, 0.00662518723355, 0.00296693167416, 0.00165629680839, 0.0120405576679, 0.00872796405116, 0.00133944002765, 0.00086415485655, 0.00149786841802, 0.00358624265468, 0.00391750201636, 0.001253024542, 0.00164189422745, 0.00383108653071, 0.00122421938011, 0.000648116142413, 0.000936167761263, 0.00265007489342, 0.00159868648462, 0.000892960018435, 0.00267888005531, 0.0129767254292, 0.000993778085033, 0.00142585551331, 0.000936167761263, 0.00309655490264, 0.00374467104505, 0.000619310980528, 0.00086415485655, 0.00184353036064, 0.00131063486577, 0.000835349694665, 0.00253485424588, 0.00148346583708, 0.00214598456043, 0.00334139877866, 0.00164189422745, 0.00638034335753, 0.00252045166494, 0.00164189422745, 0.00505530591082, 0.00185793294158, 0.00136824518954, 0.00106579098975, 0.000720129047125, 0.00139705035142, 0.00159868648462, 0.00119541421823, 0.0051849291393, 0.00122421938011, 0.0018291277797, 0.000950570342205, 0.00080654453278, 0.0188097707109, 0.00694204401429, 0.00217478972232, 0.00306774974075, 0.00175711487499, 0.0104850789261, 0.00537216269155, 0.00334139877866, 0.00313976264547, 0.00152667357991, 0.00133944002765, 0.000892960018435, 0.00256365940777, 0.00567461689135, 0.00303894457887, 0.00155547874179, 0.00537216269155, 0.0017283097131, 0.001253024542, 0.0040327226639, 0.00208837423666, 0.00763336789953, 0.00573222721512, 0.00433517686369, 0.00191554326535, 0.00164189422745, 0.000878557437493, 0.00234762069363, 0.000964972923148, 0.00687003110957, 0.00458002073972, 0.00604908399585, 0.000849752275608, 0.00573222721512, 0.00126742712294, 0.00439278718746, 0.00452241041595, 0.0102258324692, 0.00535776011061, 0.00178592003687, 0.00573222721512, 0.00650996658601, 0.00351422974997, 0.00119541421823, 0.00462322848254, 0.00334139877866, 0.00666839497638, 0.00638034335753, 0.00374467104505, 0.000676921304298, 0.00640914851941, 0.00638034335753, 0.0159724622652, 0.0111908053923, 0.00184353036064, 0.00205956907478, 0.00195875100818, 0.00210277681761, 0.000489687752045, 0.000475285171103, 0.000892960018435, 0.00214598456043, 0.00119541421823, 0.00112340131352, 0.00167069938933, 0.00123862196106, 0.00239082843646, 0.0164909551792, 0.0023044129508, 0.00930406728886, 0.00184353036064, 0.000849752275608, 0.00158428390368, 0.0146042170757, 0.0010513884088, 0.0409609402005, 0.000950570342205, 0.00807984790875, 0.000504090332988, 0.00040327226639, 0.00112340131352, 0.000302454199793, 0.000302454199793, 0.000388869685448, 0.000950570342205, 0.00040327226639, 0.00017283097131, 0.000244843876023, 0.00108019357069, 0.000388869685448, 0.000201636133195, 0.000302454199793, 0.000936167761263, 0.000489687752045, 0.000388869685448, 0.000360064523563, 0.00126742712294, 0.00113780389446, 0.00046088259016, 0.00074893420901, 0.000964972923148, 0.000374467104505, 0.000432077428275, 0.00034566194262, 0.00129623228483, 0.000489687752045, 0.000475285171103, 0.000532895494873, 0.000936167761263, 0.000316856780735, 0.000331259361678, 0.000532895494873, 0.00112340131352, 0.000446480009218, 0.000331259361678, 0.00046088259016, 0.00132503744671, 0.000705726466183, 0.00188673810347, 0.000964972923148, 0.00253485424588, 0.00207397165572, 0.00254925682682, 0.000446480009218, 0.00203076391289, 0.0013538426086, 0.000792141951838, 0.000561700656758, 0.00741732918539, 0.00466643622537, 0.0029813342551, 0.00747493950916, 0.00522813688213, 0.00080654453278, 0.00218919230326, 0.00417674847333, 0.00368706072128, 0.00237642585551, 0.000878557437493, 0.00138264777048, 0.0274657218574, 0.00122421938011, 0.00221799746515, 0.0011522064754, 0.00404712524484, 0.00396070975919, 0.00329819103583, 0.00247724392211, 0.0010513884088, 0.000489687752045, 0.00161308906556, 0.00349982716903, 0.00257806198871, 0.000907362599378, 0.00074893420901, 0.0010513884088, 0.000964972923148, 0.000720129047125, 0.00106579098975, 0.000835349694665, 0.00342781426432, 0.0018291277797, 0.00110899873257, 0.000619310980528, 0.00146906325614, 0.00292372393133, 0.000734531628068, 0.00086415485655, 0.015036294504, 0.00286611360756, 0.000720129047125, 0.00301013941698, 0.00589065560548, 0.000504090332988, 0.000504090332988, 0.00051849291393, 0.0033558013596, 0.00142585551331, 0.00205956907478, 0.00119541421823, 0.00239082843646, 0.00086415485655, 0.00328378845489, 0.00195875100818, 0.00496889042516, 0.00203076391289, 0.00138264777048, 0.00113780389446, 0.00557379882475, 0.00092176518032, 0.00187233552253, 0.0370578407651, 0.0, 0.311594202899, 0.0144927536232, 0.00724637681159, 0.0, 0.0, 0.0, 0.0, 0.0, 0.0, 0.0, 0.0, 0.00724637681159, 0.0, 0.0, 0.0, 0.0, 0.0, 0.0, 0.0, 0.0, 0.0, 0.0, 0.0, 0.0, 0.0, 0.0, 0.0, 0.0, 0.0, 0.0, 0.0, 0.0, 0.0, 0.0, 0.0, 0.0, 0.0, 0.0, 0.0, 0.0, 0.0, 0.0, 0.0, 0.0, 0.0, 0.0, 0.0, 0.0, 0.0, 0.18115942029, 0.036231884058, 0.0144927536232, 0.144927536232, 0.00724637681159, 0.0, 0.0, 0.0, 0.0, 0.0797101449275, 0.0, 0.0, 0.0, 0.0, 0.0579710144928, 0.0, 0.0, 0.036231884058, 0.0, 0.0, 0.101449275362, 0.0, 0.0, 0.0, 0.0, 0.0, 0.0, 0.0, 0.0, 0.0, 0.0, 0.0, 0.0, 0.0, 0.0, 0.0, 0.0, 0.0, 0.0, 0.0, 0.0, 0.0, 0.0, 0.0, 0.0, 0.0, 0.0, 0.0, 0.0, 0.0, 0.0, 0.0, 0.0, 0.0, 0.0, 0.0, 0.0, 0.0, 0.0, 0.0, 0.0, 0.0, 0.0, 0.0, 0.0, 0.0, 0.0, 0.0, 0.0, 0.0, 0.0, 0.0, 0.0, 0.0, 0.0, 0.0, 0.0, 0.0, 0.0, 0.0, 0.0, 0.0, 0.0, 0.0, 0.0, 0.0, 0.0, 0.0, 0.0, 0.0, 0.0, 0.0, 0.0, 0.0, 0.0, 0.0, 0.0, 0.0, 0.0, 0.0, 0.941731770833, 0.25, 0.25, 0.718059978704, 0.0265213291089]\n",
            "False\n"
          ]
        }
      ]
    },
    {
      "cell_type": "code",
      "source": [
        "#define a testscore function, which calculates the number of correctly classified examples in the test set.\n",
        "\n",
        "#Just the function definition\n",
        "def testscore(dat,labs):\n",
        "\n",
        "    #So presumably labs is the same labs as the output of getdat\n",
        "    #But dat will be a model object clf?\n",
        "\n",
        "    #genberate labvel preditions\n",
        "    yhats = clf.predict(dat)\n",
        "\n",
        "    #Match predictions and labels in usual way\n",
        "    correct = sum([yhats[i] == labs[i] for i in range(len(dat))])\n",
        "\n",
        "    #Retrun proportion correct\n",
        "    return(correct)"
      ],
      "metadata": {
        "id": "7PUZXOiWl8kK"
      },
      "execution_count": 5,
      "outputs": []
    },
    {
      "cell_type": "code",
      "source": [
        "#subplots?\n",
        "\n",
        "def plot_SVC(degrees,trainerr,testerr,traincorrect,testcorrect):\n",
        "\n",
        "  import matplotlib.pyplot as plt\n",
        "\n",
        "  fig = plt.figure()\n",
        "\n",
        "#ax1 = fig.add_subplot(211)\n",
        "#ax2 = fig.add_subplot(212)\n",
        "\n",
        "#Title doesn't seem to work with subplot axes and adding it to the overall figure creates big axes for the whole figure that underlay the subplots and presumably would need to be rendered invisible or white\n",
        "#plt.title('Overfitting in a SVM with higher polynomial degree') #note title pertains to a figure not an axis\n",
        "\n",
        "\n",
        "  #works too, more transparent and like matlab\n",
        "  ax1 = fig.add_subplot(2,2,1)\n",
        "  ax2 = fig.add_subplot(2,2,2)\n",
        "\n",
        "  ax1.scatter(degrees, trainerr)\n",
        "  ax1.plot(degrees, trainerr, label='training error')\n",
        "  ax1.scatter(degrees, testerr)\n",
        "  ax1.plot(degrees, testerr, label='test error')\n",
        "  ax1.legend()\n",
        "\n",
        "  ax2.scatter(degrees, traincorrect)\n",
        "  ax2.plot(degrees, traincorrect, label='training items')\n",
        "  ax2.scatter(degrees, testcorrect)\n",
        "  ax2.plot(degrees, testcorrect, label='test items')\n",
        "  ax2.legend()\n",
        "  #ax2.title('Proportion correct by polynomial kernel degree')\n",
        "  #plt.show()\n",
        "\n",
        "#Me learning and playing around:\n",
        "\n",
        "#range only works for ints - so annoying!\n",
        "#yrange = range(0,1,.2)\n",
        "yrange = [x / 10.0 for x in range(0, 7, 1)]\n",
        "print(yrange)\n",
        "\n",
        "ax1.set_xticks(degrees)\n",
        "ax1.tick_params(axis ='x', rotation = 45)\n",
        "ax1.set_yticks(yrange) \n",
        "\n",
        "ax2.set_xticks(degrees)\n",
        "ax2.set_yticks([x / 10.0 for x in range(0, 11, 2)]) \n",
        "\n"
      ],
      "metadata": {
        "colab": {
          "base_uri": "https://localhost:8080/"
        },
        "id": "N66SPG4q0bzL",
        "outputId": "a743bfa1-1af3-4100-9e6c-90d3e3dfb6ba"
      },
      "execution_count": 17,
      "outputs": [
        {
          "output_type": "stream",
          "name": "stdout",
          "text": [
            "[0.0, 0.1, 0.2, 0.3, 0.4, 0.5, 0.6]\n"
          ]
        },
        {
          "output_type": "execute_result",
          "data": {
            "text/plain": [
              "[<matplotlib.axis.YTick at 0x7f977f1ece20>,\n",
              " <matplotlib.axis.YTick at 0x7f977f1eca00>,\n",
              " <matplotlib.axis.YTick at 0x7f977f1a4640>,\n",
              " <matplotlib.axis.YTick at 0x7f977f22af10>,\n",
              " <matplotlib.axis.YTick at 0x7f977f22c040>,\n",
              " <matplotlib.axis.YTick at 0x7f977f1e9a00>]"
            ]
          },
          "metadata": {},
          "execution_count": 17
        }
      ]
    },
    {
      "cell_type": "code",
      "source": [
        "#Run SVM on training data and get accuracy on test data\n",
        "\n",
        "#POLY KERNEL\n",
        "\n",
        "#Initialise a list to hold accuracy values for each level of k (the number of nearest neighbors considered)\n",
        "acc = []\n",
        "\n",
        "#Appears to be number of observations in training to use. 4000 happens to be all of them\n",
        "m = 4000\n",
        "\n",
        "from sklearn import svm\n",
        "\n",
        "#initialise lists to hold errors\n",
        "trainerr = []\n",
        "testerr = []\n",
        "traincorrect = []\n",
        "testcorrect = []\n",
        "\n",
        "#polynomial degrees to loop through\n",
        "degrees = [0,1,2,3,4,5,6,7]\n",
        "\n",
        "for degree in degrees:\n",
        "\n",
        "  clf = svm.SVC(gamma='scale',kernel='poly', degree=degree)\n",
        "  clf.fit(traindat, trainlabs)  \n",
        "\n",
        "  #training data accuracy\n",
        "  pred = clf.predict(traindat)\n",
        "  trainerr += [sum([pred[i] != trainlabs[i] for i in range(len(trainlabs))]) / len(trainlabs)]\n",
        "  traincorrect += [sum([pred[i] == trainlabs[i] for i in range(len(trainlabs))]) / len(trainlabs)]\n",
        "\n",
        "  #test data accuracy\n",
        "  pred = clf.predict(testdat)\n",
        "  testerr += [sum([pred[i] != testlabs[i] for i in range(len(testlabs))]) / len(testlabs)]\n",
        "  testcorrect += [sum([pred[i] == testlabs[i] for i in range(len(testlabs))]) / len(testlabs)]\n",
        "\n",
        "  plot_SVC(degrees,trainerr,testerr,traincorrect,testcorrect)"
      ],
      "metadata": {
        "id": "NN9_0VkApAtB"
      },
      "execution_count": 14,
      "outputs": []
    },
    {
      "cell_type": "code",
      "source": [
        "plot_SVC(degrees,trainerr,testerr,traincorrect,testcorrect)"
      ],
      "metadata": {
        "id": "HK7jd2z2Hrxj",
        "outputId": "fb49261a-9be1-4a53-e9b5-e8ccd21c55f5",
        "colab": {
          "base_uri": "https://localhost:8080/",
          "height": 147
        }
      },
      "execution_count": 18,
      "outputs": [
        {
          "output_type": "display_data",
          "data": {
            "text/plain": [
              "<Figure size 432x288 with 2 Axes>"
            ],
            "image/png": "[encoded data removed]"
          },
          "metadata": {
            "needs_background": "light"
          }
        }
      ]
    },
    {
      "cell_type": "code",
      "source": [
        "#Run SVM on training data and get accuracy on test data\n",
        "\n",
        "#LINEAR KERNEL\n",
        "\n",
        "#Initialise a list to hold accuracy values for each level of k (the number of nearest neighbors considered)\n",
        "acc = []\n",
        "\n",
        "#Appears to be number of observations in training to use. 4000 happens to be all of them\n",
        "m = 4000\n",
        "\n",
        "from sklearn import svm\n",
        "\n",
        "#initialise lists to hold errors\n",
        "trainerr = []\n",
        "testerr = []\n",
        "traincorrect = []\n",
        "testcorrect = []\n",
        "\n",
        "#polynomial degrees to loop through\n",
        "degrees = [0,1,2,3,4,5,6,7]\n",
        "\n",
        "for degree in degrees:\n",
        "\n",
        "  clf = svm.SVC(gamma='scale',kernel='linear', degree=degree)\n",
        "  clf.fit(traindat, trainlabs)  \n",
        "\n",
        "  #training data accuracy\n",
        "  pred = clf.predict(traindat)\n",
        "  trainerr += [sum([pred[i] != trainlabs[i] for i in range(len(trainlabs))]) / len(trainlabs)]\n",
        "  traincorrect += [sum([pred[i] == trainlabs[i] for i in range(len(trainlabs))]) / len(trainlabs)]\n",
        "\n",
        "  #test data accuracy\n",
        "  pred = clf.predict(testdat)\n",
        "  testerr += [sum([pred[i] != testlabs[i] for i in range(len(testlabs))]) / len(testlabs)]\n",
        "  testcorrect += [sum([pred[i] == testlabs[i] for i in range(len(testlabs))]) / len(testlabs)]\n",
        "\n",
        "plot_SVC(degrees,trainerr,testerr,traincorrect,testcorrect)"
      ],
      "metadata": {
        "colab": {
          "base_uri": "https://localhost:8080/",
          "height": 147
        },
        "id": "x5iaQdlmH1kf",
        "outputId": "fe02486c-3b58-444c-c551-000987ba602b"
      },
      "execution_count": 22,
      "outputs": [
        {
          "output_type": "display_data",
          "data": {
            "text/plain": [
              "<Figure size 432x288 with 2 Axes>"
            ],
            "image/png": "[encoded data removed]"
          },
          "metadata": {
            "needs_background": "light"
          }
        }
      ]
    },
    {
      "cell_type": "code",
      "source": [
        "#Run SVM on training data and get accuracy on test data\n",
        "\n",
        "#SIGMOID KERNEL\n",
        "\n",
        "#Initialise a list to hold accuracy values for each level of k (the number of nearest neighbors considered)\n",
        "acc = []\n",
        "\n",
        "#Appears to be number of observations in training to use. 4000 happens to be all of them\n",
        "m = 4000\n",
        "\n",
        "from sklearn import svm\n",
        "\n",
        "#initialise lists to hold errors\n",
        "trainerr = []\n",
        "testerr = []\n",
        "traincorrect = []\n",
        "testcorrect = []\n",
        "\n",
        "#polynomial degrees to loop through\n",
        "degrees = [0,1,2,3,4,5,6,7]\n",
        "\n",
        "for degree in degrees:\n",
        "\n",
        "  clf = svm.SVC(gamma='scale',kernel='sigmoid', degree=degree)\n",
        "  clf.fit(traindat, trainlabs)  \n",
        "\n",
        "  #training data accuracy\n",
        "  pred = clf.predict(traindat)\n",
        "  trainerr += [sum([pred[i] != trainlabs[i] for i in range(len(trainlabs))]) / len(trainlabs)]\n",
        "  traincorrect += [sum([pred[i] == trainlabs[i] for i in range(len(trainlabs))]) / len(trainlabs)]\n",
        "\n",
        "  #test data accuracy\n",
        "  pred = clf.predict(testdat)\n",
        "  testerr += [sum([pred[i] != testlabs[i] for i in range(len(testlabs))]) / len(testlabs)]\n",
        "  testcorrect += [sum([pred[i] == testlabs[i] for i in range(len(testlabs))]) / len(testlabs)]\n",
        "\n",
        "print(traincorrect)\n",
        "print(testcorrect)\n",
        "\n",
        "plot_SVC(degrees,trainerr,testerr,traincorrect,testcorrect)"
      ],
      "metadata": {
        "outputId": "1852b6b2-c22b-48aa-fb4c-653657d44670",
        "colab": {
          "base_uri": "https://localhost:8080/",
          "height": 183
        },
        "id": "l7XMpWe0JqQY"
      },
      "execution_count": 26,
      "outputs": [
        {
          "output_type": "stream",
          "name": "stdout",
          "text": [
            "[0.51275, 0.51275, 0.51275, 0.51275, 0.51275, 0.51275, 0.51275, 0.51275]\n",
            "[0.5115, 0.5115, 0.5115, 0.5115, 0.5115, 0.5115, 0.5115, 0.5115]\n"
          ]
        },
        {
          "output_type": "display_data",
          "data": {
            "text/plain": [
              "<Figure size 432x288 with 2 Axes>"
            ],
            "image/png": "[encoded data removed]"
          },
          "metadata": {
            "needs_background": "light"
          }
        }
      ]
    },
    {
      "cell_type": "code",
      "source": [
        "#Run SVM on training data and get accuracy on test data\n",
        "\n",
        "#RADIAL BASIS FUNCTION KERNEL\n",
        "\n",
        "#Initialise a list to hold accuracy values for each level of k (the number of nearest neighbors considered)\n",
        "acc = []\n",
        "\n",
        "#Appears to be number of observations in training to use. 4000 happens to be all of them\n",
        "m = 4000\n",
        "\n",
        "from sklearn import svm\n",
        "\n",
        "#initialise lists to hold errors\n",
        "trainerr = []\n",
        "testerr = []\n",
        "traincorrect = []\n",
        "testcorrect = []\n",
        "\n",
        "#polynomial degrees to loop through\n",
        "degrees = [0,1,2,3,4,5,6,7]\n",
        "\n",
        "for degree in degrees:\n",
        "\n",
        "  clf = svm.SVC(gamma='scale',kernel='rbf', degree=degree)\n",
        "  clf.fit(traindat, trainlabs)  \n",
        "\n",
        "  #training data accuracy\n",
        "  pred = clf.predict(traindat)\n",
        "  trainerr += [sum([pred[i] != trainlabs[i] for i in range(len(trainlabs))]) / len(trainlabs)]\n",
        "  traincorrect += [sum([pred[i] == trainlabs[i] for i in range(len(trainlabs))]) / len(trainlabs)]\n",
        "\n",
        "  #test data accuracy\n",
        "  pred = clf.predict(testdat)\n",
        "  testerr += [sum([pred[i] != testlabs[i] for i in range(len(testlabs))]) / len(testlabs)]\n",
        "  testcorrect += [sum([pred[i] == testlabs[i] for i in range(len(testlabs))]) / len(testlabs)]\n",
        "\n",
        "plot_SVC(degrees,trainerr,testerr,traincorrect,testcorrect)"
      ],
      "metadata": {
        "colab": {
          "base_uri": "https://localhost:8080/",
          "height": 147
        },
        "id": "ySvyy_jVIWcU",
        "outputId": "0c501950-84fc-406e-8cb5-e4118bcbdd0f"
      },
      "execution_count": 23,
      "outputs": [
        {
          "output_type": "display_data",
          "data": {
            "text/plain": [
              "<Figure size 432x288 with 2 Axes>"
            ],
            "image/png": "[encoded data removed]"
          },
          "metadata": {
            "needs_background": "light"
          }
        }
      ]
    },
    {
      "cell_type": "code",
      "source": [
        "testcorrect\n"
      ],
      "metadata": {
        "id": "mXzwUDCXJCBS",
        "outputId": "afeca3d9-34e6-4663-a9f4-44bf7c468b66",
        "colab": {
          "base_uri": "https://localhost:8080/"
        }
      },
      "execution_count": 25,
      "outputs": [
        {
          "output_type": "execute_result",
          "data": {
            "text/plain": [
              "[0.8865, 0.8865, 0.8865, 0.8865, 0.8865, 0.8865, 0.8865, 0.8865]"
            ]
          },
          "metadata": {},
          "execution_count": 25
        }
      ]
    }
  ]
}