{
  "nbformat": 4,
  "nbformat_minor": 0,
  "metadata": {
    "colab": {
      "provenance": [],
      "authorship_tag": "ABX9TyN7JuXxhUyoc6Ou42S6AKat",
      "include_colab_link": true
    },
    "kernelspec": {
      "name": "python3",
      "display_name": "Python 3"
    },
    "language_info": {
      "name": "python"
    }
  },
  "cells": [
    {
      "cell_type": "markdown",
      "metadata": {
        "id": "view-in-github",
        "colab_type": "text"
      },
      "source": [
        "<a href=\"https://colab.research.google.com/github/nicholasfurl/Great-Courses/blob/main/Lesson13_blackjackDecisionTree.ipynb\" target=\"_parent\"><img src=\"https://colab.research.google.com/assets/colab-badge.svg\" alt=\"Open In Colab\"/></a>"
      ]
    },
    {
      "cell_type": "code",
      "execution_count": null,
      "metadata": {
        "id": "Cewe5wUZBghS"
      },
      "outputs": [],
      "source": [
        "#we train a model to learn a strategy for Blackjack using a decision tree regression."
      ]
    },
    {
      "cell_type": "code",
      "source": [],
      "metadata": {
        "id": "I6WT0Bz1MVEu"
      },
      "execution_count": null,
      "outputs": []
    }
  ]
}