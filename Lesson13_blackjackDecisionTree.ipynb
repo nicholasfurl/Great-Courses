{
  "nbformat": 4,
  "nbformat_minor": 0,
  "metadata": {
    "colab": {
      "provenance": [],
      "authorship_tag": "ABX9TyPSYktD2V9BApd4v6SoEMWf",
      "include_colab_link": true
    },
    "kernelspec": {
      "name": "python3",
      "display_name": "Python 3"
    },
    "language_info": {
      "name": "python"
    }
  },
  "cells": [
    {
      "cell_type": "markdown",
      "metadata": {
        "id": "view-in-github",
        "colab_type": "text"
      },
      "source": [
        "<a href=\"https://colab.research.google.com/github/nicholasfurl/Great-Courses/blob/main/Lesson13_blackjackDecisionTree.ipynb\" target=\"_parent\"><img src=\"https://colab.research.google.com/assets/colab-badge.svg\" alt=\"Open In Colab\"/></a>"
      ]
    },
    {
      "cell_type": "code",
      "execution_count": null,
      "metadata": {
        "id": "Cewe5wUZBghS"
      },
      "outputs": [],
      "source": [
        "#we train a model to learn a strategy for Blackjack using a decision tree regression."
      ]
    },
    {
      "cell_type": "code",
      "source": [
        "#WORKING code\n",
        "#As usual, for learning purposes, I'm going to define my working code block first\n",
        "#before function defs, even though it should be run after them, to better see \n",
        "#the role those functions need to play in the main code execution\n",
        "\n",
        "# action 0 is stay\n",
        "# action 1 is hit\n",
        "\n",
        "\n",
        "import graphviz \t\t\n",
        "from sklearn import tree\n",
        "import random\n",
        "\n",
        "#define a blackjack game\n",
        "import gym  #Contains games\n",
        "env = gym.make(\"Blackjack-v0\")  #Lesson's make of v0 is deprecated and produces an error. Need *-v1\n",
        "\n",
        "\n",
        "epochs = 5\n",
        "N = 100000\n",
        "epsilon = 0.1 #percent of time that action is random exploration\n",
        "clf = 0\n",
        "\n",
        "for epoch in range(epochs):\n",
        "\n",
        "  dat = []\n",
        "  lab = []\n",
        "  wins = 0\n",
        "\n",
        "  for _ in range(N):\n",
        "\n",
        "    done = False\n",
        "\n",
        "    #Observation is a three item \"tuple\" containing (for the execution I tried) 20, 6 and False. Tuples are unchangable\n",
        "    observation = env.reset()\n",
        "\n",
        "    while not done:\n",
        "      \n",
        "      # pick an action\n",
        "      action = actionpicker(clf, env, observation, epsilon)\n",
        "\n",
        "      #append to data list the observation and the resultant choice / action\n",
        "      dat += [observation + (action,)]\n",
        "\n",
        "      #Check on the reward feedback for that observation and action\n",
        "      #Done says whether the trial (hand?) is over\n",
        "      observation, reward, done, info = env.step(action)\n",
        "\n",
        "\n",
        "      if done:\n",
        "        target = reward\n",
        "      elif epoch == 0:\n",
        "        target = 0\n",
        "      else:\n",
        "        pred = clf.predict([observation + (0,), observation + (1,)])\n",
        "        target = max(pred)\n",
        "      lab += [target]\n",
        "      if reward > 0.0: wins += 1\n",
        "  clf = train(dat, lab)\n",
        "\n",
        "  dot_data = tree.export_graphviz(clf, # class_names = [-1, 0, 1],\n",
        "                                feature_names = [\"holding\", \"dealer\", \"ace\", \"action\"], filled=True, rounded=True) \n",
        "  graph = graphviz.Source(dot_data)\t\n",
        "  env.close()\n",
        "#  print(dat)\n",
        "  print(wins)\n",
        "graph"
      ],
      "metadata": {
        "id": "I6WT0Bz1MVEu"
      },
      "execution_count": null,
      "outputs": []
    },
    {
      "cell_type": "code",
      "source": [
        "#Skip: scratchpad code\n",
        "import gym  #Contains games\n",
        "env = gym.make(\"Blackjack-v1\")\n",
        "\n",
        "epoch = 5\n",
        "#print((for i in range(epoch)))\n",
        "\n",
        "observation = env.reset()\n",
        "print(observation)\n",
        "print(len(observation))\n",
        "print(observation[0])"
      ],
      "metadata": {
        "id": "ugHSZ7alNjoj",
        "outputId": "11aee4bd-10a2-4a3d-864d-efde7c80126e",
        "colab": {
          "base_uri": "https://localhost:8080/"
        }
      },
      "execution_count": null,
      "outputs": [
        {
          "output_type": "stream",
          "name": "stdout",
          "text": [
            "(20, 6, False)\n",
            "3\n",
            "20\n"
          ]
        },
        {
          "output_type": "stream",
          "name": "stderr",
          "text": [
            "/usr/local/lib/python3.8/dist-packages/gym/core.py:317: DeprecationWarning: \u001b[33mWARN: Initializing wrapper in old step API which returns one bool instead of two. It is recommended to set `new_step_api=True` to use new step API. This will be the default behaviour in future.\u001b[0m\n",
            "  deprecation(\n",
            "/usr/local/lib/python3.8/dist-packages/gym/wrappers/step_api_compatibility.py:39: DeprecationWarning: \u001b[33mWARN: Initializing environment in old step API which returns one bool instead of two. It is recommended to set `new_step_api=True` to use new step API. This will be the default behaviour in future.\u001b[0m\n",
            "  deprecation(\n"
          ]
        }
      ]
    }
  ]
}