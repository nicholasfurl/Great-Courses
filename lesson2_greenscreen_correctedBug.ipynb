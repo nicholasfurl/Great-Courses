{
  "nbformat": 4,
  "nbformat_minor": 0,
  "metadata": {
    "colab": {
      "provenance": [],
      "authorship_tag": "ABX9TyNpwQrwiubTv2vr162FV+YK",
      "include_colab_link": true
    },
    "kernelspec": {
      "name": "python3",
      "display_name": "Python 3"
    },
    "language_info": {
      "name": "python"
    }
  },
  "cells": [
    {
      "cell_type": "markdown",
      "metadata": {
        "id": "view-in-github",
        "colab_type": "text"
      },
      "source": [
        "<a href=\"https://colab.research.google.com/github/nicholasfurl/Great-Courses/blob/main/lesson2_greenscreen_correctedBug.ipynb\" target=\"_parent\"><img src=\"https://colab.research.google.com/assets/colab-badge.svg\" alt=\"Open In Colab\"/></a>"
      ]
    },
    {
      "cell_type": "code",
      "execution_count": 1,
      "metadata": {
        "id": "8VQQemCn6Ikc"
      },
      "outputs": [],
      "source": [
        "from tensorflow.keras.utils import load_img"
      ]
    },
    {
      "cell_type": "code",
      "source": [
        "!wget https://github.com/mlittmancs/great_courses_ml/raw/master/imgs/greenML.png"
      ],
      "metadata": {
        "colab": {
          "base_uri": "https://localhost:8080/"
        },
        "id": "jMKTqou76ZCD",
        "outputId": "b7c538c2-f03c-4d1d-834c-a59e97c0cc89"
      },
      "execution_count": 2,
      "outputs": [
        {
          "output_type": "stream",
          "name": "stdout",
          "text": [
            "--2022-12-25 20:11:55--  https://github.com/mlittmancs/great_courses_ml/raw/master/imgs/greenML.png\n",
            "Resolving github.com (github.com)... 140.82.112.3\n",
            "Connecting to github.com (github.com)|140.82.112.3|:443... connected.\n",
            "HTTP request sent, awaiting response... 302 Found\n",
            "Location: https://raw.githubusercontent.com/mlittmancs/great_courses_ml/master/imgs/greenML.png [following]\n",
            "--2022-12-25 20:11:56--  https://raw.githubusercontent.com/mlittmancs/great_courses_ml/master/imgs/greenML.png\n",
            "Resolving raw.githubusercontent.com (raw.githubusercontent.com)... 185.199.108.133, 185.199.109.133, 185.199.110.133, ...\n",
            "Connecting to raw.githubusercontent.com (raw.githubusercontent.com)|185.199.108.133|:443... connected.\n",
            "HTTP request sent, awaiting response... 200 OK\n",
            "Length: 1190198 (1.1M) [image/png]\n",
            "Saving to: ‘greenML.png’\n",
            "\n",
            "greenML.png         100%[===================>]   1.13M  --.-KB/s    in 0.05s   \n",
            "\n",
            "2022-12-25 20:11:56 (22.0 MB/s) - ‘greenML.png’ saved [1190198/1190198]\n",
            "\n"
          ]
        }
      ]
    },
    {
      "cell_type": "code",
      "source": [
        "img = load_img(\"greenML.png\")"
      ],
      "metadata": {
        "id": "Wcjpu-5Y6d2B"
      },
      "execution_count": 4,
      "outputs": []
    }
  ]
}