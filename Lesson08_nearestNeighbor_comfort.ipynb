{
  "nbformat": 4,
  "nbformat_minor": 0,
  "metadata": {
    "colab": {
      "provenance": [],
      "authorship_tag": "ABX9TyMyMuKESbmyYq05Ol631HE1",
      "include_colab_link": true
    },
    "kernelspec": {
      "name": "python3",
      "display_name": "Python 3"
    },
    "language_info": {
      "name": "python"
    }
  },
  "cells": [
    {
      "cell_type": "markdown",
      "metadata": {
        "id": "view-in-github",
        "colab_type": "text"
      },
      "source": [
        "<a href=\"https://colab.research.google.com/github/nicholasfurl/Great-Courses/blob/main/Lesson08_nearestNeighbor_comfort.ipynb\" target=\"_parent\"><img src=\"https://colab.research.google.com/assets/colab-badge.svg\" alt=\"Open In Colab\"/></a>"
      ]
    },
    {
      "cell_type": "code",
      "execution_count": null,
      "metadata": {
        "id": "Lg_3ByfSuthk"
      },
      "outputs": [],
      "source": [
        "#This notebook builds a classifier for comfortable climate based on relative humidity and temperature. \n",
        "#The classifiers we will use are decision trees and k-nearest neighbors."
      ]
    },
    {
      "cell_type": "code",
      "source": [
        "#I'm compromising ... I'll put this here for references purposes \n",
        "#or if something in a function needs a global import\n",
        "#But I won't run (at first) and will try to link imports to the functions\n",
        "#that need them where I can\n",
        "\n",
        "import random\n",
        "import matplotlib.pyplot as plt\n",
        "from sklearn import tree\n",
        "from sklearn import neighbors\n",
        "from sklearn.model_selection import train_test_split\n",
        "import numpy as np\n",
        "import pandas as pd\n",
        "import seaborn as sns   #based on matplot, meant for stats viz https://seaborn.pydata.org/. Will look forward to learning this!\n",
        "import math\n",
        "import graphviz "
      ],
      "metadata": {
        "id": "BD0StIjmu9Yx"
      },
      "execution_count": null,
      "outputs": []
    },
    {
      "cell_type": "code",
      "source": [
        "#aboveline computes a slope and intersept based on variables x1 and x2. \n",
        "#It then returns True if x3[1] is above the line defined by this slope and intercept.\n",
        "\n",
        "#Only the function definition\n",
        "def aboveline(x1,x2,x3):\n",
        "\n",
        "#Literally a slope, ratio of the transition between the points on one variable and the points on another\n",
        "#Odd, though, because transitions are between variables x1 and x2 rather than within a variable (where I would expect the \"variability\")\n",
        "#   x[1] = m * x[0] + b\n",
        "#   need to pick m and b so x1 and x2 are hit\n",
        "    m = (x2[1] - x1[1])/(x2[0] - x1[0])\n",
        "\n",
        "#Uses formula for a line to get b when x1[0], m and X1[1] are known\n",
        "#    b = x1[1] * (x2[0] - x1[0]) - (x2[1] - x1[1]) * x1[0]\n",
        "    b = x1[1] - m * x1[0]\n",
        "#    slope2 = (x3[1] - x1[1])/(x3[0]-x1[0])\n",
        "\n",
        "    #I think he means if x3[1] is higher than predicted by the line from x3[0]\n",
        "    return(x3[1] > m * x3[0] + b)"
      ],
      "metadata": {
        "id": "c8YbfDj2vTZQ"
      },
      "execution_count": 1,
      "outputs": []
    },
    {
      "cell_type": "code",
      "source": [
        "#comfort calculates if the temperature, relative humidity combination is comfortable\n",
        "#how?\n",
        "\n",
        "#Looks like this might return true or false depending on whether temperature (temp) and relative himidity (rh) fall within a comfort zone or not\n",
        "def comfort(temp,rh):\n",
        "#    rh,  temp\n",
        "#    86.5,67.1\n",
        "#    29.3,69.0\n",
        "# from https://www.azosensors.com/article.aspx?ArticleID=487\n",
        "\n",
        "\n",
        "#ok so we have two pairs of values and we test if the change across temp and rh exceeds that predicted by the m and b defined by the two pairs.\n",
        "#We do this twice and test if rh and tmp is above both of these predictions.\n",
        "#Then we have two more such pairs of values. And we do pairs like those twice but now we don't want the prediction of x3[1] from x3[0] to exceed those predictions\n",
        "#Looks like there's a romboid shaped comfort zone on the plot between temperature and humidity.\n",
        "#The line segments of the shape are oriented and so can be treated as lines with the points and the edges used to define the slopes.\n",
        "#We can then compute if a given temperature / humidity pair falls in between those lines or not\n",
        "\n",
        "    return(\n",
        "         aboveline([86.5,67.1],[29.3,69.0],[rh,temp]) and\n",
        "         aboveline([29.3,69.0],[23.0,76.0],[rh,temp]) and\n",
        "         not aboveline([23.0,76.0],[58.3,74.3],[rh,temp]) and\n",
        "         not aboveline([58.3,74.3],[86.5,67.1],[rh,temp]))"
      ],
      "metadata": {
        "id": "29hjuHbxxRSp"
      },
      "execution_count": 2,
      "outputs": []
    },
    {
      "cell_type": "code",
      "source": [
        "#we will create 500 random temperature relative humidity combinatons.\n",
        "#We will create training and test sets from them\n",
        "\n",
        "#OK, time to use one of these pandas dataframes.\n",
        "#It's basically a table with column labels\n",
        "\n",
        "import pandas as pd\n",
        "\n",
        "N = 10500\n",
        "\n",
        "#Create dataframe by loading in columns labels and a number of rows as arguments\n",
        "#Looks it iy is filled with NaNs at first\n",
        "all_dat = pd.DataFrame(columns=['temp (F)', 'relative humidity'], index=range(N))\n",
        "print(all_dat)\n",
        "\n",
        "#Looks like this runs with numpy but doesn't need \"import random\"\n",
        "import numpy as np\n",
        "\n",
        "\n",
        "\n",
        "#Looks like this produces a list of N random numbers taken from uniform distribution bounded by 65 and 77\n",
        "#And assigns it to the temp col of pandas array\n",
        "all_dat['temp (F)'] = np.random.uniform(65, 77, N)\n",
        "print(all_dat)\n",
        "\n",
        "#test = np.random.uniform(65, 77, N)\n",
        "#print(test)\n",
        "\n",
        "#do the same, but for humidity col instead\n",
        "all_dat['relative humidity'] = np.random.uniform(15,90, N)\n",
        "print(all_dat)\n",
        "\n",
        "#So the .loc method indexes the pandas array\n",
        "#So it takes every (ith) row, submits the temp / rh pair to comfort to get the True/False comfirt value\n",
        "#then it - creates a new column for the comfort values using series? (WE didn't need series when assigning cols of random nums ...)\n",
        "all_dat['labs'] = pd.Series([comfort(all_dat['temp (F)'].loc[i], all_dat['relative humidity'].loc[i]) for i in range(N)])\n",
        "print(all_dat)\n",
        "\n",
        "#This works by itself? Yes, it returns a bunch of Trues and Falses as expected\n",
        "#test1 = [comfort(all_dat['temp (F)'].loc[i], all_dat['relative humidity'].loc[i]) for i in range(N)]\n",
        "#print(test1)\n",
        "\n",
        "#How does this work with pandas?\n",
        "#This returns a new DataFrame, but including just the columns with names used to index all_dat\n",
        "#test2 = all_dat[['temp (F)', 'relative humidity']]\n",
        "#print(test2)\n",
        "\n",
        "#So get the temp and rh columsn of all_dat in one DataFrame and the labs in anothe DataFrame and \n",
        "#pass both DataFrames to train_test_split. Test_size seems to use 10,000 of its 10,500 items for some reason.\n",
        "from sklearn.model_selection import train_test_split  #we can't put all of sklearn in path? we have to import everything separately?\n",
        "dat, test_dat, labs, test_labs = train_test_split(all_dat[['temp (F)', 'relative humidity']],\n",
        "                                                  all_dat['labs'], test_size=10000)\n"
      ],
      "metadata": {
        "colab": {
          "base_uri": "https://localhost:8080/"
        },
        "id": "ZJfYRGkV0DdX",
        "outputId": "b9adbdec-4170-4c8b-9fb9-fc5a56df92cb"
      },
      "execution_count": 24,
      "outputs": [
        {
          "output_type": "stream",
          "name": "stdout",
          "text": [
            "      temp (F) relative humidity\n",
            "0          NaN               NaN\n",
            "1          NaN               NaN\n",
            "2          NaN               NaN\n",
            "3          NaN               NaN\n",
            "4          NaN               NaN\n",
            "...        ...               ...\n",
            "10495      NaN               NaN\n",
            "10496      NaN               NaN\n",
            "10497      NaN               NaN\n",
            "10498      NaN               NaN\n",
            "10499      NaN               NaN\n",
            "\n",
            "[10500 rows x 2 columns]\n",
            "        temp (F) relative humidity\n",
            "0      71.715287               NaN\n",
            "1      66.609524               NaN\n",
            "2      67.990298               NaN\n",
            "3      70.501493               NaN\n",
            "4      66.419717               NaN\n",
            "...          ...               ...\n",
            "10495  76.576554               NaN\n",
            "10496  65.920877               NaN\n",
            "10497  73.496618               NaN\n",
            "10498  69.736666               NaN\n",
            "10499  74.975015               NaN\n",
            "\n",
            "[10500 rows x 2 columns]\n",
            "        temp (F)  relative humidity\n",
            "0      71.715287          82.715008\n",
            "1      66.609524          24.294701\n",
            "2      67.990298          53.964926\n",
            "3      70.501493          49.806135\n",
            "4      66.419717          62.103073\n",
            "...          ...                ...\n",
            "10495  76.576554          16.532774\n",
            "10496  65.920877          53.833807\n",
            "10497  73.496618          41.436823\n",
            "10498  69.736666          84.948601\n",
            "10499  74.975015          67.261708\n",
            "\n",
            "[10500 rows x 2 columns]\n",
            "        temp (F)  relative humidity   labs\n",
            "0      71.715287          82.715008  False\n",
            "1      66.609524          24.294701  False\n",
            "2      67.990298          53.964926  False\n",
            "3      70.501493          49.806135   True\n",
            "4      66.419717          62.103073  False\n",
            "...          ...                ...    ...\n",
            "10495  76.576554          16.532774  False\n",
            "10496  65.920877          53.833807  False\n",
            "10497  73.496618          41.436823   True\n",
            "10498  69.736666          84.948601  False\n",
            "10499  74.975015          67.261708  False\n",
            "\n",
            "[10500 rows x 3 columns]\n"
          ]
        }
      ]
    },
    {
      "cell_type": "code",
      "source": [],
      "metadata": {
        "id": "NTpEFi3u5SCB",
        "outputId": "515f267a-2e5c-4f36-c6fe-21f991e75d66",
        "colab": {
          "base_uri": "https://localhost:8080/"
        }
      },
      "execution_count": 12,
      "outputs": [
        {
          "output_type": "stream",
          "name": "stdout",
          "text": [
            "[67.31904517 70.15268174 76.05778277 ... 66.86585621 70.39764706\n",
            " 72.78745428]\n"
          ]
        }
      ]
    }
  ]
}