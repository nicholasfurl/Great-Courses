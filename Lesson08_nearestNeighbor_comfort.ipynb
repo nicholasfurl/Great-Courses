{
  "nbformat": 4,
  "nbformat_minor": 0,
  "metadata": {
    "colab": {
      "provenance": [],
      "authorship_tag": "ABX9TyO+7/4mTTS/Y43EtAXX09MM",
      "include_colab_link": true
    },
    "kernelspec": {
      "name": "python3",
      "display_name": "Python 3"
    },
    "language_info": {
      "name": "python"
    }
  },
  "cells": [
    {
      "cell_type": "markdown",
      "metadata": {
        "id": "view-in-github",
        "colab_type": "text"
      },
      "source": [
        "<a href=\"https://colab.research.google.com/github/nicholasfurl/Great-Courses/blob/main/Lesson08_nearestNeighbor_comfort.ipynb\" target=\"_parent\"><img src=\"https://colab.research.google.com/assets/colab-badge.svg\" alt=\"Open In Colab\"/></a>"
      ]
    },
    {
      "cell_type": "code",
      "execution_count": null,
      "metadata": {
        "id": "Lg_3ByfSuthk"
      },
      "outputs": [],
      "source": [
        "#This notebook builds a classifier for comfortable climate based on relative humidity and temperature. \n",
        "#The classifiers we will use are decision trees and k-nearest neighbors."
      ]
    },
    {
      "cell_type": "code",
      "source": [
        "#I'm compromising ... I'll put this here for references purposes \n",
        "#or if something in a function needs a global import\n",
        "#But I won't run (at first) and will try to link imports to the functions\n",
        "#that need them where I can\n",
        "\n",
        "import random\n",
        "import matplotlib.pyplot as plt\n",
        "from sklearn import tree\n",
        "from sklearn import neighbors\n",
        "from sklearn.model_selection import train_test_split\n",
        "import numpy as np\n",
        "import pandas as pd\n",
        "import seaborn as sns   #based on matplot, meant for stats viz https://seaborn.pydata.org/. Will look forward to learning this!\n",
        "import math\n",
        "import graphviz "
      ],
      "metadata": {
        "id": "BD0StIjmu9Yx"
      },
      "execution_count": null,
      "outputs": []
    },
    {
      "cell_type": "code",
      "source": [
        "#aboveline computes a slope and intersept based on variables x1 and x2. \n",
        "#It then returns True if x3[1] is above the line defined by this slope and intercept.\n",
        "\n",
        "#Only the function definition\n",
        "def aboveline(x1,x2,x3):\n",
        "\n",
        "#Literally a slope, ratio of the transition between the points on one variable and the points on another\n",
        "#Odd, though, because transitions are between variables x1 and x2 rather than within a variable (where I would expect the \"variability\")\n",
        "#   x[1] = m * x[0] + b\n",
        "#   need to pick m and b so x1 and x2 are hit\n",
        "    m = (x2[1] - x1[1])/(x2[0] - x1[0])\n",
        "\n",
        "#Uses formula for a line to get b when x1[0], m and X1[1] are known\n",
        "#    b = x1[1] * (x2[0] - x1[0]) - (x2[1] - x1[1]) * x1[0]\n",
        "    b = x1[1] - m * x1[0]\n",
        "#    slope2 = (x3[1] - x1[1])/(x3[0]-x1[0])\n",
        "\n",
        "    #I think he means if x3[1] is higher than predicted by the line from x3[0]\n",
        "    return(x3[1] > m * x3[0] + b)"
      ],
      "metadata": {
        "id": "c8YbfDj2vTZQ"
      },
      "execution_count": 1,
      "outputs": []
    },
    {
      "cell_type": "code",
      "source": [
        "#comfort calculates if the temperature, relative humidity combination is comfortable\n",
        "#how?\n",
        "\n",
        "#Looks like this might return true or false depending on whether temperature (temp) and relative himidity (rh) fall within a comfort zone or not\n",
        "def comfort(temp,rh):\n",
        "#    rh,  temp\n",
        "#    86.5,67.1\n",
        "#    29.3,69.0\n",
        "# from https://www.azosensors.com/article.aspx?ArticleID=487\n",
        "\n",
        "\n",
        "#ok so we have two pairs of values and we test if the change across temp and rh exceeds that predicted by the m and b defined by the two pairs.\n",
        "#We do this twice and test if rh and tmp is above both of these predictions.\n",
        "#Then we have two more such pairs of values. And we do pairs like those twice but now we don't want the prediction of x3[1] from x3[0] to exceed those predictions\n",
        "#Looks like there's a romboid shaped comfort zone on the plot between temperature and humidity.\n",
        "#The line segments of the shape are oriented and so can be treated as lines with the points and the edges used to define the slopes.\n",
        "#We can then compute if a given temperature / humidity pair falls in between those lines or not\n",
        "\n",
        "    return(\n",
        "         aboveline([86.5,67.1],[29.3,69.0],[rh,temp]) and\n",
        "         aboveline([29.3,69.0],[23.0,76.0],[rh,temp]) and\n",
        "         not aboveline([23.0,76.0],[58.3,74.3],[rh,temp]) and\n",
        "         not aboveline([58.3,74.3],[86.5,67.1],[rh,temp]))"
      ],
      "metadata": {
        "id": "29hjuHbxxRSp"
      },
      "execution_count": 2,
      "outputs": []
    },
    {
      "cell_type": "code",
      "source": [
        "#we will create 500 random temperature relative humidity combinatons.\n",
        "#We will create training and test sets from them\n",
        "\n",
        "#OK, time to use one of these pandas dataframes.\n",
        "#It's basically a table with column labels\n",
        "\n",
        "import pandas as pd\n",
        "\n",
        "N = 10500\n",
        "\n",
        "#Create dataframe by loading in columns labels and a number of rows as arguments\n",
        "all_dat = pd.DataFrame(columns=['temp (F)', 'relative humidity'], index=range(N))\n",
        "\n",
        "\n",
        "all_dat['temp (F)'] = np.random.uniform(65, 77, N)\n",
        "all_dat['relative humidity'] = np.random.uniform(15,90, N)\n",
        "all_dat['labs'] = pd.Series([comfort(all_dat['temp (F)'].loc[i], all_dat['relative humidity'].loc[i]) for i in range(N)])\n",
        "\n",
        "dat, test_dat, labs, test_labs = train_test_split(all_dat[['temp (F)', 'relative humidity']],\n",
        "                                                  all_dat['labs'], test_size=10000)\n"
      ],
      "metadata": {
        "id": "ZJfYRGkV0DdX",
        "outputId": "1530d4a0-dc5e-4786-a379-018141b566ea",
        "colab": {
          "base_uri": "https://localhost:8080/",
          "height": 244
        }
      },
      "execution_count": 3,
      "outputs": [
        {
          "output_type": "error",
          "ename": "NameError",
          "evalue": "ignored",
          "traceback": [
            "\u001b[0;31m---------------------------------------------------------------------------\u001b[0m",
            "\u001b[0;31mNameError\u001b[0m                                 Traceback (most recent call last)",
            "\u001b[0;32m<ipython-input-3-7a3c4ef1dbd1>\u001b[0m in \u001b[0;36m<module>\u001b[0;34m\u001b[0m\n\u001b[1;32m      3\u001b[0m \u001b[0;34m\u001b[0m\u001b[0m\n\u001b[1;32m      4\u001b[0m \u001b[0mN\u001b[0m \u001b[0;34m=\u001b[0m \u001b[0;36m10500\u001b[0m\u001b[0;34m\u001b[0m\u001b[0;34m\u001b[0m\u001b[0m\n\u001b[0;32m----> 5\u001b[0;31m \u001b[0mall_dat\u001b[0m \u001b[0;34m=\u001b[0m \u001b[0mpd\u001b[0m\u001b[0;34m.\u001b[0m\u001b[0mDataFrame\u001b[0m\u001b[0;34m(\u001b[0m\u001b[0mcolumns\u001b[0m\u001b[0;34m=\u001b[0m\u001b[0;34m[\u001b[0m\u001b[0;34m'temp (F)'\u001b[0m\u001b[0;34m,\u001b[0m \u001b[0;34m'relative humidity'\u001b[0m\u001b[0;34m]\u001b[0m\u001b[0;34m,\u001b[0m \u001b[0mindex\u001b[0m\u001b[0;34m=\u001b[0m\u001b[0mrange\u001b[0m\u001b[0;34m(\u001b[0m\u001b[0mN\u001b[0m\u001b[0;34m)\u001b[0m\u001b[0;34m)\u001b[0m\u001b[0;34m\u001b[0m\u001b[0;34m\u001b[0m\u001b[0m\n\u001b[0m\u001b[1;32m      6\u001b[0m \u001b[0mall_dat\u001b[0m\u001b[0;34m[\u001b[0m\u001b[0;34m'temp (F)'\u001b[0m\u001b[0;34m]\u001b[0m \u001b[0;34m=\u001b[0m \u001b[0mnp\u001b[0m\u001b[0;34m.\u001b[0m\u001b[0mrandom\u001b[0m\u001b[0;34m.\u001b[0m\u001b[0muniform\u001b[0m\u001b[0;34m(\u001b[0m\u001b[0;36m65\u001b[0m\u001b[0;34m,\u001b[0m \u001b[0;36m77\u001b[0m\u001b[0;34m,\u001b[0m \u001b[0mN\u001b[0m\u001b[0;34m)\u001b[0m\u001b[0;34m\u001b[0m\u001b[0;34m\u001b[0m\u001b[0m\n\u001b[1;32m      7\u001b[0m \u001b[0mall_dat\u001b[0m\u001b[0;34m[\u001b[0m\u001b[0;34m'relative humidity'\u001b[0m\u001b[0;34m]\u001b[0m \u001b[0;34m=\u001b[0m \u001b[0mnp\u001b[0m\u001b[0;34m.\u001b[0m\u001b[0mrandom\u001b[0m\u001b[0;34m.\u001b[0m\u001b[0muniform\u001b[0m\u001b[0;34m(\u001b[0m\u001b[0;36m15\u001b[0m\u001b[0;34m,\u001b[0m\u001b[0;36m90\u001b[0m\u001b[0;34m,\u001b[0m \u001b[0mN\u001b[0m\u001b[0;34m)\u001b[0m\u001b[0;34m\u001b[0m\u001b[0;34m\u001b[0m\u001b[0m\n",
            "\u001b[0;31mNameError\u001b[0m: name 'pd' is not defined"
          ]
        }
      ]
    }
  ]
}