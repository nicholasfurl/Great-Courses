{
  "nbformat": 4,
  "nbformat_minor": 0,
  "metadata": {
    "colab": {
      "provenance": [],
      "authorship_tag": "ABX9TyODe+6R7CEVMiL0lzR0nBaN",
      "include_colab_link": true
    },
    "kernelspec": {
      "name": "python3",
      "display_name": "Python 3"
    },
    "language_info": {
      "name": "python"
    }
  },
  "cells": [
    {
      "cell_type": "markdown",
      "metadata": {
        "id": "view-in-github",
        "colab_type": "text"
      },
      "source": [
        "<a href=\"https://colab.research.google.com/github/nicholasfurl/Great-Courses/blob/main/Lesson14_convoNeuralNets.ipynb\" target=\"_parent\"><img src=\"https://colab.research.google.com/assets/colab-badge.svg\" alt=\"Open In Colab\"/></a>"
      ]
    },
    {
      "cell_type": "code",
      "execution_count": 1,
      "metadata": {
        "id": "FmDyizBl0u4j",
        "colab": {
          "base_uri": "https://localhost:8080/"
        },
        "outputId": "45b0fbad-30e5-4a79-c69a-cf5388a2b03d"
      },
      "outputs": [
        {
          "output_type": "stream",
          "name": "stdout",
          "text": [
            "Downloading data from https://storage.googleapis.com/tensorflow/keras-applications/vgg16/vgg16_weights_tf_dim_ordering_tf_kernels.h5\n",
            "553467096/553467096 [==============================] - 5s 0us/step\n"
          ]
        }
      ],
      "source": [
        "from keras.applications import vgg16\n",
        "\n",
        "model = vgg16.VGG16(weights='imagenet', include_top=True)"
      ]
    },
    {
      "cell_type": "code",
      "source": [
        "#So the lecture said that there's a translation invariant space built up from \n",
        "#the lower levels but the higher levels are concerned with the level of categorical distinction\n",
        "#we want to train here so we need to retrain these higher levels but not the lower ones\n",
        "\n",
        "model2 = model(model.input, model.layers[-2].output)"
      ],
      "metadata": {
        "id": "bqZF65cFuim9"
      },
      "execution_count": 3,
      "outputs": []
    },
    {
      "cell_type": "code",
      "source": [
        "print(model)"
      ],
      "metadata": {
        "colab": {
          "base_uri": "https://localhost:8080/"
        },
        "id": "9b-aPqf2u8si",
        "outputId": "2b011047-1b93-4784-ee07-96bc6db21114"
      },
      "execution_count": 5,
      "outputs": [
        {
          "output_type": "stream",
          "name": "stdout",
          "text": [
            "<keras.engine.functional.Functional object at 0x7f015f295d90>\n"
          ]
        }
      ]
    },
    {
      "cell_type": "code",
      "source": [
        "#images of cheese and foot tools?\n",
        "\n",
        "#Read in (from Lesson GitHib) and unzip, should be saved (temporarily) in on-line directory\n",
        "\n",
        "!wget https://github.com/mlittmancs/great_courses_ml/raw/master/imgs/tools.zip\n",
        "!unzip tools.zip"
      ],
      "metadata": {
        "colab": {
          "base_uri": "https://localhost:8080/"
        },
        "id": "2fXUiWrYxXmZ",
        "outputId": "456a9a51-b71b-4e4b-e800-5a8f99a32062"
      },
      "execution_count": 6,
      "outputs": [
        {
          "output_type": "stream",
          "name": "stdout",
          "text": [
            "--2023-01-03 08:47:20--  https://github.com/mlittmancs/great_courses_ml/raw/master/imgs/tools.zip\n",
            "Resolving github.com (github.com)... 140.82.114.3\n",
            "Connecting to github.com (github.com)|140.82.114.3|:443... connected.\n",
            "HTTP request sent, awaiting response... 302 Found\n",
            "Location: https://raw.githubusercontent.com/mlittmancs/great_courses_ml/master/imgs/tools.zip [following]\n",
            "--2023-01-03 08:47:20--  https://raw.githubusercontent.com/mlittmancs/great_courses_ml/master/imgs/tools.zip\n",
            "Resolving raw.githubusercontent.com (raw.githubusercontent.com)... 185.199.108.133, 185.199.109.133, 185.199.110.133, ...\n",
            "Connecting to raw.githubusercontent.com (raw.githubusercontent.com)|185.199.108.133|:443... connected.\n",
            "HTTP request sent, awaiting response... 200 OK\n",
            "Length: 2502460 (2.4M) [application/zip]\n",
            "Saving to: ‘tools.zip’\n",
            "\n",
            "tools.zip           100%[===================>]   2.39M  --.-KB/s    in 0.06s   \n",
            "\n",
            "2023-01-03 08:47:21 (37.0 MB/s) - ‘tools.zip’ saved [2502460/2502460]\n",
            "\n",
            "Archive:  tools.zip\n",
            "  inflating: cg01.jpeg               \n",
            "  inflating: cg02.jpeg               \n",
            "  inflating: cg03.jpeg               \n",
            "  inflating: cg04.jpeg               \n",
            "  inflating: cg05.jpeg               \n",
            "  inflating: cg06.jpeg               \n",
            "  inflating: cg07.jpeg               \n",
            "  inflating: cg08.jpeg               \n",
            "  inflating: cg09.jpeg               \n",
            "  inflating: cg10.jpeg               \n",
            "  inflating: ff01.jpeg               \n",
            "  inflating: ff02.jpeg               \n",
            "  inflating: ff03.jpeg               \n",
            "  inflating: ff04.jpeg               \n",
            "  inflating: ff05.jpeg               \n",
            "  inflating: ff06.jpeg               \n",
            "  inflating: ff07.jpeg               \n",
            "  inflating: ff08.jpeg               \n",
            "  inflating: ff09.jpeg               \n",
            "  inflating: ff10.jpeg               \n"
          ]
        }
      ]
    },
    {
      "cell_type": "code",
      "source": [
        "#List of image filenames\n",
        "#Isn't it easier to autodetect filenames than specify manually?\n",
        "#Lesson wanted me to manually specify names with code below but I learned to detect and sort them\n",
        "#Note: My version ends up with .jpeg on the end and Lesson's doesn't\n",
        "#imgflist = [\"cg01\", \"cg02\", \"cg03\", \"cg04\", \"cg05\", \"cg06\", \"cg07\", \"cg08\", \"cg09\", \"cg10\",\n",
        "#           \"ff01\", \"ff02\", \"ff03\", \"ff04\", \"ff05\", \"ff06\", \"ff07\", \"ff08\", \"ff09\", \"ff10\"]\n",
        "imgflist = r'*.jpeg'  #wildcard string for detection\n",
        "import glob     #Can use this to detect dir contents with wildcard string\n",
        "imgflist = glob.glob(imgflist)\n",
        "sorted(imgflist)  #now sort\n"
      ],
      "metadata": {
        "colab": {
          "base_uri": "https://localhost:8080/"
        },
        "id": "stsPVZy60JQS",
        "outputId": "f325e785-aaf7-49c7-d1b0-bf3da5c32cc4"
      },
      "execution_count": 17,
      "outputs": [
        {
          "output_type": "execute_result",
          "data": {
            "text/plain": [
              "['cg01.jpeg',\n",
              " 'cg02.jpeg',\n",
              " 'cg03.jpeg',\n",
              " 'cg04.jpeg',\n",
              " 'cg05.jpeg',\n",
              " 'cg06.jpeg',\n",
              " 'cg07.jpeg',\n",
              " 'cg08.jpeg',\n",
              " 'cg09.jpeg',\n",
              " 'cg10.jpeg',\n",
              " 'ff01.jpeg',\n",
              " 'ff02.jpeg',\n",
              " 'ff03.jpeg',\n",
              " 'ff04.jpeg',\n",
              " 'ff05.jpeg',\n",
              " 'ff06.jpeg',\n",
              " 'ff07.jpeg',\n",
              " 'ff08.jpeg',\n",
              " 'ff09.jpeg',\n",
              " 'ff10.jpeg']"
            ]
          },
          "metadata": {},
          "execution_count": 17
        }
      ]
    },
    {
      "cell_type": "code",
      "source": [
        "\n",
        "dat = []\n",
        "labs = []\n",
        "imgs = []\n",
        "\n",
        "#Import image processing tools (need firstly for image.img_toarray)\n",
        "#(The green screen lesson used 'import keras.utils as image' and the objects created\n",
        "#when printed identified as PIL. How is this import different?)\n",
        "#Note I think there's a capitalisation bug here (Image) in the Lesson version, which I've corrected\n",
        "from PIL import image\n",
        "from IPython.display import display #Ah, first time I've seen IPython so far\n",
        "\n",
        "#Import numpy, need firstly for np.expand_dims\n",
        "import numpy as np \n",
        "\n",
        "#preprocess_input is used below\n",
        "from keras.applications.vgg16 import preprocess_input\n",
        "\n",
        "for imgf in imgflist:\n",
        "\n",
        "#    img = image.load_img(imgf+\".jpeg\", target_size=(224,224))\n",
        "    img = image.load_img(imgf, target_size=(224,224)) #My autodetection already has .jpeg appended to filenames \n",
        "    imgs.append(img)  #Because Python can't just use iterator to assign data to list for some reason\n",
        "    \n",
        "    img_arr = np.expand_dims(image.img_to_array(img), axis=0)\n",
        "    x = preprocess_input(img_arr)\n",
        "    preds = model2.predict(x)\n",
        "    dat.append(preds[0])"
      ],
      "metadata": {
        "id": "dzT9dBbg8MBF"
      },
      "execution_count": null,
      "outputs": []
    },
    {
      "cell_type": "code",
      "source": [
        "#Skip this; just me learning how numpy.expand_dims works\n",
        "\n",
        "#The expand_dims() function is used to expand the shape of an array.\n",
        "#Insert a new axis that will appear at the axis position in the expanded array shape.\n",
        "\n",
        "#Import numpy, need firstly for np.expand_dims\n",
        "import numpy as np \n",
        "\n",
        "#So a effectively lists two entries.\n",
        "#I suppose this is the zeroth axis?\n",
        "a = np.array([2,4]) #Don't forget: You actually can't define an array w/o numpy!!\n",
        "print(a)\n",
        "print(a.shape)\n",
        "\n",
        "#So take the zeroth axis and expand into new axis\n",
        "#Output is now one entry with two entries within it\n",
        "b = np.expand_dims(a,axis=0)  \n",
        "print(b)\n",
        "print(b.shape)"
      ],
      "metadata": {
        "colab": {
          "base_uri": "https://localhost:8080/"
        },
        "id": "N7Yc60CB3kwk",
        "outputId": "99472f35-a7ec-4d18-cfc4-7e3b67f65b1b"
      },
      "execution_count": 19,
      "outputs": [
        {
          "output_type": "stream",
          "name": "stdout",
          "text": [
            "[2 4]\n",
            "(2,)\n",
            "[[2 4]]\n",
            "(1, 2)\n"
          ]
        }
      ]
    }
  ]
}