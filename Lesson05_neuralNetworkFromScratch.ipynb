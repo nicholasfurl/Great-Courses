{
  "nbformat": 4,
  "nbformat_minor": 0,
  "metadata": {
    "colab": {
      "provenance": [],
      "authorship_tag": "ABX9TyP5ROq2Ey8EqqNnVrfQEGBZ",
      "include_colab_link": true
    },
    "kernelspec": {
      "name": "python3",
      "display_name": "Python 3"
    },
    "language_info": {
      "name": "python"
    }
  },
  "cells": [
    {
      "cell_type": "markdown",
      "metadata": {
        "id": "view-in-github",
        "colab_type": "text"
      },
      "source": [
        "<a href=\"https://colab.research.google.com/github/nicholasfurl/Great-Courses/blob/main/Lesson05_neuralNetworkFromScratch.ipynb\" target=\"_parent\"><img src=\"https://colab.research.google.com/assets/colab-badge.svg\" alt=\"Open In Colab\"/></a>"
      ]
    },
    {
      "cell_type": "code",
      "execution_count": null,
      "metadata": {
        "id": "KYjo4UxW48B-"
      },
      "outputs": [],
      "source": [
        "########\n",
        "##This is supposed to learn to identify colors in the green screen of an image\n",
        "##and separate it from the foreground, like Lesson 1,\n",
        "##but using a neural network\n",
        "########"
      ]
    },
    {
      "cell_type": "code",
      "source": [
        "#Get image using unix command. Image does not come into workspace but appears in\n",
        "# what I guess is the equivalent of my user directory\n",
        "!wget https://github.com/mlittmancs/great_courses_ml/raw/master/imgs/greenML.png \n",
        "test = !pwd\n",
        "print('ACTIVE DIRECTORY: ', test)\n",
        "test = !ls\n",
        "print('CONTENTS OF ACTIVE DIRECTORY: ', test)"
      ],
      "metadata": {
        "colab": {
          "base_uri": "https://localhost:8080/"
        },
        "id": "hFPzJ4mi51CK",
        "outputId": "20b70a24-cfd6-4d14-e9c1-6446496af444"
      },
      "execution_count": 8,
      "outputs": [
        {
          "output_type": "stream",
          "name": "stdout",
          "text": [
            "--2023-01-01 10:45:08--  https://github.com/mlittmancs/great_courses_ml/raw/master/imgs/greenML.png\n",
            "Resolving github.com (github.com)... 140.82.112.3\n",
            "Connecting to github.com (github.com)|140.82.112.3|:443... connected.\n",
            "HTTP request sent, awaiting response... 302 Found\n",
            "Location: https://raw.githubusercontent.com/mlittmancs/great_courses_ml/master/imgs/greenML.png [following]\n",
            "--2023-01-01 10:45:09--  https://raw.githubusercontent.com/mlittmancs/great_courses_ml/master/imgs/greenML.png\n",
            "Resolving raw.githubusercontent.com (raw.githubusercontent.com)... 185.199.110.133, 185.199.108.133, 185.199.109.133, ...\n",
            "Connecting to raw.githubusercontent.com (raw.githubusercontent.com)|185.199.110.133|:443... connected.\n",
            "HTTP request sent, awaiting response... 200 OK\n",
            "Length: 1190198 (1.1M) [image/png]\n",
            "Saving to: ‘greenML.png.5’\n",
            "\n",
            "\rgreenML.png.5         0%[                    ]       0  --.-KB/s               \rgreenML.png.5       100%[===================>]   1.13M  --.-KB/s    in 0.05s   \n",
            "\n",
            "2023-01-01 10:45:09 (22.0 MB/s) - ‘greenML.png.5’ saved [1190198/1190198]\n",
            "\n",
            "ACTIVE DIRECTORY:  ['/content']\n",
            "CONTENTS OF ACTIVE DIRECTORY:  ['greenML.png    greenML.png.2  greenML.png.4  sample_data', 'greenML.png.1  greenML.png.3  greenML.png.5']\n"
          ]
        }
      ]
    }
  ]
}