{
  "nbformat": 4,
  "nbformat_minor": 0,
  "metadata": {
    "colab": {
      "provenance": [],
      "authorship_tag": "ABX9TyOOJG63/NhWZOW35eJDxQRf",
      "include_colab_link": true
    },
    "kernelspec": {
      "name": "python3",
      "display_name": "Python 3"
    },
    "language_info": {
      "name": "python"
    }
  },
  "cells": [
    {
      "cell_type": "markdown",
      "metadata": {
        "id": "view-in-github",
        "colab_type": "text"
      },
      "source": [
        "<a href=\"https://colab.research.google.com/github/nicholasfurl/Great-Courses/blob/main/Lesson04_neuralNetwork.ipynb\" target=\"_parent\"><img src=\"https://colab.research.google.com/assets/colab-badge.svg\" alt=\"Open In Colab\"/></a>"
      ]
    },
    {
      "cell_type": "code",
      "execution_count": null,
      "metadata": {
        "colab": {
          "base_uri": "https://localhost:8080/"
        },
        "id": "3PrLOHXAf7ya",
        "outputId": "0c63d925-5024-4d14-ee0d-27f8f27b24cb"
      },
      "outputs": [
        {
          "output_type": "stream",
          "name": "stdout",
          "text": [
            "       pixel1  pixel2  pixel3  pixel4  pixel5  pixel6  pixel7  pixel8  pixel9  \\\n",
            "0         0.0     0.0     0.0     0.0     0.0     0.0     0.0     0.0     0.0   \n",
            "1         0.0     0.0     0.0     0.0     0.0     0.0     0.0     0.0     0.0   \n",
            "2         0.0     0.0     0.0     0.0     0.0     0.0     0.0     0.0     0.0   \n",
            "3         0.0     0.0     0.0     0.0     0.0     0.0     0.0     0.0     0.0   \n",
            "4         0.0     0.0     0.0     0.0     0.0     0.0     0.0     0.0     0.0   \n",
            "...       ...     ...     ...     ...     ...     ...     ...     ...     ...   \n",
            "69995     0.0     0.0     0.0     0.0     0.0     0.0     0.0     0.0     0.0   \n",
            "69996     0.0     0.0     0.0     0.0     0.0     0.0     0.0     0.0     0.0   \n",
            "69997     0.0     0.0     0.0     0.0     0.0     0.0     0.0     0.0     0.0   \n",
            "69998     0.0     0.0     0.0     0.0     0.0     0.0     0.0     0.0     0.0   \n",
            "69999     0.0     0.0     0.0     0.0     0.0     0.0     0.0     0.0     0.0   \n",
            "\n",
            "       pixel10  ...  pixel775  pixel776  pixel777  pixel778  pixel779  \\\n",
            "0          0.0  ...       0.0       0.0       0.0       0.0       0.0   \n",
            "1          0.0  ...       0.0       0.0       0.0       0.0       0.0   \n",
            "2          0.0  ...       0.0       0.0       0.0       0.0       0.0   \n",
            "3          0.0  ...       0.0       0.0       0.0       0.0       0.0   \n",
            "4          0.0  ...       0.0       0.0       0.0       0.0       0.0   \n",
            "...        ...  ...       ...       ...       ...       ...       ...   \n",
            "69995      0.0  ...       0.0       0.0       0.0       0.0       0.0   \n",
            "69996      0.0  ...       0.0       0.0       0.0       0.0       0.0   \n",
            "69997      0.0  ...       0.0       0.0       0.0       0.0       0.0   \n",
            "69998      0.0  ...       0.0       0.0       0.0       0.0       0.0   \n",
            "69999      0.0  ...       0.0       0.0       0.0       0.0       0.0   \n",
            "\n",
            "       pixel780  pixel781  pixel782  pixel783  pixel784  \n",
            "0           0.0       0.0       0.0       0.0       0.0  \n",
            "1           0.0       0.0       0.0       0.0       0.0  \n",
            "2           0.0       0.0       0.0       0.0       0.0  \n",
            "3           0.0       0.0       0.0       0.0       0.0  \n",
            "4           0.0       0.0       0.0       0.0       0.0  \n",
            "...         ...       ...       ...       ...       ...  \n",
            "69995       0.0       0.0       0.0       0.0       0.0  \n",
            "69996       0.0       0.0       0.0       0.0       0.0  \n",
            "69997       0.0       0.0       0.0       0.0       0.0  \n",
            "69998       0.0       0.0       0.0       0.0       0.0  \n",
            "69999       0.0       0.0       0.0       0.0       0.0  \n",
            "\n",
            "[70000 rows x 784 columns]\n",
            "0        5\n",
            "1        0\n",
            "2        4\n",
            "3        1\n",
            "4        9\n",
            "        ..\n",
            "69995    2\n",
            "69996    3\n",
            "69997    4\n",
            "69998    5\n",
            "69999    6\n",
            "Name: class, Length: 70000, dtype: category\n",
            "Categories (10, object): ['0', '1', '2', '3', ..., '6', '7', '8', '9']\n"
          ]
        }
      ],
      "source": [
        "from sklearn.datasets import fetch_openml\n",
        "#I guess these are pandas format. Doc says it opens bundle but\n",
        "#X is DataFrame type with Value field describing pixel1, pixel 2 etc with 7000 values each\n",
        "#y is Series type with 7000 entries and one number for each entry (presumably labels)\n",
        "#plus y has Name field and appears to be defining nine categories stored in strings?\n",
        "#This seems to take a long time to run.\n",
        "X, y = fetch_openml('mnist_784', version=1, return_X_y=True)\n",
        "print(X)\n",
        "print(y)"
      ]
    },
    {
      "cell_type": "code",
      "source": [
        "#Lesson doesn't like pandas dataframe and wants to convert to numpy array\n",
        "#Presumably I need to import numpy for this\n",
        "import numpy as np\n",
        "X = np.array(X)\n",
        "y = np.array(y)\n",
        "print('X: '+str(X.shape)+'\\n'+str(X))\n",
        "print('y: '+str(y.shape)+'\\n'+str(y))\n"
      ],
      "metadata": {
        "colab": {
          "base_uri": "https://localhost:8080/"
        },
        "id": "PkUle9HvgSKc",
        "outputId": "a60ded55-d0d5-4295-e78f-ba8fed5cd367"
      },
      "execution_count": null,
      "outputs": [
        {
          "output_type": "stream",
          "name": "stdout",
          "text": [
            "X: (70000, 784)\n",
            "[[0. 0. 0. ... 0. 0. 0.]\n",
            " [0. 0. 0. ... 0. 0. 0.]\n",
            " [0. 0. 0. ... 0. 0. 0.]\n",
            " ...\n",
            " [0. 0. 0. ... 0. 0. 0.]\n",
            " [0. 0. 0. ... 0. 0. 0.]\n",
            " [0. 0. 0. ... 0. 0. 0.]]\n",
            "y: (70000,)\n",
            "['5' '0' '4' ... '4' '5' '6']\n"
          ]
        }
      ]
    },
    {
      "cell_type": "code",
      "source": [
        "#Looks like lesson wants to randomise the rows / stimulus order\n",
        "\n",
        "#Not sure how I feel about having to import every single thing from a completely different course. Lots to have to memorize.\n",
        "from sklearn.utils import check_random_state\n",
        "\n",
        "#RandomState type. 0 appears to be the seed (are 0 and None equivalent?)\n",
        "random_state = check_random_state(0)\n",
        "print('random_state: '+'\\n'+str(random_state))\n",
        "\n",
        "#Appears to be a 7000 element column (nd array) of random numbers. I can do this with one line in matlab without importing anything or creating extraneous objects. An improvement?\n",
        "permutation = random_state.permutation(X.shape[0])\n",
        "print('permutation: '+str(X.shape)+'\\n'+str(permutation))\n"
      ],
      "metadata": {
        "colab": {
          "base_uri": "https://localhost:8080/"
        },
        "id": "Lp7TaGOCkEBH",
        "outputId": "4e3157db-6f33-4de9-d212-561c0009ed42"
      },
      "execution_count": null,
      "outputs": [
        {
          "output_type": "stream",
          "name": "stdout",
          "text": [
            "random_state: \n",
            "RandomState(MT19937)\n",
            "permutation: (70000, 784)\n",
            "[10840 56267 14849 ... 42613 43567 68268]\n"
          ]
        }
      ]
    },
    {
      "cell_type": "code",
      "source": [
        "#This seems relatively transparent but don't forget things you've learned about Python:\n",
        "#You can index the rows of an ndarray without mentioning the columns (hence one number for index)\n",
        "#reshape has this -1 which will automatically compute the size of the remaining (fully determined) dimension after you've specified the rest already.\n",
        "\n",
        "#Randomise rows / stimuli in X (pixels) and y (labels) and then reshape X so that ?? It looks the same to me\n",
        "X = X[permutation]\n",
        "y = y[permutation]\n",
        "\n",
        "print('X before reshape: '+str(X.shape)+'\\n'+str(X))\n",
        "X = X.reshape((X.shape[0], -1))\n",
        "print('X after reshape: '+str(X.shape)+'\\n'+str(X))\n"
      ],
      "metadata": {
        "colab": {
          "base_uri": "https://localhost:8080/"
        },
        "id": "B7cvZfWTpHCo",
        "outputId": "89bbfc44-988d-48a2-bfcd-0a3bc8622537"
      },
      "execution_count": null,
      "outputs": [
        {
          "output_type": "stream",
          "name": "stdout",
          "text": [
            "X before reshape: (70000, 784)\n",
            "[[0. 0. 0. ... 0. 0. 0.]\n",
            " [0. 0. 0. ... 0. 0. 0.]\n",
            " [0. 0. 0. ... 0. 0. 0.]\n",
            " ...\n",
            " [0. 0. 0. ... 0. 0. 0.]\n",
            " [0. 0. 0. ... 0. 0. 0.]\n",
            " [0. 0. 0. ... 0. 0. 0.]]\n",
            "X after reshape: (70000, 784)\n",
            "[[0. 0. 0. ... 0. 0. 0.]\n",
            " [0. 0. 0. ... 0. 0. 0.]\n",
            " [0. 0. 0. ... 0. 0. 0.]\n",
            " ...\n",
            " [0. 0. 0. ... 0. 0. 0.]\n",
            " [0. 0. 0. ... 0. 0. 0.]\n",
            " [0. 0. 0. ... 0. 0. 0.]]\n"
          ]
        }
      ]
    },
    {
      "cell_type": "code",
      "source": [
        "#This sample code keeps redefining X and y and I worry they will not be correct if I need to rerun blocks. \n",
        "#In case I want to start over, apparently this code will delete all variables in \"workspace\"\n",
        "#Except apparently the obj iterator I create here (which, by the way, is for some reason a str!)\n",
        "#Ignore this when running ML lesson\n",
        "\n",
        "objects = dir()\n",
        "for obj in objects:\n",
        "  if not obj.startswith(\"__\"):\n",
        "    del( globals()[obj] )\n"
      ],
      "metadata": {
        "id": "JeNOKhxUqQ-P"
      },
      "execution_count": null,
      "outputs": []
    },
    {
      "cell_type": "code",
      "source": [
        "#So far sklearn has had .datasets, .model_selection and .utils plus function names within these to learn\n",
        "from sklearn.model_selection import train_test_split\n",
        "\n",
        "#From the doc on train_test_split, it appears the randomisation can be done by this function instead of doing it above (maybe?)\n",
        "#Doc also says this takes pandas DataFrames - did we need to convert to nparray?\n",
        "#From the doc, I wonder if python allows the arguments to be entered in any order, provided they have the right variable names?\n",
        "#Also, from the doc, I think you only need to specify train_size or test_size unless their sum doesn't equal the number of observations\n",
        "train_samples = 5000\n",
        "test_samples = 1000\n",
        "X_train, X_test, y_train, y_test = train_test_split(\n",
        "    X, y, train_size=train_samples, test_size=test_samples)"
      ],
      "metadata": {
        "id": "cL67Xokuun5N"
      },
      "execution_count": null,
      "outputs": []
    },
    {
      "cell_type": "code",
      "source": [
        "#visualise training stimulus / image / row\n",
        "\n",
        "#Gets the pixels and reshapes them\n",
        "#I would like to try to automatise the reshape\n",
        "#It's not apparent now that the stored data in mnist_784 specifies the image dimensions\n",
        "#Maybe it expects me to look it upo in documentation and specify manually.\n",
        "i=417 #Some arbitrary stimulus. I guess I'd need all those extra lines of codes to produce a random one?\n",
        "rows_reshaped_image = 28\n",
        "img = np.array(X_train[i]).reshape(rows_reshaped_image,-1)\n",
        "#print('img: '+str(img.shape)+'\\n'+str(img))\n"
      ],
      "metadata": {
        "id": "Cx3A-fT4yJyw"
      },
      "execution_count": null,
      "outputs": []
    },
    {
      "cell_type": "code",
      "source": [
        "#Looks like sometimes you just import, or use with or do from ... import\n",
        "#But when import ... as, then something with the as name that does not appear in workspace\n",
        "#needs to be addressed with dot operator. \n",
        "#Same with import numpy as np. Then np.array is how you convert to array.\n",
        "#I guess here plt.imshow is how you evoke plt's version of imshow\n",
        "\n",
        "#output the label for this image\n",
        "#(by the way, labels seem to match nums in image, a 2 label is a 2 in the image)\n",
        "print('label for '+str(i)+'th training image is: '+y_train[i])\n",
        "\n",
        "import matplotlib.pyplot as plt\n",
        "plt.imshow(img, cmap='gray', vmin=0, vmax=255)  #This seems to produce an error yet shows the stimulus image anyway????\n",
        "\n"
      ],
      "metadata": {
        "colab": {
          "base_uri": "https://localhost:8080/",
          "height": 628
        },
        "id": "ZE8EygJh1qiR",
        "outputId": "0b249e69-97ad-4e2d-db4a-d6a47d737fc3"
      },
      "execution_count": null,
      "outputs": [
        {
          "output_type": "stream",
          "name": "stdout",
          "text": [
            "label for 417th training image is: 1\n"
          ]
        },
        {
          "output_type": "error",
          "ename": "KeyError",
          "evalue": "ignored",
          "traceback": [
            "\u001b[0;31m---------------------------------------------------------------------------\u001b[0m",
            "\u001b[0;31mKeyError\u001b[0m                                  Traceback (most recent call last)",
            "\u001b[0;32m<ipython-input-73-35cfa04ccd04>\u001b[0m in \u001b[0;36m<module>\u001b[0;34m\u001b[0m\n\u001b[1;32m     10\u001b[0m \u001b[0;34m\u001b[0m\u001b[0m\n\u001b[1;32m     11\u001b[0m \u001b[0;32mimport\u001b[0m \u001b[0mmatplotlib\u001b[0m\u001b[0;34m.\u001b[0m\u001b[0mpyplot\u001b[0m \u001b[0;32mas\u001b[0m \u001b[0mplt\u001b[0m\u001b[0;34m\u001b[0m\u001b[0;34m\u001b[0m\u001b[0m\n\u001b[0;32m---> 12\u001b[0;31m \u001b[0mplt\u001b[0m\u001b[0;34m.\u001b[0m\u001b[0mimshow\u001b[0m\u001b[0;34m(\u001b[0m\u001b[0mimg\u001b[0m\u001b[0;34m,\u001b[0m \u001b[0mcmap\u001b[0m\u001b[0;34m=\u001b[0m\u001b[0;34m'gray'\u001b[0m\u001b[0;34m,\u001b[0m \u001b[0mvmin\u001b[0m\u001b[0;34m=\u001b[0m\u001b[0;36m0\u001b[0m\u001b[0;34m,\u001b[0m \u001b[0mvmax\u001b[0m\u001b[0;34m=\u001b[0m\u001b[0;36m255\u001b[0m\u001b[0;34m)\u001b[0m  \u001b[0;31m#This seems to produce an error yet shows the stimulus image anyway????\u001b[0m\u001b[0;34m\u001b[0m\u001b[0;34m\u001b[0m\u001b[0m\n\u001b[0m\u001b[1;32m     13\u001b[0m \u001b[0;34m\u001b[0m\u001b[0m\n",
            "\u001b[0;32m/usr/local/lib/python3.8/dist-packages/IPython/core/displayhook.py\u001b[0m in \u001b[0;36m__call__\u001b[0;34m(self, result)\u001b[0m\n\u001b[1;32m    261\u001b[0m             \u001b[0mself\u001b[0m\u001b[0;34m.\u001b[0m\u001b[0mwrite_output_prompt\u001b[0m\u001b[0;34m(\u001b[0m\u001b[0;34m)\u001b[0m\u001b[0;34m\u001b[0m\u001b[0;34m\u001b[0m\u001b[0m\n\u001b[1;32m    262\u001b[0m             \u001b[0mformat_dict\u001b[0m\u001b[0;34m,\u001b[0m \u001b[0mmd_dict\u001b[0m \u001b[0;34m=\u001b[0m \u001b[0mself\u001b[0m\u001b[0;34m.\u001b[0m\u001b[0mcompute_format_data\u001b[0m\u001b[0;34m(\u001b[0m\u001b[0mresult\u001b[0m\u001b[0;34m)\u001b[0m\u001b[0;34m\u001b[0m\u001b[0;34m\u001b[0m\u001b[0m\n\u001b[0;32m--> 263\u001b[0;31m             \u001b[0mself\u001b[0m\u001b[0;34m.\u001b[0m\u001b[0mupdate_user_ns\u001b[0m\u001b[0;34m(\u001b[0m\u001b[0mresult\u001b[0m\u001b[0;34m)\u001b[0m\u001b[0;34m\u001b[0m\u001b[0;34m\u001b[0m\u001b[0m\n\u001b[0m\u001b[1;32m    264\u001b[0m             \u001b[0mself\u001b[0m\u001b[0;34m.\u001b[0m\u001b[0mfill_exec_result\u001b[0m\u001b[0;34m(\u001b[0m\u001b[0mresult\u001b[0m\u001b[0;34m)\u001b[0m\u001b[0;34m\u001b[0m\u001b[0;34m\u001b[0m\u001b[0m\n\u001b[1;32m    265\u001b[0m             \u001b[0;32mif\u001b[0m \u001b[0mformat_dict\u001b[0m\u001b[0;34m:\u001b[0m\u001b[0;34m\u001b[0m\u001b[0;34m\u001b[0m\u001b[0m\n",
            "\u001b[0;32m/usr/local/lib/python3.8/dist-packages/IPython/core/displayhook.py\u001b[0m in \u001b[0;36mupdate_user_ns\u001b[0;34m(self, result)\u001b[0m\n\u001b[1;32m    199\u001b[0m \u001b[0;34m\u001b[0m\u001b[0m\n\u001b[1;32m    200\u001b[0m         \u001b[0;31m# Avoid recursive reference when displaying _oh/Out\u001b[0m\u001b[0;34m\u001b[0m\u001b[0;34m\u001b[0m\u001b[0;34m\u001b[0m\u001b[0m\n\u001b[0;32m--> 201\u001b[0;31m         \u001b[0;32mif\u001b[0m \u001b[0mself\u001b[0m\u001b[0;34m.\u001b[0m\u001b[0mcache_size\u001b[0m \u001b[0;32mand\u001b[0m \u001b[0mresult\u001b[0m \u001b[0;32mis\u001b[0m \u001b[0;32mnot\u001b[0m \u001b[0mself\u001b[0m\u001b[0;34m.\u001b[0m\u001b[0mshell\u001b[0m\u001b[0;34m.\u001b[0m\u001b[0muser_ns\u001b[0m\u001b[0;34m[\u001b[0m\u001b[0;34m'_oh'\u001b[0m\u001b[0;34m]\u001b[0m\u001b[0;34m:\u001b[0m\u001b[0;34m\u001b[0m\u001b[0;34m\u001b[0m\u001b[0m\n\u001b[0m\u001b[1;32m    202\u001b[0m             \u001b[0;32mif\u001b[0m \u001b[0mlen\u001b[0m\u001b[0;34m(\u001b[0m\u001b[0mself\u001b[0m\u001b[0;34m.\u001b[0m\u001b[0mshell\u001b[0m\u001b[0;34m.\u001b[0m\u001b[0muser_ns\u001b[0m\u001b[0;34m[\u001b[0m\u001b[0;34m'_oh'\u001b[0m\u001b[0;34m]\u001b[0m\u001b[0;34m)\u001b[0m \u001b[0;34m>=\u001b[0m \u001b[0mself\u001b[0m\u001b[0;34m.\u001b[0m\u001b[0mcache_size\u001b[0m \u001b[0;32mand\u001b[0m \u001b[0mself\u001b[0m\u001b[0;34m.\u001b[0m\u001b[0mdo_full_cache\u001b[0m\u001b[0;34m:\u001b[0m\u001b[0;34m\u001b[0m\u001b[0;34m\u001b[0m\u001b[0m\n\u001b[1;32m    203\u001b[0m                 \u001b[0mself\u001b[0m\u001b[0;34m.\u001b[0m\u001b[0mcull_cache\u001b[0m\u001b[0;34m(\u001b[0m\u001b[0;34m)\u001b[0m\u001b[0;34m\u001b[0m\u001b[0;34m\u001b[0m\u001b[0m\n",
            "\u001b[0;31mKeyError\u001b[0m: '_oh'"
          ]
        },
        {
          "output_type": "display_data",
          "data": {
            "text/plain": [
              "<Figure size 432x288 with 1 Axes>"
            ],
            "image/png": "[encoded data removed]"
          },
          "metadata": {
            "needs_background": "light"
          }
        }
      ]
    },
    {
      "cell_type": "code",
      "source": [
        "#Not sure why we need this. It produces an error and maybe also just displays everything that has been displayed.\n",
        "#But the display already seems to occur using plt.imshow\n",
        "#It comes from the lesson though\n",
        "plt.show"
      ],
      "metadata": {
        "colab": {
          "base_uri": "https://localhost:8080/",
          "height": 311
        },
        "id": "gbsQOPdQ2_1E",
        "outputId": "ea867be6-96fe-42d9-f9d6-97b64a8da271"
      },
      "execution_count": null,
      "outputs": [
        {
          "output_type": "error",
          "ename": "KeyError",
          "evalue": "ignored",
          "traceback": [
            "\u001b[0;31m---------------------------------------------------------------------------\u001b[0m",
            "\u001b[0;31mKeyError\u001b[0m                                  Traceback (most recent call last)",
            "\u001b[0;32m<ipython-input-65-a78f57101a5e>\u001b[0m in \u001b[0;36m<module>\u001b[0;34m\u001b[0m\n\u001b[0;32m----> 1\u001b[0;31m \u001b[0mplt\u001b[0m\u001b[0;34m.\u001b[0m\u001b[0mshow\u001b[0m\u001b[0;34m\u001b[0m\u001b[0;34m\u001b[0m\u001b[0m\n\u001b[0m",
            "\u001b[0;32m/usr/local/lib/python3.8/dist-packages/IPython/core/displayhook.py\u001b[0m in \u001b[0;36m__call__\u001b[0;34m(self, result)\u001b[0m\n\u001b[1;32m    261\u001b[0m             \u001b[0mself\u001b[0m\u001b[0;34m.\u001b[0m\u001b[0mwrite_output_prompt\u001b[0m\u001b[0;34m(\u001b[0m\u001b[0;34m)\u001b[0m\u001b[0;34m\u001b[0m\u001b[0;34m\u001b[0m\u001b[0m\n\u001b[1;32m    262\u001b[0m             \u001b[0mformat_dict\u001b[0m\u001b[0;34m,\u001b[0m \u001b[0mmd_dict\u001b[0m \u001b[0;34m=\u001b[0m \u001b[0mself\u001b[0m\u001b[0;34m.\u001b[0m\u001b[0mcompute_format_data\u001b[0m\u001b[0;34m(\u001b[0m\u001b[0mresult\u001b[0m\u001b[0;34m)\u001b[0m\u001b[0;34m\u001b[0m\u001b[0;34m\u001b[0m\u001b[0m\n\u001b[0;32m--> 263\u001b[0;31m             \u001b[0mself\u001b[0m\u001b[0;34m.\u001b[0m\u001b[0mupdate_user_ns\u001b[0m\u001b[0;34m(\u001b[0m\u001b[0mresult\u001b[0m\u001b[0;34m)\u001b[0m\u001b[0;34m\u001b[0m\u001b[0;34m\u001b[0m\u001b[0m\n\u001b[0m\u001b[1;32m    264\u001b[0m             \u001b[0mself\u001b[0m\u001b[0;34m.\u001b[0m\u001b[0mfill_exec_result\u001b[0m\u001b[0;34m(\u001b[0m\u001b[0mresult\u001b[0m\u001b[0;34m)\u001b[0m\u001b[0;34m\u001b[0m\u001b[0;34m\u001b[0m\u001b[0m\n\u001b[1;32m    265\u001b[0m             \u001b[0;32mif\u001b[0m \u001b[0mformat_dict\u001b[0m\u001b[0;34m:\u001b[0m\u001b[0;34m\u001b[0m\u001b[0;34m\u001b[0m\u001b[0m\n",
            "\u001b[0;32m/usr/local/lib/python3.8/dist-packages/IPython/core/displayhook.py\u001b[0m in \u001b[0;36mupdate_user_ns\u001b[0;34m(self, result)\u001b[0m\n\u001b[1;32m    199\u001b[0m \u001b[0;34m\u001b[0m\u001b[0m\n\u001b[1;32m    200\u001b[0m         \u001b[0;31m# Avoid recursive reference when displaying _oh/Out\u001b[0m\u001b[0;34m\u001b[0m\u001b[0;34m\u001b[0m\u001b[0;34m\u001b[0m\u001b[0m\n\u001b[0;32m--> 201\u001b[0;31m         \u001b[0;32mif\u001b[0m \u001b[0mself\u001b[0m\u001b[0;34m.\u001b[0m\u001b[0mcache_size\u001b[0m \u001b[0;32mand\u001b[0m \u001b[0mresult\u001b[0m \u001b[0;32mis\u001b[0m \u001b[0;32mnot\u001b[0m \u001b[0mself\u001b[0m\u001b[0;34m.\u001b[0m\u001b[0mshell\u001b[0m\u001b[0;34m.\u001b[0m\u001b[0muser_ns\u001b[0m\u001b[0;34m[\u001b[0m\u001b[0;34m'_oh'\u001b[0m\u001b[0;34m]\u001b[0m\u001b[0;34m:\u001b[0m\u001b[0;34m\u001b[0m\u001b[0;34m\u001b[0m\u001b[0m\n\u001b[0m\u001b[1;32m    202\u001b[0m             \u001b[0;32mif\u001b[0m \u001b[0mlen\u001b[0m\u001b[0;34m(\u001b[0m\u001b[0mself\u001b[0m\u001b[0;34m.\u001b[0m\u001b[0mshell\u001b[0m\u001b[0;34m.\u001b[0m\u001b[0muser_ns\u001b[0m\u001b[0;34m[\u001b[0m\u001b[0;34m'_oh'\u001b[0m\u001b[0;34m]\u001b[0m\u001b[0;34m)\u001b[0m \u001b[0;34m>=\u001b[0m \u001b[0mself\u001b[0m\u001b[0;34m.\u001b[0m\u001b[0mcache_size\u001b[0m \u001b[0;32mand\u001b[0m \u001b[0mself\u001b[0m\u001b[0;34m.\u001b[0m\u001b[0mdo_full_cache\u001b[0m\u001b[0;34m:\u001b[0m\u001b[0;34m\u001b[0m\u001b[0;34m\u001b[0m\u001b[0m\n\u001b[1;32m    203\u001b[0m                 \u001b[0mself\u001b[0m\u001b[0;34m.\u001b[0m\u001b[0mcull_cache\u001b[0m\u001b[0;34m(\u001b[0m\u001b[0;34m)\u001b[0m\u001b[0;34m\u001b[0m\u001b[0;34m\u001b[0m\u001b[0m\n",
            "\u001b[0;31mKeyError\u001b[0m: '_oh'"
          ]
        }
      ]
    },
    {
      "cell_type": "code",
      "source": [
        "#So far sklearn has had .datasets, .model_selection and .utils plus function names within these to learn\n",
        "#So in addition to these three, we also have just sklearn with no qualification!\n",
        "from sklearn import tree\n",
        "\n",
        "#Run decision tree ...\n",
        "num_leaves = 170\n",
        "#So I think the variable name must be max_leaf_nodes, which is why it doesn't just pass num_leaves or a number in as an argument directly.\n",
        "clf = tree.DecisionTreeClassifier(max_leaf_nodes = num_leaves)\t\n",
        "clf = clf.fit(X_train, y_train)\t\n",
        "\n",
        "#Get proportion correct\n",
        "correct = 0\t\t\t\t\t\t\n",
        "for i in range(len(X_test)):\t\n",
        "  if clf.predict([X_test[i]]) == y_test[i]: correct = correct + 1\n",
        "  acc = [100.0* correct / len(X_test)]\n",
        "print('Percentage correct for '+str(num_leaves)+' leaves: '+str(acc))\n"
      ],
      "metadata": {
        "colab": {
          "base_uri": "https://localhost:8080/"
        },
        "id": "QszDEBvM6CzE",
        "outputId": "12bbd124-e345-4d51-dd09-5df6dc98a761"
      },
      "execution_count": null,
      "outputs": [
        {
          "output_type": "stream",
          "name": "stdout",
          "text": [
            "Percentage correct for 170 leaves: [74.6]\n"
          ]
        }
      ]
    },
    {
      "cell_type": "code",
      "source": [
        "#Just for fun, I'd like to try iterating through leaves and tracking how percentage correct changes\n",
        "#I don't know how to make plots yet\n",
        "\n",
        "#We should be able to see that instructor is right: \n",
        "#Past about 170 leaves, the classifier never gets much better and sometimes can even flake and get worse\n",
        "\n",
        "#I had trouble assigning new values to an index in acc and even when it worked, \n",
        "#The printed output was incorrect and I didn't figure out why. Index-based assignment something to learn more about\n",
        "\n",
        "acc = []\n",
        "leaves = []\n",
        "\n",
        "leaf_vals = range(2, 1000, 20)\n",
        "#leaf_vals = range(500, 2000, 500)\n",
        "\n",
        "#for num_leaves in range(2, 1000, 20):\n",
        "for num_leaves in leaf_vals:\n",
        "\n",
        "\n",
        "  del(clf)\n",
        "\n",
        "  #decision tree\n",
        "  clf = tree.DecisionTreeClassifier(max_leaf_nodes = num_leaves)\t\n",
        "  clf = clf.fit(X_train, y_train)\t\n",
        "\n",
        "  #Get % correct\n",
        "  correct = 0\t\t\t\t\t\t\n",
        "  for i in range(len(X_test)):\t\n",
        "    if clf.predict([X_test[i]]) == y_test[i]: correct = correct + 1\n",
        "    #acc.append([100.0* correct / len(X_test)])    #So Python can't assign just using indexing???? That is so annoying! This is going to be problemmatic later on .....\n",
        "    acc = [100.0* correct / len(X_test)]    #So Python can't assign just using indexing???? That is so annoying! This is going to be problemmatic later on .....\n",
        "\n",
        "  #output result \n",
        "  #I shouldn't need to index but need to practice it  \n",
        "  print('leaves: '+str(num_leaves)+', % correct: '+str(acc))\n",
        " # print('leaves: '+str(num_leaves)+', % correct: '+str(acc[num_leaves]))\n",
        "  #print(acc[num_leaves]) \n",
        "  #print('Percentage correct for '+str(leaves[num_leaves])+' leaves: '+str(acc[num_leaves]))"
      ],
      "metadata": {
        "colab": {
          "base_uri": "https://localhost:8080/"
        },
        "id": "KgQwj9wuPQI9",
        "outputId": "1867e10b-7ff0-471c-ae8f-448280266ec9"
      },
      "execution_count": null,
      "outputs": [
        {
          "output_type": "stream",
          "name": "stdout",
          "text": [
            "leaves: 2, % correct: [21.2]\n",
            "leaves: 22, % correct: [64.4]\n",
            "leaves: 42, % correct: [69.5]\n",
            "leaves: 62, % correct: [70.9]\n",
            "leaves: 82, % correct: [71.9]\n",
            "leaves: 102, % correct: [72.2]\n",
            "leaves: 122, % correct: [72.6]\n",
            "leaves: 142, % correct: [73.5]\n",
            "leaves: 162, % correct: [74.3]\n",
            "leaves: 182, % correct: [74.5]\n",
            "leaves: 202, % correct: [74.4]\n",
            "leaves: 222, % correct: [75.0]\n",
            "leaves: 242, % correct: [75.7]\n",
            "leaves: 262, % correct: [74.7]\n",
            "leaves: 282, % correct: [75.3]\n",
            "leaves: 302, % correct: [74.4]\n",
            "leaves: 322, % correct: [74.7]\n",
            "leaves: 342, % correct: [74.9]\n",
            "leaves: 362, % correct: [74.1]\n",
            "leaves: 382, % correct: [74.9]\n",
            "leaves: 402, % correct: [73.7]\n",
            "leaves: 422, % correct: [74.1]\n",
            "leaves: 442, % correct: [73.8]\n",
            "leaves: 462, % correct: [74.4]\n",
            "leaves: 482, % correct: [73.2]\n",
            "leaves: 502, % correct: [74.8]\n",
            "leaves: 522, % correct: [74.6]\n",
            "leaves: 542, % correct: [75.3]\n",
            "leaves: 562, % correct: [76.7]\n",
            "leaves: 582, % correct: [76.0]\n",
            "leaves: 602, % correct: [74.8]\n",
            "leaves: 622, % correct: [73.7]\n",
            "leaves: 642, % correct: [74.2]\n",
            "leaves: 662, % correct: [74.9]\n",
            "leaves: 682, % correct: [74.8]\n",
            "leaves: 702, % correct: [75.3]\n",
            "leaves: 722, % correct: [75.2]\n",
            "leaves: 742, % correct: [74.9]\n",
            "leaves: 762, % correct: [74.8]\n",
            "leaves: 782, % correct: [75.8]\n",
            "leaves: 802, % correct: [74.5]\n",
            "leaves: 822, % correct: [75.6]\n",
            "leaves: 842, % correct: [75.1]\n",
            "leaves: 862, % correct: [75.1]\n",
            "leaves: 882, % correct: [74.3]\n",
            "leaves: 902, % correct: [74.9]\n",
            "leaves: 922, % correct: [75.3]\n",
            "leaves: 942, % correct: [75.8]\n",
            "leaves: 962, % correct: [75.3]\n",
            "leaves: 982, % correct: [75.5]\n"
          ]
        }
      ]
    },
    {
      "cell_type": "code",
      "source": [
        "#neural network time!\n",
        "#I think the lesson said this uses linear neurons\n",
        "#lesson code says perceptron.\n",
        "#I've set it to change the hidden layer size, given its own variable\n",
        "\n",
        "#So far sklearn has had .datasets, .model_selection, .utils and no qualification at all! ... Plus function names within these to learn\n",
        "#So in addition to these three, now we have .neural_network (and everything within it)\n",
        "\n",
        "from sklearn.neural_network import MLPClassifier\n",
        "\n",
        "hidden_size = [170, 170]  #I think this adds another hidden layer, although it didn't increase performance and may have decreased it slightly\n",
        "\n",
        "clf = MLPClassifier(hidden_layer_sizes=hidden_size, max_iter = 10000, activation = 'identity')\n",
        "clf.fit(X_train, y_train)\n",
        "score = clf.score(X_test, y_test)\n",
        "\n",
        "print('num hidden units: '+str(hidden_size)+', % correct: '+str(score))\n"
      ],
      "metadata": {
        "colab": {
          "base_uri": "https://localhost:8080/"
        },
        "id": "q4DK9qP5O_SN",
        "outputId": "27de1b2d-09b9-4c1b-9c57-0360606a8892"
      },
      "execution_count": null,
      "outputs": [
        {
          "output_type": "stream",
          "name": "stdout",
          "text": [
            "num hidden units: [170, 170], % correct: 0.852\n"
          ]
        }
      ]
    },
    {
      "cell_type": "code",
      "source": [
        "#So increases number of hidden units from 10 to 200\n",
        "for i in range(15,31):\n",
        "\n",
        "  nhidden = i*10\n",
        "  clf = MLPClassifier(hidden_layer_sizes=[nhidden], max_iter = 10000)\n",
        "  clf.fit(X_train, y_train)\n",
        "  score = clf.score(X_test, y_test)\n",
        "  \n",
        "  #print(nhidden, score)   #I could have done this the whole time! Still would like labels though\n",
        "  print('hidden: ', nhidden, ', % correct: ', score)   #I could have done this the whole time! Still would like labels though"
      ],
      "metadata": {
        "colab": {
          "base_uri": "https://localhost:8080/"
        },
        "id": "13bbWAnfNuzm",
        "outputId": "70e80a94-c495-48ed-859e-50ffe708f02e"
      },
      "execution_count": null,
      "outputs": [
        {
          "output_type": "stream",
          "name": "stdout",
          "text": [
            "hidden:  150 , % correct:  0.906\n",
            "hidden:  160 , % correct:  0.893\n",
            "hidden:  170 , % correct:  0.905\n",
            "hidden:  180 , % correct:  0.905\n",
            "hidden:  190 , % correct:  0.922\n",
            "hidden:  200 , % correct:  0.906\n",
            "hidden:  210 , % correct:  0.905\n",
            "hidden:  220 , % correct:  0.922\n",
            "hidden:  230 , % correct:  0.908\n",
            "hidden:  240 , % correct:  0.918\n",
            "hidden:  250 , % correct:  0.922\n",
            "hidden:  260 , % correct:  0.922\n",
            "hidden:  270 , % correct:  0.925\n",
            "hidden:  280 , % correct:  0.911\n",
            "hidden:  290 , % correct:  0.913\n",
            "hidden:  300 , % correct:  0.915\n"
          ]
        }
      ]
    },
    {
      "cell_type": "code",
      "source": [
        "#I guess there's some randomness in the optimization. This lesson wants to try the classifier a bunch of times\n",
        "# at the number of hidden units I suppose they thought produced the best performance\n",
        "#So why isn't that p-hacking??? (A few reasons ... We know the grond truth here and there is no frequentist inferential stats)\n",
        "\n",
        "import statistics;  #Need to compute mean\n",
        "\n",
        "nhidden = 250\n",
        "scores_accum = [];\n",
        "for i in range(10):\n",
        "\n",
        "  clf = MLPClassifier(hidden_layer_sizes=[nhidden], max_iter = 10000)\n",
        "  clf.fit(X_train, y_train)\n",
        "  score = clf.score(X_test, y_test)\n",
        "  \n",
        "  print('run: ', i, ', % correct: ', score)\n",
        "  \n",
        "  scores_accum.append(score)\n",
        "  \n",
        "print('mean % correct: ', statistics.mean(scores_accum))"
      ],
      "metadata": {
        "colab": {
          "base_uri": "https://localhost:8080/"
        },
        "id": "rgPjl7eXUT9Q",
        "outputId": "99059d06-548c-4866-f96a-16ba739245c5"
      },
      "execution_count": null,
      "outputs": [
        {
          "output_type": "stream",
          "name": "stdout",
          "text": [
            "run:  0 , % correct:  0.908\n",
            "run:  1 , % correct:  0.923\n",
            "run:  2 , % correct:  0.928\n",
            "run:  3 , % correct:  0.923\n",
            "run:  4 , % correct:  0.9\n",
            "run:  5 , % correct:  0.914\n",
            "run:  6 , % correct:  0.913\n",
            "run:  7 , % correct:  0.927\n",
            "run:  8 , % correct:  0.9\n",
            "run:  9 , % correct:  0.921\n",
            "mean % correct:  0.9157000000000001\n"
          ]
        }
      ]
    },
    {
      "cell_type": "code",
      "source": [
        "statistics.mean(scores_accum)"
      ],
      "metadata": {
        "colab": {
          "base_uri": "https://localhost:8080/"
        },
        "id": "Kjdh8ZCFWsy4",
        "outputId": "2873a0ce-04aa-4461-c869-2e27706f188b"
      },
      "execution_count": null,
      "outputs": [
        {
          "output_type": "execute_result",
          "data": {
            "text/plain": [
              "0.9094"
            ]
          },
          "metadata": {},
          "execution_count": 16
        }
      ]
    },
    {
      "cell_type": "code",
      "source": [
        "\n"
      ],
      "metadata": {
        "id": "0Hb8AZI8PXw9"
      },
      "execution_count": null,
      "outputs": []
    }
  ]
}