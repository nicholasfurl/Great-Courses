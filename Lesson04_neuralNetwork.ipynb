{
  "nbformat": 4,
  "nbformat_minor": 0,
  "metadata": {
    "colab": {
      "provenance": [],
      "authorship_tag": "ABX9TyO5iynGW/mB0zLcJydrXND+",
      "include_colab_link": true
    },
    "kernelspec": {
      "name": "python3",
      "display_name": "Python 3"
    },
    "language_info": {
      "name": "python"
    }
  },
  "cells": [
    {
      "cell_type": "markdown",
      "metadata": {
        "id": "view-in-github",
        "colab_type": "text"
      },
      "source": [
        "<a href=\"https://colab.research.google.com/github/nicholasfurl/Great-Courses/blob/main/Lesson04_neuralNetwork.ipynb\" target=\"_parent\"><img src=\"https://colab.research.google.com/assets/colab-badge.svg\" alt=\"Open In Colab\"/></a>"
      ]
    },
    {
      "cell_type": "code",
      "execution_count": 52,
      "metadata": {
        "colab": {
          "base_uri": "https://localhost:8080/"
        },
        "id": "3PrLOHXAf7ya",
        "outputId": "bee714fd-fc36-463e-849d-20f22b10a2f4"
      },
      "outputs": [
        {
          "output_type": "stream",
          "name": "stdout",
          "text": [
            "       pixel1  pixel2  pixel3  pixel4  pixel5  pixel6  pixel7  pixel8  pixel9  \\\n",
            "0         0.0     0.0     0.0     0.0     0.0     0.0     0.0     0.0     0.0   \n",
            "1         0.0     0.0     0.0     0.0     0.0     0.0     0.0     0.0     0.0   \n",
            "2         0.0     0.0     0.0     0.0     0.0     0.0     0.0     0.0     0.0   \n",
            "3         0.0     0.0     0.0     0.0     0.0     0.0     0.0     0.0     0.0   \n",
            "4         0.0     0.0     0.0     0.0     0.0     0.0     0.0     0.0     0.0   \n",
            "...       ...     ...     ...     ...     ...     ...     ...     ...     ...   \n",
            "69995     0.0     0.0     0.0     0.0     0.0     0.0     0.0     0.0     0.0   \n",
            "69996     0.0     0.0     0.0     0.0     0.0     0.0     0.0     0.0     0.0   \n",
            "69997     0.0     0.0     0.0     0.0     0.0     0.0     0.0     0.0     0.0   \n",
            "69998     0.0     0.0     0.0     0.0     0.0     0.0     0.0     0.0     0.0   \n",
            "69999     0.0     0.0     0.0     0.0     0.0     0.0     0.0     0.0     0.0   \n",
            "\n",
            "       pixel10  ...  pixel775  pixel776  pixel777  pixel778  pixel779  \\\n",
            "0          0.0  ...       0.0       0.0       0.0       0.0       0.0   \n",
            "1          0.0  ...       0.0       0.0       0.0       0.0       0.0   \n",
            "2          0.0  ...       0.0       0.0       0.0       0.0       0.0   \n",
            "3          0.0  ...       0.0       0.0       0.0       0.0       0.0   \n",
            "4          0.0  ...       0.0       0.0       0.0       0.0       0.0   \n",
            "...        ...  ...       ...       ...       ...       ...       ...   \n",
            "69995      0.0  ...       0.0       0.0       0.0       0.0       0.0   \n",
            "69996      0.0  ...       0.0       0.0       0.0       0.0       0.0   \n",
            "69997      0.0  ...       0.0       0.0       0.0       0.0       0.0   \n",
            "69998      0.0  ...       0.0       0.0       0.0       0.0       0.0   \n",
            "69999      0.0  ...       0.0       0.0       0.0       0.0       0.0   \n",
            "\n",
            "       pixel780  pixel781  pixel782  pixel783  pixel784  \n",
            "0           0.0       0.0       0.0       0.0       0.0  \n",
            "1           0.0       0.0       0.0       0.0       0.0  \n",
            "2           0.0       0.0       0.0       0.0       0.0  \n",
            "3           0.0       0.0       0.0       0.0       0.0  \n",
            "4           0.0       0.0       0.0       0.0       0.0  \n",
            "...         ...       ...       ...       ...       ...  \n",
            "69995       0.0       0.0       0.0       0.0       0.0  \n",
            "69996       0.0       0.0       0.0       0.0       0.0  \n",
            "69997       0.0       0.0       0.0       0.0       0.0  \n",
            "69998       0.0       0.0       0.0       0.0       0.0  \n",
            "69999       0.0       0.0       0.0       0.0       0.0  \n",
            "\n",
            "[70000 rows x 784 columns]\n",
            "0        5\n",
            "1        0\n",
            "2        4\n",
            "3        1\n",
            "4        9\n",
            "        ..\n",
            "69995    2\n",
            "69996    3\n",
            "69997    4\n",
            "69998    5\n",
            "69999    6\n",
            "Name: class, Length: 70000, dtype: category\n",
            "Categories (10, object): ['0', '1', '2', '3', ..., '6', '7', '8', '9']\n"
          ]
        }
      ],
      "source": [
        "from sklearn.datasets import fetch_openml\n",
        "#I guess these are pandas format. Doc says it opens bundle but\n",
        "#X is DataFrame type with Value field describing pixel1, pixel 2 etc with 7000 values each\n",
        "#y is Series type with 7000 entries and one number for each entry (presumably labels)\n",
        "#plus y has Name field and appears to be defining nine categories stored in strings?\n",
        "#This seems to take a long time to run.\n",
        "X, y = fetch_openml('mnist_784', version=1, return_X_y=True)\n",
        "print(X)\n",
        "print(y)"
      ]
    },
    {
      "cell_type": "code",
      "source": [
        "#Lesson doesn't like panda dataframe and wants to convert to numpy array\n",
        "#Presumably I need to import numpy for this\n",
        "import numpy as np\n",
        "X = np.array(X)\n",
        "y = np.array(y)\n",
        "print('X: '+str(X.shape)+'\\n'+str(X))\n",
        "print('y: '+str(y.shape)+'\\n'+str(y))\n"
      ],
      "metadata": {
        "colab": {
          "base_uri": "https://localhost:8080/"
        },
        "id": "PkUle9HvgSKc",
        "outputId": "8b095821-7b8e-4445-feec-4bc9e36cfbd2"
      },
      "execution_count": 54,
      "outputs": [
        {
          "output_type": "stream",
          "name": "stdout",
          "text": [
            "X: (70000, 784)\n",
            "[[0. 0. 0. ... 0. 0. 0.]\n",
            " [0. 0. 0. ... 0. 0. 0.]\n",
            " [0. 0. 0. ... 0. 0. 0.]\n",
            " ...\n",
            " [0. 0. 0. ... 0. 0. 0.]\n",
            " [0. 0. 0. ... 0. 0. 0.]\n",
            " [0. 0. 0. ... 0. 0. 0.]]\n",
            "y: (70000,)\n",
            "['5' '0' '4' ... '4' '5' '6']\n"
          ]
        }
      ]
    },
    {
      "cell_type": "code",
      "source": [
        "#Looks like lesson wants to randomise the rows / stimulus order\n",
        "\n",
        "#Not sure how I feel about having to import every single thing from a completely different course. Lots to have to memorize.\n",
        "from sklearn.utils import check_random_state\n",
        "\n",
        "#RandomState type. 0 appears to be the seed (are 0 and None equivalent?)\n",
        "random_state = check_random_state(0)\n",
        "print('random_state: '+'\\n'+str(random_state))\n",
        "\n",
        "#Appears to be a 7000 element column (nd array) of random numbers. I can do this with one line in matlab without importing anything or creating extraneous objects. An improvement?\n",
        "permutation = random_state.permutation(X.shape[0])\n",
        "print('permutation: '+str(X.shape)+'\\n'+str(permutation))\n"
      ],
      "metadata": {
        "colab": {
          "base_uri": "https://localhost:8080/"
        },
        "id": "Lp7TaGOCkEBH",
        "outputId": "7c1c029e-afe0-4d80-dd87-a24d5b2a2f49"
      },
      "execution_count": 55,
      "outputs": [
        {
          "output_type": "stream",
          "name": "stdout",
          "text": [
            "random_state: \n",
            "RandomState(MT19937)\n",
            "permutation: (70000, 784)\n",
            "[10840 56267 14849 ... 42613 43567 68268]\n"
          ]
        }
      ]
    },
    {
      "cell_type": "code",
      "source": [
        "#This seems relatively transparent but don't forget things you've learned about Python:\n",
        "#You can index the rows of an adarray without mentioning the columns (hence one number for index)\n",
        "#reshape has this -1 which will automatically compute the size of the remaining (fully determined) dimension after you've specified the rest already.\n",
        "\n",
        "#Randomise rows / stimuli in X (pixels) and y (labels) and then reshape X so that ?? It looks the same to me\n",
        "X = X[permutation]\n",
        "y = y[permutation]\n",
        "\n",
        "print('X before reshape: '+str(X.shape)+'\\n'+str(X))\n",
        "X = X.reshape((X.shape[0], -1))\n",
        "print('X after reshape: '+str(X.shape)+'\\n'+str(X))\n"
      ],
      "metadata": {
        "colab": {
          "base_uri": "https://localhost:8080/"
        },
        "id": "B7cvZfWTpHCo",
        "outputId": "48c3f5b4-96ba-462a-9f14-f32372c07375"
      },
      "execution_count": 56,
      "outputs": [
        {
          "output_type": "stream",
          "name": "stdout",
          "text": [
            "X before reshape: (70000, 784)\n",
            "[[0. 0. 0. ... 0. 0. 0.]\n",
            " [0. 0. 0. ... 0. 0. 0.]\n",
            " [0. 0. 0. ... 0. 0. 0.]\n",
            " ...\n",
            " [0. 0. 0. ... 0. 0. 0.]\n",
            " [0. 0. 0. ... 0. 0. 0.]\n",
            " [0. 0. 0. ... 0. 0. 0.]]\n",
            "X after reshape: (70000, 784)\n",
            "[[0. 0. 0. ... 0. 0. 0.]\n",
            " [0. 0. 0. ... 0. 0. 0.]\n",
            " [0. 0. 0. ... 0. 0. 0.]\n",
            " ...\n",
            " [0. 0. 0. ... 0. 0. 0.]\n",
            " [0. 0. 0. ... 0. 0. 0.]\n",
            " [0. 0. 0. ... 0. 0. 0.]]\n"
          ]
        }
      ]
    },
    {
      "cell_type": "code",
      "source": [
        "#This sample code keeps redefining X and y and I worry they will not be correct if I need to rerun blocks. \n",
        "#In case I want to start over, apparently this code will delete all variables in \"workspace\"\n",
        "#Except apparently the obj iterator I create here (which, by the way, is for some reason a str!)\n",
        "#Ignore this when running ML lesson\n",
        "\n",
        "objects = dir()\n",
        "for obj in objects:\n",
        "  if not obj.startswith(\"__\"):\n",
        "    del( globals()[obj] )\n"
      ],
      "metadata": {
        "id": "JeNOKhxUqQ-P"
      },
      "execution_count": 50,
      "outputs": []
    },
    {
      "cell_type": "code",
      "source": [
        "#So far sklearn has had .datasets, .model_selection and .utils plus function names within these to learn\n",
        "from sklearn.model_selection import train_test_split\n",
        "\n",
        "#From the doc on train_test_split, it appears the randomisation can be done by this function instead of doing it above (maybe?)\n",
        "#Doc also says this takes pandas DataFrames - did we need to convert to nparray?\n",
        "#From the doc, I wonder if python allows the arguments to be entered in any order, provided they have the right variable names?\n",
        "#Also, from the doc, I think you only need to specify train_size or test_size unless their sum doesn't equal the number of observations\n",
        "train_samples = 5000\n",
        "test_samples = 1000\n",
        "X_train, X_test, y_train, y_test = train_test_split(\n",
        "    X, y, train_size=train_samples, test_size=test_samples)"
      ],
      "metadata": {
        "id": "cL67Xokuun5N"
      },
      "execution_count": 58,
      "outputs": []
    },
    {
      "cell_type": "code",
      "source": [],
      "metadata": {
        "id": "Cx3A-fT4yJyw"
      },
      "execution_count": null,
      "outputs": []
    }
  ]
}