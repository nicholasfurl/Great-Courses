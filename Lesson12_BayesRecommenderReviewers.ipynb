{
  "nbformat": 4,
  "nbformat_minor": 0,
  "metadata": {
    "colab": {
      "provenance": [],
      "authorship_tag": "ABX9TyOX9NvYCrYCfz9OFVt4WArx",
      "include_colab_link": true
    },
    "kernelspec": {
      "name": "python3",
      "display_name": "Python 3"
    },
    "language_info": {
      "name": "python"
    }
  },
  "cells": [
    {
      "cell_type": "markdown",
      "metadata": {
        "id": "view-in-github",
        "colab_type": "text"
      },
      "source": [
        "<a href=\"https://colab.research.google.com/github/nicholasfurl/Great-Courses/blob/main/Lesson12_BayesRecommenderReviewers.ipynb\" target=\"_parent\"><img src=\"https://colab.research.google.com/assets/colab-badge.svg\" alt=\"Open In Colab\"/></a>"
      ]
    },
    {
      "cell_type": "code",
      "execution_count": null,
      "metadata": {
        "id": "-lABlLUDFWgd"
      },
      "outputs": [],
      "source": [
        "#In this notebook, we will build a recomendation system for academic papers."
      ]
    },
    {
      "cell_type": "code",
      "source": [
        "#we download the data we'll be using from GitHub. \n",
        "#vocab2.txt contains the words in the tiles of the academic papers, \n",
        "#cb.txt contains the titles of the papers.\n",
        "\n",
        "!wget https://github.com/mlittmancs/great_courses_ml/raw/master/data/vocab2.txt\n",
        "!wget https://github.com/mlittmancs/great_courses_ml/raw/master/data/cb.txt"
      ],
      "metadata": {
        "colab": {
          "base_uri": "https://localhost:8080/"
        },
        "id": "tB3sThOvOUn4",
        "outputId": "9a7ac11f-d3f1-4348-d0af-a220d6970163"
      },
      "execution_count": 1,
      "outputs": [
        {
          "output_type": "stream",
          "name": "stdout",
          "text": [
            "--2023-01-12 18:24:43--  https://github.com/mlittmancs/great_courses_ml/raw/master/data/vocab2.txt\n",
            "Resolving github.com (github.com)... 192.30.255.113\n",
            "Connecting to github.com (github.com)|192.30.255.113|:443... connected.\n",
            "HTTP request sent, awaiting response... 302 Found\n",
            "Location: https://raw.githubusercontent.com/mlittmancs/great_courses_ml/master/data/vocab2.txt [following]\n",
            "--2023-01-12 18:24:43--  https://raw.githubusercontent.com/mlittmancs/great_courses_ml/master/data/vocab2.txt\n",
            "Resolving raw.githubusercontent.com (raw.githubusercontent.com)... 185.199.108.133, 185.199.109.133, 185.199.110.133, ...\n",
            "Connecting to raw.githubusercontent.com (raw.githubusercontent.com)|185.199.108.133|:443... connected.\n",
            "HTTP request sent, awaiting response... 200 OK\n",
            "Length: 134845 (132K) [text/plain]\n",
            "Saving to: ‘vocab2.txt’\n",
            "\n",
            "vocab2.txt          100%[===================>] 131.68K  --.-KB/s    in 0.02s   \n",
            "\n",
            "2023-01-12 18:24:43 (7.75 MB/s) - ‘vocab2.txt’ saved [134845/134845]\n",
            "\n",
            "--2023-01-12 18:24:43--  https://github.com/mlittmancs/great_courses_ml/raw/master/data/cb.txt\n",
            "Resolving github.com (github.com)... 192.30.255.113\n",
            "Connecting to github.com (github.com)|192.30.255.113|:443... connected.\n",
            "HTTP request sent, awaiting response... 302 Found\n",
            "Location: https://raw.githubusercontent.com/mlittmancs/great_courses_ml/master/data/cb.txt [following]\n",
            "--2023-01-12 18:24:44--  https://raw.githubusercontent.com/mlittmancs/great_courses_ml/master/data/cb.txt\n",
            "Resolving raw.githubusercontent.com (raw.githubusercontent.com)... 185.199.108.133, 185.199.109.133, 185.199.110.133, ...\n",
            "Connecting to raw.githubusercontent.com (raw.githubusercontent.com)|185.199.108.133|:443... connected.\n",
            "HTTP request sent, awaiting response... 200 OK\n",
            "Length: 820122 (801K) [text/plain]\n",
            "Saving to: ‘cb.txt’\n",
            "\n",
            "cb.txt              100%[===================>] 800.90K  --.-KB/s    in 0.04s   \n",
            "\n",
            "2023-01-12 18:24:44 (21.9 MB/s) - ‘cb.txt’ saved [820122/820122]\n",
            "\n"
          ]
        }
      ]
    },
    {
      "cell_type": "code",
      "source": [
        "#Read in data\n",
        "\n",
        "# vocab2.txt contains the words in the tiles of the academic papers\n",
        "vocab_dict = readvocab()\n",
        "\n",
        "# cb.txt contains the titles of the papers.\n",
        "(dat, labs) = getdat(vocab_dict)"
      ],
      "metadata": {
        "id": "HH0qDEviPfrP"
      },
      "execution_count": 7,
      "outputs": []
    },
    {
      "cell_type": "code",
      "source": [
        "#readvocab creates a vocab_dict with a count of the number of times a word occurs in our paper titles\n",
        "\n",
        "#OK this looks like something included in a previous lesson that was then never used. \n",
        "#Probably he brings this out by habit for every bad of words model as a matter of course\n",
        "\n",
        "# read in the vocabulary file \n",
        "def readvocab():\n",
        "\n",
        "   # keep track of the number of words\n",
        "    lexiconsize = 0\n",
        "\n",
        "   # initialize an empty dictionary\n",
        "    vocab_dict = {}\n",
        "\n",
        "   # create a catch-all feature (vector component) for all unknown words\n",
        "    vocab_dict[\"@unk\"] = lexiconsize  #unk is unknown\n",
        "    lexiconsize += 1\n",
        "\n",
        "   # read in the vocabulary file\n",
        "    with open(\"vocab2.txt\", \"r\") as f:\n",
        "        data = f.readlines()\n",
        "\n",
        "   # Process the file a line at a time.\n",
        "    for line in data:\n",
        "\n",
        "        # The count is the first 3 characters\n",
        "        count = int(line[0:4])\n",
        "\n",
        "        # The word is the rest of the string\n",
        "        token = line[5:-1]\n",
        "\n",
        "       # Create a feature if it’s appeared at least twice\n",
        "        if count > 1: \n",
        "            vocab_dict[token] = lexiconsize\n",
        "            lexiconsize += 1\n",
        "            \n",
        "    # squirrel away the total size for later reference\n",
        "    vocab_dict[\"@size\"] = lexiconsize\n",
        "    return(vocab_dict)"
      ],
      "metadata": {
        "id": "lq2DZ2-UP3kK"
      },
      "execution_count": 3,
      "outputs": []
    },
    {
      "cell_type": "code",
      "source": [
        "# Turn string str into a vector.\n",
        "def tokenize(string, vocab_dict):\n",
        "\n",
        "  #If I remember right, size just counted up the entries in the vocab dictionary\n",
        "  #so this creates 0s corresponding to each of the elements in the vocab dictionary\n",
        "  # initially the vector is all zeros\n",
        "  vec = [0 for i in range(vocab_dict[\"@size\"])]\n",
        "\n",
        "  # for each word\n",
        "  for t in string.split(\" \"): #Splits on tabe or space instead of comma? Then loops through each split-off string / word\n",
        "\n",
        "   # if the word has a feature, add one to the corresponding feature\n",
        "   #So vec will hold a frequency for each word in the dictionary. I remember this from other lesson ..\n",
        "   #So a sparse representation of the title - frequencies of tiotle words over a large dictionary\n",
        "    if t in vocab_dict: vec[vocab_dict[t]] += 1\n",
        "\n",
        "   # otherwise, count it as an unk\n",
        "    else: vec[vocab_dict[\"@unk\"]] += 1\n",
        "    \n",
        "  return(vec)"
      ],
      "metadata": {
        "id": "kzwN4NkTfB0g"
      },
      "execution_count": 4,
      "outputs": []
    },
    {
      "cell_type": "code",
      "source": [
        "# read in labeled examples and turn the strings into vectors\n",
        "def getdat(vocab_dict):\n",
        "\n",
        "    #List of titles\n",
        "    with open(\"cb.txt\", \"r\") as f:\n",
        "        data = f.readlines()\n",
        "\n",
        "    dat = []\n",
        "    labs = []\n",
        "\n",
        "    #\n",
        "    for line in data:\n",
        "\n",
        "        #Labs are changed to int and appended to lab list\n",
        "        #I think these were machine learning versus robotics titles\n",
        "        labs = labs + [int(line[0])]\n",
        "\n",
        "        #tokenise the titles, which means create a vector corresponding to dictioonary entries that gives frequencies of each dictionary word in title (so rather sparse)\n",
        "        dat = dat + [tokenize(line[2:], vocab_dict)]\n",
        "\n",
        "    return(dat, labs)"
      ],
      "metadata": {
        "id": "3E2wvrCpj-ZA"
      },
      "execution_count": 6,
      "outputs": []
    }
  ]
}