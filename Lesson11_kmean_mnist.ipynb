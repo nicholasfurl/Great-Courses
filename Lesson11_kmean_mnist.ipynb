{
  "nbformat": 4,
  "nbformat_minor": 0,
  "metadata": {
    "colab": {
      "provenance": [],
      "authorship_tag": "ABX9TyNFZKmDZwDu3N3ciCsdVlqk",
      "include_colab_link": true
    },
    "kernelspec": {
      "name": "python3",
      "display_name": "Python 3"
    },
    "language_info": {
      "name": "python"
    }
  },
  "cells": [
    {
      "cell_type": "markdown",
      "metadata": {
        "id": "view-in-github",
        "colab_type": "text"
      },
      "source": [
        "<a href=\"https://colab.research.google.com/github/nicholasfurl/Great-Courses/blob/main/Lesson11_kmean_mnist.ipynb\" target=\"_parent\"><img src=\"https://colab.research.google.com/assets/colab-badge.svg\" alt=\"Open In Colab\"/></a>"
      ]
    },
    {
      "cell_type": "code",
      "execution_count": null,
      "metadata": {
        "id": "e8GqbT6qp_h9"
      },
      "outputs": [],
      "source": [
        " #we will write our own k-means model from scratch and use it to cluster handwritten numbers from the MNIST dataset"
      ]
    },
    {
      "cell_type": "code",
      "source": [
        "#Unlike the lesson, I like to start with the main code body and then explore the \n",
        "#function definitions when I know what data they are being passed\n",
        "\n",
        "#Data is a \"bunch\"\n",
        "#A bunch is a dictionary but you address it like its an object\n",
        "from sklearn.datasets import fetch_openml\n",
        "data = fetch_openml(name='mnist_784')\n"
      ],
      "metadata": {
        "id": "VLHKIE7Pu61E"
      },
      "execution_count": 1,
      "outputs": []
    },
    {
      "cell_type": "code",
      "source": [
        "#skip this, just playing\n",
        "print(data.keys())\n",
        "print(data['DESCR'])\n",
        "test = data['target']\n",
        "print(test.shape)"
      ],
      "metadata": {
        "colab": {
          "base_uri": "https://localhost:8080/"
        },
        "id": "2-MnUmZ-yHl0",
        "outputId": "49cb9331-7a73-4ee4-e273-517bb1b939b2"
      },
      "execution_count": null,
      "outputs": [
        {
          "output_type": "stream",
          "name": "stdout",
          "text": [
            "dict_keys(['data', 'target', 'frame', 'categories', 'feature_names', 'target_names', 'DESCR', 'details', 'url'])\n",
            "**Author**: Yann LeCun, Corinna Cortes, Christopher J.C. Burges  \n",
            "**Source**: [MNIST Website](http://yann.lecun.com/exdb/mnist/) - Date unknown  \n",
            "**Please cite**:  \n",
            "\n",
            "The MNIST database of handwritten digits with 784 features, raw data available at: http://yann.lecun.com/exdb/mnist/. It can be split in a training set of the first 60,000 examples, and a test set of 10,000 examples  \n",
            "\n",
            "It is a subset of a larger set available from NIST. The digits have been size-normalized and centered in a fixed-size image. It is a good database for people who want to try learning techniques and pattern recognition methods on real-world data while spending minimal efforts on preprocessing and formatting. The original black and white (bilevel) images from NIST were size normalized to fit in a 20x20 pixel box while preserving their aspect ratio. The resulting images contain grey levels as a result of the anti-aliasing technique used by the normalization algorithm. the images were centered in a 28x28 image by computing the center of mass of the pixels, and translating the image so as to position this point at the center of the 28x28 field.  \n",
            "\n",
            "With some classification methods (particularly template-based methods, such as SVM and K-nearest neighbors), the error rate improves when the digits are centered by bounding box rather than center of mass. If you do this kind of pre-processing, you should report it in your publications. The MNIST database was constructed from NIST's NIST originally designated SD-3 as their training set and SD-1 as their test set. However, SD-3 is much cleaner and easier to recognize than SD-1. The reason for this can be found on the fact that SD-3 was collected among Census Bureau employees, while SD-1 was collected among high-school students. Drawing sensible conclusions from learning experiments requires that the result be independent of the choice of training set and test among the complete set of samples. Therefore it was necessary to build a new database by mixing NIST's datasets.  \n",
            "\n",
            "The MNIST training set is composed of 30,000 patterns from SD-3 and 30,000 patterns from SD-1. Our test set was composed of 5,000 patterns from SD-3 and 5,000 patterns from SD-1. The 60,000 pattern training set contained examples from approximately 250 writers. We made sure that the sets of writers of the training set and test set were disjoint. SD-1 contains 58,527 digit images written by 500 different writers. In contrast to SD-3, where blocks of data from each writer appeared in sequence, the data in SD-1 is scrambled. Writer identities for SD-1 is available and we used this information to unscramble the writers. We then split SD-1 in two: characters written by the first 250 writers went into our new training set. The remaining 250 writers were placed in our test set. Thus we had two sets with nearly 30,000 examples each. The new training set was completed with enough examples from SD-3, starting at pattern # 0, to make a full set of 60,000 training patterns. Similarly, the new test set was completed with SD-3 examples starting at pattern # 35,000 to make a full set with 60,000 test patterns. Only a subset of 10,000 test images (5,000 from SD-1 and 5,000 from SD-3) is available on this site. The full 60,000 sample training set is available.\n",
            "\n",
            "Downloaded from openml.org.\n",
            "(70000,)\n"
          ]
        }
      ]
    },
    {
      "cell_type": "code",
      "source": [
        "#I'm separating off the fetch_openml command because it takes so long so should be alone in cell\n",
        "\n",
        "#So once again we have 70,000 observations\n",
        "#bunch data has keys to hold lists of data and targets\n",
        "\n",
        "#It does something I suspect inelegant here\n",
        "#It splits 10% to test set (so 63,000 to train and 7000 to test)\n",
        "#The acts on those vectors to put 33% of that into test data\n",
        "#That gives test set of 2310 examples and 784 features\n",
        "#and training set of 4690 examples\n",
        "\n",
        "#The resultant training and test outputs are DataFrames and Series \n",
        "#(was this always the case? Or does bunch input lead to pandas output?)\n",
        "\n",
        "import numpy as np\n",
        "from sklearn.model_selection import train_test_split\n",
        "X_train, X_test, y_train, y_test = train_test_split(data.data, data.target, test_size=0.1)\n",
        "X_train, X_test, y_train, y_test = train_test_split(X_test, y_test, test_size=0.33)\n",
        "len(X_train)\n",
        "\n",
        "#There's an error in the Lesson code and this fixes it.\n",
        "#Needs to be a numpy array or its can't be indexed later by [0]\n",
        "#Otherwise it stays pandas\n",
        "X_train = X_train.to_numpy()\n",
        "y_train = y_train.to_numpy()\n",
        "X_test = X_test.to_numpy()\n",
        "y_test = y_test.to_numpy()"
      ],
      "metadata": {
        "id": "1b9zV4QLxaWl"
      },
      "execution_count": 5,
      "outputs": []
    },
    {
      "cell_type": "code",
      "source": [
        "#Here's the key block of code that calls assign_data and kmeans\n",
        "\n",
        "from scipy import stats\n",
        "import math\n",
        "from functools import reduce\n",
        "import random\n",
        "\n",
        "#for nlabeled in range(20,len(X_train),10):\n",
        "nlabeled = 20\n",
        "if True:\n",
        "  print(nlabeled)\n",
        "  ans = []\n",
        "  k = 10 # 2 # 5 # 20\n",
        "  if True:\n",
        "    bestcenters, bestloss = kmeans(X_train, k)\n",
        "    for rep in range(9):\n",
        "      centers, loss = kmeans(X_train, k)\n",
        "      if loss < bestloss: bestcenters, bestloss = centers, loss\n",
        "    # How do we test the clustering that was discovered?\n",
        "    # Assign testing points to clusters\n",
        "    test_centerids, loss = assign_data(X_test, bestcenters)\n",
        "\n",
        "    # Use the labeled examples to label the clusters\n",
        "    train_centerids, loss = assign_data(X_train[:nlabeled], bestcenters)\n",
        "    #print(train_centerids)\n",
        "    #print(y_train[:nlabeled])\n",
        "    labs = y_train[:nlabeled]\n",
        "\n",
        "#    clust_labs = np.zeros(shape=(k))\n",
        "    clust_labs = np.repeat(labs[0],k) #Like repmat https://numpy.org/doc/stable/reference/generated/numpy.repeat.html\n",
        "    for i in range(k):\n",
        "      mode = stats.mode(labs[train_centerids == i]).mode\n",
        "      if len(mode) > 0: clust_labs[i] = mode[0]\n",
        "\n",
        "# print(clust_labs)\n",
        "    ans = ans + [(k,sum(clust_labs[test_centerids] == y_test)/len(y_test))]\n",
        "#    plt.plot(X_test[clust_labs[test_centerids] == 0,0],X_test[clust_labs[test_centerids] == 0,1],'o',color='r')\n",
        "#    plt.plot(X_test[clust_labs[test_centerids] == 1,0],X_test[clust_labs[test_centerids] == 1,1],'o',color='b')\n",
        "#    plt.show()\n",
        "\n",
        "#  print(ans)\n",
        "  print(reduce((lambda x, y: x if x[1] > y[1] else y), ans)) #https://www.w3schools.com/python/python_lambda.asp\n",
        "\n",
        "  #Display the final centerids and their losses\n",
        "  labids, loss = assign_data(X_test, X_train[:nlabeled])\n",
        "  print(nlabeled, sum(y_train[labids] == y_test)/len(y_test))"
      ],
      "metadata": {
        "colab": {
          "base_uri": "https://localhost:8080/"
        },
        "id": "7631Xj9hz_C8",
        "outputId": "12afd080-f2cc-427d-a789-0b7428843daf"
      },
      "execution_count": 6,
      "outputs": [
        {
          "output_type": "stream",
          "name": "stdout",
          "text": [
            "20\n",
            "(10, 0.2995670995670996)\n",
            "20 0.37965367965367963\n"
          ]
        }
      ]
    },
    {
      "cell_type": "code",
      "source": [
        "#OK, no visualise the centroids as images\n",
        "\n",
        "#We've seen this array_to_img before\n",
        "\n",
        "#This lesson snippet produces an error\n",
        "#!pip install keras=='2.3.1'\n",
        "#from keras.preprocessing.image import array_to_img\n",
        "\n",
        "#This fixes it\n",
        "#!pip install keras==2.8\n",
        "import keras.utils as image\n",
        "from keras.preprocessing.image import array_to_img\n",
        "\n",
        "#Get the ids for the final result \n",
        "train_centerids, loss = assign_data(X_train, bestcenters)\n",
        "test_centerids, loss = assign_data(X_test, bestcenters)\n",
        "\n",
        "clust_labs = np.repeat(labs[0],k) #like repmat in matlab. I guess it tiles the labs so they can be put along the looped image outputs\n",
        "\n",
        "#Go through the centers\n",
        "for i in range(len(bestcenters)):\n",
        "\n",
        "  #display a center (best)\n",
        "  display(array_to_img(np.reshape(bestcenters[i],(28,28,1)), scale=False))\n",
        "\n",
        "  #Assign to clust_labs the label for this centroid\n",
        "  clust_labs[i] = y_train[train_centerids == i][0]\n",
        "  print(clust_labs[i])\n",
        "#  mode = stats.mode(y_train[train_centerids == i]).mode\n",
        "#  print(mode[0])\n",
        "#  if len(mode) > 0: clust_labs[i] = mode[0]\n",
        "\n",
        "#classification accuracy\n",
        "sum(clust_labs[test_centerids] == y_test)/len(y_test)"
      ],
      "metadata": {
        "id": "JhGooFoL6iXQ",
        "outputId": "7c6bad2d-654b-44b0-f331-014a696176ea",
        "colab": {
          "base_uri": "https://localhost:8080/",
          "height": 488
        }
      },
      "execution_count": 9,
      "outputs": [
        {
          "output_type": "display_data",
          "data": {
            "text/plain": [
              "<PIL.Image.Image image mode=L size=28x28 at 0x7F684D6B0070>"
            ],
            "image/png": "[encoded data removed]"
          },
          "metadata": {}
        },
        {
          "output_type": "stream",
          "name": "stdout",
          "text": [
            "0\n"
          ]
        },
        {
          "output_type": "display_data",
          "data": {
            "text/plain": [
              "<PIL.Image.Image image mode=L size=28x28 at 0x7F683DBE4A90>"
            ],
            "image/png": "[encoded data removed]"
          },
          "metadata": {}
        },
        {
          "output_type": "stream",
          "name": "stdout",
          "text": [
            "6\n"
          ]
        },
        {
          "output_type": "display_data",
          "data": {
            "text/plain": [
              "<PIL.Image.Image image mode=L size=28x28 at 0x7F682C30B580>"
            ],
            "image/png": "[encoded data removed]"
          },
          "metadata": {}
        },
        {
          "output_type": "stream",
          "name": "stdout",
          "text": [
            "5\n"
          ]
        },
        {
          "output_type": "display_data",
          "data": {
            "text/plain": [
              "<PIL.Image.Image image mode=L size=28x28 at 0x7F682C30B580>"
            ],
            "image/png": "[encoded data removed]"
          },
          "metadata": {}
        },
        {
          "output_type": "stream",
          "name": "stdout",
          "text": [
            "7\n"
          ]
        },
        {
          "output_type": "display_data",
          "data": {
            "text/plain": [
              "<PIL.Image.Image image mode=L size=28x28 at 0x7F682C30B580>"
            ],
            "image/png": "[encoded data removed]"
          },
          "metadata": {}
        },
        {
          "output_type": "stream",
          "name": "stdout",
          "text": [
            "9\n"
          ]
        },
        {
          "output_type": "display_data",
          "data": {
            "text/plain": [
              "<PIL.Image.Image image mode=L size=28x28 at 0x7F682C30B430>"
            ],
            "image/png": "[encoded data removed]"
          },
          "metadata": {}
        },
        {
          "output_type": "stream",
          "name": "stdout",
          "text": [
            "6\n"
          ]
        },
        {
          "output_type": "display_data",
          "data": {
            "text/plain": [
              "<PIL.Image.Image image mode=L size=28x28 at 0x7F682C30B640>"
            ],
            "image/png": "[encoded data removed]"
          },
          "metadata": {}
        },
        {
          "output_type": "stream",
          "name": "stdout",
          "text": [
            "3\n"
          ]
        },
        {
          "output_type": "display_data",
          "data": {
            "text/plain": [
              "<PIL.Image.Image image mode=L size=28x28 at 0x7F682C30B610>"
            ],
            "image/png": "[encoded data removed]"
          },
          "metadata": {}
        },
        {
          "output_type": "stream",
          "name": "stdout",
          "text": [
            "8\n"
          ]
        },
        {
          "output_type": "display_data",
          "data": {
            "text/plain": [
              "<PIL.Image.Image image mode=L size=28x28 at 0x7F682C30B400>"
            ],
            "image/png": "[encoded data removed]"
          },
          "metadata": {}
        },
        {
          "output_type": "stream",
          "name": "stdout",
          "text": [
            "1\n"
          ]
        },
        {
          "output_type": "display_data",
          "data": {
            "text/plain": [
              "<PIL.Image.Image image mode=L size=28x28 at 0x7F682C30B5B0>"
            ],
            "image/png": "[encoded data removed]"
          },
          "metadata": {}
        },
        {
          "output_type": "stream",
          "name": "stdout",
          "text": [
            "2\n"
          ]
        },
        {
          "output_type": "execute_result",
          "data": {
            "text/plain": [
              "0.3787878787878788"
            ]
          },
          "metadata": {},
          "execution_count": 9
        }
      ]
    },
    {
      "cell_type": "code",
      "source": [
        "from scipy import stats\n",
        "import math\n",
        "from functools import reduce\n",
        "\n",
        "# ACTIVE LEARNING VERSION\n",
        "\n",
        "#for nlabeled in range(20,len(X_train),10):\n",
        "nlabeled = 10\n",
        "if True:\n",
        "  ans = []\n",
        "  k = 50 # 10 # 2 # 5 # 20\n",
        "  if True:\n",
        "\n",
        "#  for k in range(10,200,50):\n",
        "    bestcenters, bestloss = kmeans(X_train, k)\n",
        "\n",
        "    for rep in range(9):\n",
        "      centers, loss = kmeans(X_train, k)\n",
        "      if loss < bestloss: bestcenters, bestloss = centers, loss\n",
        "    \n",
        "    # How do we test the clustering that was discovered?\n",
        "    # Assign testing points to clusters\n",
        "    test_centerids, loss = assign_data(X_test, bestcenters)\n",
        "\n",
        "    # Let's label one example in each category\n",
        "    train_centerids, loss = assign_data(X_train, bestcenters)\n",
        "    clust_labs = np.repeat(labs[0],k)\n",
        "    for i in range(len(bestcenters)):\n",
        "      clust_labs[i] = y_train[train_centerids == i][0]\n",
        "\n",
        "    # prpoportion correct semi-supervised clustering\n",
        "    print(k,sum(clust_labs[test_centerids] == y_test)/len(y_test))\n",
        "\n",
        "    # proportion correct nearest neighbors\n",
        "    labids, loss = assign_data(X_test, X_train[:k])\n",
        "    print(k, sum(y_train[labids] == y_test)/len(y_test))"
      ],
      "metadata": {
        "id": "74Pr0b4LMZUJ",
        "outputId": "3db704de-a9a6-4aa6-fcf0-94fc8c78cddc",
        "colab": {
          "base_uri": "https://localhost:8080/"
        }
      },
      "execution_count": 10,
      "outputs": [
        {
          "output_type": "stream",
          "name": "stdout",
          "text": [
            "50 0.693939393939394\n",
            "50 0.6116883116883117\n"
          ]
        }
      ]
    },
    {
      "cell_type": "code",
      "source": [
        "#With these two functions, we can build a kmeans model, which takes in the data \n",
        "#and number of clusters, k and iteratively builds k clusters and updates them relative to the loss.\n",
        "\n",
        "def kmeans(data, k):\n",
        "\n",
        "  #num obs\n",
        "  n = len(data)\n",
        "  #num \"cols\"\n",
        "  d = len(data[0])\n",
        "\n",
        "  # grab the centers from random points\n",
        "  centers = data[[random.randint(0,n-1) for i in range(k)]]\n",
        "\n",
        "  #Now, starting with random centers, iterate, using assign_data to find loss for those centers\n",
        "  #and new indices into centers where distances to points are minimised.\n",
        "  #Then compute means to find the pixel values of the (mean) centers and try again\n",
        "  #Terminate loop when loss equals 0 (no more improvement)\n",
        "  oldloss = 0 #For comparison of current loss to 0. Weird name\n",
        "  loss = 1    #Start off with dummy value of loss that isn't zero\n",
        "  while oldloss != loss:\n",
        "    oldloss = loss  #I guess this is guaranteed mathematcially toi find zero, which is why we don't wait until it falls below a near-zero value\n",
        "    centerids, loss = assign_data(data,centers) #Find centerids that minimise distances and their loss\n",
        "    centers = compute_means(data, centerids, k) #Find their pixel values\n",
        "\n",
        "  return(centers, loss)"
      ],
      "metadata": {
        "id": "aefXQ-Tq35wz"
      },
      "execution_count": 2,
      "outputs": []
    },
    {
      "cell_type": "code",
      "source": [
        "#an assign_data function, which takes the data and the centers for each cluster \n",
        "#and makes an assignment of each datapoint in data to the closest of the centers, centerids.\n",
        "\n",
        "#So a \"datapoint\" must be an image and so dims = num pixels. A \"center\" must be the same, \n",
        "#they're all just points in multi-dimentional pixel space. centerid, though is an index into center\n",
        "#locations that gives one with the smallest distance to datapoints\n",
        "\n",
        "def assign_data(data,centers):\n",
        "  \n",
        "  #We extract n, the number of datapoints, d, the dimensionality of the datapoints, \n",
        "  #and k the number of centers.\n",
        "\n",
        "  # n is the number of data points\n",
        "  n = len(data)\n",
        "  # d is the dimensionality of the data points\n",
        "  d = len(data[0])\n",
        "  # k is the number of clusters\n",
        "  k = len(centers)\n",
        "\n",
        "  #Next, we need to compute the squared distance between each center and each data point.\n",
        "\n",
        "  # first, subtract the set of centers from each data point\n",
        "  #Reshaping the data to be 1 x n x d, and the centers to be k x 1 x d signals to \n",
        "  #numpy that when it subtracts these two arrays, it creates an array of shape k x n x d. \n",
        "  #That is, it computes all combinations of the k centers and the n datapoints for each of the d dimensions. \n",
        "  #We assign those differences to res.\n",
        "  res = np.reshape(data,(1,n,d))-np.reshape(centers,(k,1,d))\n",
        "  \n",
        "  # sum the squared differences\n",
        "  #Squaring each of the differences, then summing along dimension 2 \n",
        "  #--- that’s the components of the vectors --- produces the sum of squared distances, \n",
        "  #which is the squared distance between the centers and the datapoints. \n",
        "  #The resulting array is of shape k x n.\n",
        "  res2 = np.add.reduce(res**2,2)\n",
        "\n",
        "\n",
        "  # assign each data point to its closest center\n",
        "  #We want to know which center has the smallest squared distance for each data point. \n",
        "  #argmin produces the index of an array with the smallest value along the given dimension.\n",
        "  #Here, we’re using dimension 0, which varies over the k centers. \n",
        "  #centerids is now an array with one integer for each datapoint that indicates which of the centers is closest.\n",
        "  centerids = np.apply_along_axis(np.argmin,0,res2)\n",
        "\n",
        "  # While we're here, make a note of the loss\n",
        "  loss = sum(np.apply_along_axis(np.min,0,res2))\n",
        "\n",
        "  return(centerids, loss)"
      ],
      "metadata": {
        "id": "b2jMGWw4t2dh"
      },
      "execution_count": 3,
      "outputs": []
    },
    {
      "cell_type": "code",
      "source": [
        "#Next we'll compute the mean of each of the k centers using the data and their \n",
        "#centerids assignments. compute_means takes the data and the center ids and \n",
        "#computes the centers by averaging all of the datapoints with the same id. \n",
        "#This will be used to update the centers.\n",
        "\n",
        "\n",
        "def compute_means(data, centerids, k):\n",
        "\n",
        "  # n is number of data points\n",
        "  n = len(data)\n",
        "  # d is dimensionality of the data points\n",
        "  d = len(data[0])\n",
        " \n",
        " #I think this more precisely means to create an array of zeros\n",
        " #that will soon hold the new centers\n",
        "  # Zero out the centers\n",
        "  centers = np.zeros(shape=(k,d))\n",
        " \n",
        "  # loop over the clusters\n",
        "  for i in range(k):\n",
        "\n",
        "    #Get the pixel values for all data examples (each is a j) that have a certain center if i\n",
        "    # Gather the data points assigned to cluster i\n",
        "    cols = np.array([data[j] for j in range(n) if centerids[j] == i])\n",
        "\n",
        "\n",
        "    # Average to get mean for that cluster\n",
        "    \n",
        "    if len(cols) == 0: #I guess it can happen that ids are missing?\n",
        "      centers[i] = data[random.randint(0,n-1)]\n",
        "    else:\n",
        "      centers[i] = cols.mean(0)\n",
        "\n",
        " #return the new means\n",
        "  return(centers)"
      ],
      "metadata": {
        "id": "kN6v8tgeurHN"
      },
      "execution_count": 4,
      "outputs": []
    }
  ]
}