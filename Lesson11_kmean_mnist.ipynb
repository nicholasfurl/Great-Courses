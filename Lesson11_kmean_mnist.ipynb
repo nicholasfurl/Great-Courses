{
  "nbformat": 4,
  "nbformat_minor": 0,
  "metadata": {
    "colab": {
      "provenance": [],
      "authorship_tag": "ABX9TyPBbq5V9eZwO/Fs3EVe1OFr",
      "include_colab_link": true
    },
    "kernelspec": {
      "name": "python3",
      "display_name": "Python 3"
    },
    "language_info": {
      "name": "python"
    }
  },
  "cells": [
    {
      "cell_type": "markdown",
      "metadata": {
        "id": "view-in-github",
        "colab_type": "text"
      },
      "source": [
        "<a href=\"https://colab.research.google.com/github/nicholasfurl/Great-Courses/blob/main/Lesson11_kmean_mnist.ipynb\" target=\"_parent\"><img src=\"https://colab.research.google.com/assets/colab-badge.svg\" alt=\"Open In Colab\"/></a>"
      ]
    },
    {
      "cell_type": "code",
      "execution_count": null,
      "metadata": {
        "id": "e8GqbT6qp_h9"
      },
      "outputs": [],
      "source": [
        " #we will write our own k-means model from scratch and use it to cluster handwritten numbers from the MNIST dataset"
      ]
    },
    {
      "cell_type": "code",
      "source": [
        "#Unlike the lesson, I like to start with the main code body and then explore the \n",
        "#function definitions when I know what data they are being passed\n",
        "\n",
        "#Data is a \"bunch\"\n",
        "#A bunch is a dictionary but you address it like its an object\n",
        "from sklearn.datasets import fetch_openml\n",
        "data = fetch_openml(name='mnist_784')\n"
      ],
      "metadata": {
        "id": "VLHKIE7Pu61E"
      },
      "execution_count": 1,
      "outputs": []
    },
    {
      "cell_type": "code",
      "source": [
        "#skip this, just playing\n",
        "print(data.keys())\n",
        "print(data['DESCR'])\n",
        "test = data['target']\n",
        "print(test.shape)"
      ],
      "metadata": {
        "id": "2-MnUmZ-yHl0",
        "outputId": "49cb9331-7a73-4ee4-e273-517bb1b939b2",
        "colab": {
          "base_uri": "https://localhost:8080/"
        }
      },
      "execution_count": 10,
      "outputs": [
        {
          "output_type": "stream",
          "name": "stdout",
          "text": [
            "dict_keys(['data', 'target', 'frame', 'categories', 'feature_names', 'target_names', 'DESCR', 'details', 'url'])\n",
            "**Author**: Yann LeCun, Corinna Cortes, Christopher J.C. Burges  \n",
            "**Source**: [MNIST Website](http://yann.lecun.com/exdb/mnist/) - Date unknown  \n",
            "**Please cite**:  \n",
            "\n",
            "The MNIST database of handwritten digits with 784 features, raw data available at: http://yann.lecun.com/exdb/mnist/. It can be split in a training set of the first 60,000 examples, and a test set of 10,000 examples  \n",
            "\n",
            "It is a subset of a larger set available from NIST. The digits have been size-normalized and centered in a fixed-size image. It is a good database for people who want to try learning techniques and pattern recognition methods on real-world data while spending minimal efforts on preprocessing and formatting. The original black and white (bilevel) images from NIST were size normalized to fit in a 20x20 pixel box while preserving their aspect ratio. The resulting images contain grey levels as a result of the anti-aliasing technique used by the normalization algorithm. the images were centered in a 28x28 image by computing the center of mass of the pixels, and translating the image so as to position this point at the center of the 28x28 field.  \n",
            "\n",
            "With some classification methods (particularly template-based methods, such as SVM and K-nearest neighbors), the error rate improves when the digits are centered by bounding box rather than center of mass. If you do this kind of pre-processing, you should report it in your publications. The MNIST database was constructed from NIST's NIST originally designated SD-3 as their training set and SD-1 as their test set. However, SD-3 is much cleaner and easier to recognize than SD-1. The reason for this can be found on the fact that SD-3 was collected among Census Bureau employees, while SD-1 was collected among high-school students. Drawing sensible conclusions from learning experiments requires that the result be independent of the choice of training set and test among the complete set of samples. Therefore it was necessary to build a new database by mixing NIST's datasets.  \n",
            "\n",
            "The MNIST training set is composed of 30,000 patterns from SD-3 and 30,000 patterns from SD-1. Our test set was composed of 5,000 patterns from SD-3 and 5,000 patterns from SD-1. The 60,000 pattern training set contained examples from approximately 250 writers. We made sure that the sets of writers of the training set and test set were disjoint. SD-1 contains 58,527 digit images written by 500 different writers. In contrast to SD-3, where blocks of data from each writer appeared in sequence, the data in SD-1 is scrambled. Writer identities for SD-1 is available and we used this information to unscramble the writers. We then split SD-1 in two: characters written by the first 250 writers went into our new training set. The remaining 250 writers were placed in our test set. Thus we had two sets with nearly 30,000 examples each. The new training set was completed with enough examples from SD-3, starting at pattern # 0, to make a full set of 60,000 training patterns. Similarly, the new test set was completed with SD-3 examples starting at pattern # 35,000 to make a full set with 60,000 test patterns. Only a subset of 10,000 test images (5,000 from SD-1 and 5,000 from SD-3) is available on this site. The full 60,000 sample training set is available.\n",
            "\n",
            "Downloaded from openml.org.\n",
            "(70000,)\n"
          ]
        }
      ]
    },
    {
      "cell_type": "code",
      "source": [
        "#I'm separating off the fetch_openml command because it takes so long so should be alone in cell\n",
        "\n",
        "#So once again we have 70,000 observations\n",
        "#bunch data has keys to hold lists of data and targets\n",
        "\n",
        "#It does something I suspect inelegant here\n",
        "#It splits 10% to test set (so 63,000 to train and 7000 to test)\n",
        "#The acts on those vectors to put 33% of that into test data\n",
        "#That gives test set of 2310 examples and 784 features\n",
        "#and training set of 4690 examples\n",
        "\n",
        "#The resultant training and test outputs are DataFrames and Series \n",
        "#(was this always the case? Or does bunch input lead to pandas output?)\n",
        "\n",
        "import numpy as np\n",
        "from sklearn.model_selection import train_test_split\n",
        "X_train, X_test, y_train, y_test = train_test_split(data.data, data.target, test_size=0.1)\n",
        "X_train, X_test, y_train, y_test = train_test_split(X_test, y_test, test_size=0.33)\n",
        "len(X_train)"
      ],
      "metadata": {
        "id": "1b9zV4QLxaWl",
        "outputId": "1fffc845-5ba4-4da5-fe04-ced69d3fd6f9",
        "colab": {
          "base_uri": "https://localhost:8080/"
        }
      },
      "execution_count": 14,
      "outputs": [
        {
          "output_type": "execute_result",
          "data": {
            "text/plain": [
              "4690"
            ]
          },
          "metadata": {},
          "execution_count": 14
        }
      ]
    },
    {
      "cell_type": "code",
      "source": [
        "#Here's the key block of code that calls assign_data and kmeans\n",
        "\n",
        "from scipy import stats\n",
        "import math\n",
        "from functools import reduce\n",
        "import random\n",
        "\n",
        "#for nlabeled in range(20,len(X_train),10):\n",
        "nlabeled = 20\n",
        "if True:\n",
        "  print(nlabeled)\n",
        "  ans = []\n",
        "  k = 10 # 2 # 5 # 20\n",
        "  if True:\n",
        "    bestcenters, bestloss = kmeans(X_train, k)\n",
        "    for rep in range(9):\n",
        "      centers, loss = kmeans(X_train, k)\n",
        "      if loss < bestloss: bestcenters, bestloss = centers, loss\n",
        "    # How do we test the clustering that was discovered?\n",
        "    # Assign testing points to clusters\n",
        "    test_centerids, loss = assign_data(X_test, bestcenters)\n",
        "\n",
        "    # Use the labeled examples to label the clusters\n",
        "    train_centerids, loss = assign_data(X_train[:nlabeled], bestcenters)\n",
        "    #print(train_centerids)\n",
        "    #print(y_train[:nlabeled])\n",
        "    labs = y_train[:nlabeled]\n",
        "\n",
        "#    clust_labs = np.zeros(shape=(k))\n",
        "    clust_labs = np.repeat(labs[0],k)\n",
        "    for i in range(k):\n",
        "      mode = stats.mode(labs[train_centerids == i]).mode\n",
        "      if len(mode) > 0: clust_labs[i] = mode[0]\n",
        "\n",
        "# print(clust_labs)\n",
        "    ans = ans + [(k,sum(clust_labs[test_centerids] == y_test)/len(y_test))]\n",
        "#    plt.plot(X_test[clust_labs[test_centerids] == 0,0],X_test[clust_labs[test_centerids] == 0,1],'o',color='r')\n",
        "#    plt.plot(X_test[clust_labs[test_centerids] == 1,0],X_test[clust_labs[test_centerids] == 1,1],'o',color='b')\n",
        "#    plt.show()\n",
        "\n",
        "#  print(ans)\n",
        "  print(reduce((lambda x, y: x if x[1] > y[1] else y), ans))\n",
        "  labids, loss = assign_data(X_test, X_train[:nlabeled])\n",
        "  print(nlabeled, sum(y_train[labids] == y_test)/len(y_test))"
      ],
      "metadata": {
        "id": "7631Xj9hz_C8"
      },
      "execution_count": null,
      "outputs": []
    },
    {
      "cell_type": "code",
      "source": [
        "def assign_data(data,centers):\n",
        "  \n",
        "  # n is the number of data points\n",
        "  n = len(data)\n",
        "  # d is the dimensionality of the data points\n",
        "  d = len(data[0])\n",
        "  # k is the number of clusters\n",
        "  k = len(centers)\n",
        "  # first, subtract the set of centers from each data point\n",
        "  res = np.reshape(data,(1,n,d))-np.reshape(centers,(k,1,d))\n",
        "  # sum the squared differences\n",
        "  res2 = np.add.reduce(res**2,2)\n",
        "  # assign each data point to its closest center\n",
        "  centerids = np.apply_along_axis(np.argmin,0,res2)\n",
        "  # While we're here, make a note of the loss\n",
        "  loss = sum(np.apply_along_axis(np.min,0,res2))\n",
        "  return(centerids, loss)"
      ],
      "metadata": {
        "id": "b2jMGWw4t2dh"
      },
      "execution_count": null,
      "outputs": []
    }
  ]
}