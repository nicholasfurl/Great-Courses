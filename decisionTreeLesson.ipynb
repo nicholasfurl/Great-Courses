{
  "nbformat": 4,
  "nbformat_minor": 0,
  "metadata": {
    "colab": {
      "provenance": [],
      "authorship_tag": "ABX9TyPHYhhMgy6jRPzIcvtt+5yx",
      "include_colab_link": true
    },
    "kernelspec": {
      "name": "python3",
      "display_name": "Python 3"
    },
    "language_info": {
      "name": "python"
    }
  },
  "cells": [
    {
      "cell_type": "markdown",
      "metadata": {
        "id": "view-in-github",
        "colab_type": "text"
      },
      "source": [
        "<a href=\"https://colab.research.google.com/github/nicholasfurl/Great-Courses/blob/main/decisionTreeLesson.ipynb\" target=\"_parent\"><img src=\"https://colab.research.google.com/assets/colab-badge.svg\" alt=\"Open In Colab\"/></a>"
      ]
    },
    {
      "cell_type": "code",
      "execution_count": 1,
      "metadata": {
        "colab": {
          "base_uri": "https://localhost:8080/"
        },
        "id": "bi9fRXe8gWqf",
        "outputId": "85e38d6d-555e-4600-b1ab-3e6b773728e4"
      },
      "outputs": [
        {
          "output_type": "stream",
          "name": "stdout",
          "text": [
            "--2022-12-30 10:37:45--  https://raw.githubusercontent.com/plotly/datasets/master/diabetes.csv\n",
            "Resolving raw.githubusercontent.com (raw.githubusercontent.com)... 185.199.110.133, 185.199.111.133, 185.199.108.133, ...\n",
            "Connecting to raw.githubusercontent.com (raw.githubusercontent.com)|185.199.110.133|:443... connected.\n",
            "HTTP request sent, awaiting response... 200 OK\n",
            "Length: 23873 (23K) [text/plain]\n",
            "Saving to: ‘diabetes.csv’\n",
            "\n",
            "\rdiabetes.csv          0%[                    ]       0  --.-KB/s               \rdiabetes.csv        100%[===================>]  23.31K  --.-KB/s    in 0.002s  \n",
            "\n",
            "2022-12-30 10:37:45 (10.2 MB/s) - ‘diabetes.csv’ saved [23873/23873]\n",
            "\n"
          ]
        }
      ],
      "source": [
        "!wget https://raw.githubusercontent.com/plotly/datasets/master/diabetes.csv"
      ]
    },
    {
      "cell_type": "code",
      "source": [
        "!pwd"
      ],
      "metadata": {
        "colab": {
          "base_uri": "https://localhost:8080/"
        },
        "id": "sxeScxGsguko",
        "outputId": "39e7362a-cc6d-4181-d323-f715e7f0b77a"
      },
      "execution_count": null,
      "outputs": [
        {
          "output_type": "stream",
          "name": "stdout",
          "text": [
            "/content\n"
          ]
        }
      ]
    },
    {
      "cell_type": "code",
      "source": [
        "!ls"
      ],
      "metadata": {
        "colab": {
          "base_uri": "https://localhost:8080/"
        },
        "id": "TD2qcx9Eg0N_",
        "outputId": "7da0a7db-c2ec-496d-fa55-4b478e60a781"
      },
      "execution_count": null,
      "outputs": [
        {
          "output_type": "stream",
          "name": "stdout",
          "text": [
            "diabetes.csv  sample_data\n"
          ]
        }
      ]
    },
    {
      "cell_type": "code",
      "source": [
        "with open(\"diabetes.csv\", \"r\") as f:\n",
        "    data = f.readlines()"
      ],
      "metadata": {
        "id": "623kbw-UhDV3"
      },
      "execution_count": 2,
      "outputs": []
    },
    {
      "cell_type": "code",
      "source": [
        "feats = data[0]\n",
        "feats"
      ],
      "metadata": {
        "colab": {
          "base_uri": "https://localhost:8080/",
          "height": 36
        },
        "id": "ozf16Or7sQi8",
        "outputId": "a51753f4-9aa3-43c2-a93e-9e2322a86c8d"
      },
      "execution_count": 4,
      "outputs": [
        {
          "output_type": "execute_result",
          "data": {
            "text/plain": [
              "'Pregnancies,Glucose,BloodPressure,SkinThickness,Insulin,BMI,DiabetesPedigreeFunction,Age,Outcome\\n'"
            ],
            "application/vnd.google.colaboratory.intrinsic+json": {
              "type": "string"
            }
          },
          "metadata": {},
          "execution_count": 4
        }
      ]
    },
    {
      "cell_type": "code",
      "source": [
        "test = data[0][0]\n",
        "test"
      ],
      "metadata": {
        "colab": {
          "base_uri": "https://localhost:8080/",
          "height": 36
        },
        "id": "QVkF5j-ctMUk",
        "outputId": "4e6d11bf-02ba-4de0-de73-fe0c019d4480"
      },
      "execution_count": null,
      "outputs": [
        {
          "output_type": "execute_result",
          "data": {
            "text/plain": [
              "'P'"
            ],
            "application/vnd.google.colaboratory.intrinsic+json": {
              "type": "string"
            }
          },
          "metadata": {},
          "execution_count": 15
        }
      ]
    },
    {
      "cell_type": "code",
      "source": [
        "feats = feats.replace('\\n','')\n",
        "feats"
      ],
      "metadata": {
        "colab": {
          "base_uri": "https://localhost:8080/",
          "height": 36
        },
        "id": "fNoZ-OTTt5zY",
        "outputId": "14cf86e8-02b8-447f-ae67-7b67c73250d1"
      },
      "execution_count": 5,
      "outputs": [
        {
          "output_type": "execute_result",
          "data": {
            "text/plain": [
              "'Pregnancies,Glucose,BloodPressure,SkinThickness,Insulin,BMI,DiabetesPedigreeFunction,Age,Outcome'"
            ],
            "application/vnd.google.colaboratory.intrinsic+json": {
              "type": "string"
            }
          },
          "metadata": {},
          "execution_count": 5
        }
      ]
    },
    {
      "cell_type": "code",
      "source": [
        "feats = feats.split(\",\")\n",
        "feats"
      ],
      "metadata": {
        "colab": {
          "base_uri": "https://localhost:8080/"
        },
        "id": "jGt8-U9huKHM",
        "outputId": "51d0c7c7-d0b3-4838-9bc5-98f633d4da4f"
      },
      "execution_count": 6,
      "outputs": [
        {
          "output_type": "execute_result",
          "data": {
            "text/plain": [
              "['Pregnancies',\n",
              " 'Glucose',\n",
              " 'BloodPressure',\n",
              " 'SkinThickness',\n",
              " 'Insulin',\n",
              " 'BMI',\n",
              " 'DiabetesPedigreeFunction',\n",
              " 'Age',\n",
              " 'Outcome']"
            ]
          },
          "metadata": {},
          "execution_count": 6
        }
      ]
    },
    {
      "cell_type": "code",
      "source": [
        "print(feats)\n",
        "feats"
      ],
      "metadata": {
        "colab": {
          "base_uri": "https://localhost:8080/"
        },
        "id": "rVPPoahMuKPD",
        "outputId": "729115ab-8d75-4522-f036-ac587523fc53"
      },
      "execution_count": null,
      "outputs": [
        {
          "output_type": "stream",
          "name": "stdout",
          "text": [
            "['Pregnancies', 'Glucose', 'BloodPressure', 'SkinThickness', 'Insulin', 'BMI', 'DiabetesPedigreeFunction', 'Age', 'Outcome']\n"
          ]
        },
        {
          "output_type": "execute_result",
          "data": {
            "text/plain": [
              "['Pregnancies',\n",
              " 'Glucose',\n",
              " 'BloodPressure',\n",
              " 'SkinThickness',\n",
              " 'Insulin',\n",
              " 'BMI',\n",
              " 'DiabetesPedigreeFunction',\n",
              " 'Age',\n",
              " 'Outcome']"
            ]
          },
          "metadata": {},
          "execution_count": 20
        }
      ]
    },
    {
      "cell_type": "code",
      "source": [
        "print(len(data))\n",
        "len(data)"
      ],
      "metadata": {
        "colab": {
          "base_uri": "https://localhost:8080/"
        },
        "id": "xVEgdhWWugSU",
        "outputId": "0a7ad493-32f1-472b-cf33-ddd1b68c2d3d"
      },
      "execution_count": null,
      "outputs": [
        {
          "output_type": "stream",
          "name": "stdout",
          "text": [
            "769\n"
          ]
        },
        {
          "output_type": "execute_result",
          "data": {
            "text/plain": [
              "769"
            ]
          },
          "metadata": {},
          "execution_count": 21
        }
      ]
    },
    {
      "cell_type": "code",
      "source": [
        "feats = feats[0:(len(feats)-1)]\t\n",
        "feats"
      ],
      "metadata": {
        "colab": {
          "base_uri": "https://localhost:8080/"
        },
        "id": "S7iR75Dxu-_s",
        "outputId": "3b00f480-725e-472d-d40f-4db0de08ae99"
      },
      "execution_count": 7,
      "outputs": [
        {
          "output_type": "execute_result",
          "data": {
            "text/plain": [
              "['Pregnancies',\n",
              " 'Glucose',\n",
              " 'BloodPressure',\n",
              " 'SkinThickness',\n",
              " 'Insulin',\n",
              " 'BMI',\n",
              " 'DiabetesPedigreeFunction',\n",
              " 'Age']"
            ]
          },
          "metadata": {},
          "execution_count": 7
        }
      ]
    },
    {
      "cell_type": "code",
      "source": [
        "dat = []\t\t\t\t\n",
        "labs = []\n",
        "i=1\n",
        "line = data[i]  #line is actually a string, not numbers\n",
        "line = line.replace('\\n','')\t\t#seems like we already did this above? (no we did it to labels, these are data)\n",
        "csvline = line.split(\",\")\t\t  #split takes a big string and splits it into smaller ones (based on commas presumably)\n",
        "print(line)\n",
        "labs = labs + [int(csvline[len(csvline)-1])]    #I guess the last column of data \"Outcome\" must be the labels we want.\n",
        "print(labs)\n",
        "csvline = [float(csvline[i]) for i in range(len(csvline)-1)]    #seems to take the csvline (split into strings, then converts every string in the row one by one to float)\n",
        "print(csvline)\n",
        "dat = dat + [csvline]\n"
      ],
      "metadata": {
        "id": "x_XuHlakvRDX"
      },
      "execution_count": null,
      "outputs": []
    },
    {
      "cell_type": "code",
      "source": [
        "dat = []\t\t\t\t\n",
        "labs = []\n",
        "for i in range(1,len(data)):\n",
        "  line = data[i]  #line is actually a string, not numbers\n",
        "  line = line.replace('\\n','')\t\t#seems like we already did this above? (no we did it to labels, these are data)\n",
        "  csvline = line.split(\",\")\t\t  #split takes a big string and splits it into smaller ones (based on commas presumably)\n",
        "  #print(line)\n",
        "  labs = labs + [int(csvline[len(csvline)-1])]    #I guess the last column of data \"Outcome\" must be the labels we want.\n",
        "  #print(labs)\n",
        "  csvline = [float(csvline[i]) for i in range(len(csvline)-1)]    #seems to take the csvline (split into strings, then converts every string in the row one by one to float)\n",
        "  #print(csvline)\n",
        "  dat = dat + [csvline]\n"
      ],
      "metadata": {
        "id": "sbMbXKWH3x9m"
      },
      "execution_count": 8,
      "outputs": []
    },
    {
      "cell_type": "code",
      "metadata": {
        "id": "UtT86_hiFsef"
      },
      "source": [
        "clf = tree.DecisionTreeClassifier(max_leaf_nodes = 3)\t\n",
        "clf = clf.fit(dat, labs)\t\t\t"
      ],
      "execution_count": null,
      "outputs": []
    },
    {
      "cell_type": "code",
      "metadata": {
        "id": "SRuv4R9-hMbC"
      },
      "source": [
        "from sklearn import tree\n",
        "import graphviz "
      ],
      "execution_count": 9,
      "outputs": []
    },
    {
      "cell_type": "code",
      "source": [
        "i=0\n",
        "print(dat[i])         #data to classify\n",
        "print(clf.predict([dat[i]])) #model's guess\n",
        "print(labs[i])\n",
        "print(dat[i+1])         #data to classify\n",
        "print(clf.predict([dat[i+1]])) #model's guess\n",
        "print(labs[i+1])\n"
      ],
      "metadata": {
        "colab": {
          "base_uri": "https://localhost:8080/"
        },
        "id": "UasYrtmJ14DE",
        "outputId": "1355c4fe-7b40-4253-b355-0408b8fef986"
      },
      "execution_count": null,
      "outputs": [
        {
          "output_type": "stream",
          "name": "stdout",
          "text": [
            "[6.0, 148.0, 72.0, 35.0, 0.0, 33.6, 0.627, 50.0]\n",
            "[1]\n",
            "1\n",
            "[1.0, 85.0, 66.0, 29.0, 0.0, 26.6, 0.351, 31.0]\n",
            "[0]\n",
            "0\n"
          ]
        }
      ]
    },
    {
      "cell_type": "code",
      "source": [
        "correct = 0\t\t\t\t\t\t\n",
        "for i in range(len(dat)):\t\n",
        "    if clf.predict([dat[i]]) == labs[i]: correct = correct + 1\n",
        "100.0* correct / len(dat)"
      ],
      "metadata": {
        "colab": {
          "base_uri": "https://localhost:8080/"
        },
        "id": "i3gUOrwg42bx",
        "outputId": "30d4c5be-637e-4ebe-d0f6-6b27671a663c"
      },
      "execution_count": null,
      "outputs": [
        {
          "output_type": "execute_result",
          "data": {
            "text/plain": [
              "77.21354166666667"
            ]
          },
          "metadata": {},
          "execution_count": 57
        }
      ]
    },
    {
      "cell_type": "code",
      "source": [
        "dot_data = tree.export_graphviz(clf, feature_names=feats,\n",
        "                      filled=True, rounded=True)\n",
        "print(dot_data)"
      ],
      "metadata": {
        "colab": {
          "base_uri": "https://localhost:8080/"
        },
        "id": "A2OO26em5ABa",
        "outputId": "d0929d49-8f8d-4fa3-86c2-3056611f26a2"
      },
      "execution_count": null,
      "outputs": [
        {
          "output_type": "stream",
          "name": "stdout",
          "text": [
            "digraph Tree {\n",
            "node [shape=box, style=\"filled, rounded\", color=\"black\", fontname=\"helvetica\"] ;\n",
            "edge [fontname=\"helvetica\"] ;\n",
            "0 [label=\"Glucose <= 127.5\\ngini = 0.454\\nsamples = 768\\nvalue = [500, 268]\", fillcolor=\"#f3c5a3\"] ;\n",
            "1 [label=\"gini = 0.313\\nsamples = 485\\nvalue = [391, 94]\", fillcolor=\"#eb9f69\"] ;\n",
            "0 -> 1 [labeldistance=2.5, labelangle=45, headlabel=\"True\"] ;\n",
            "2 [label=\"BMI <= 29.95\\ngini = 0.474\\nsamples = 283\\nvalue = [109, 174]\", fillcolor=\"#b5daf5\"] ;\n",
            "0 -> 2 [labeldistance=2.5, labelangle=-45, headlabel=\"False\"] ;\n",
            "3 [label=\"gini = 0.432\\nsamples = 76\\nvalue = [52, 24]\", fillcolor=\"#f1bb94\"] ;\n",
            "2 -> 3 ;\n",
            "4 [label=\"gini = 0.399\\nsamples = 207\\nvalue = [57, 150]\", fillcolor=\"#84c2ef\"] ;\n",
            "2 -> 4 ;\n",
            "}\n"
          ]
        }
      ]
    },
    {
      "cell_type": "code",
      "source": [
        "graph = graphviz.Source(dot_data)\t\n",
        "print(graph)\n",
        "graph"
      ],
      "metadata": {
        "colab": {
          "base_uri": "https://localhost:8080/",
          "height": 398
        },
        "id": "3MNuJ9vB6VL8",
        "outputId": "9d468952-e5e9-4a45-f94f-0c1a39b76d57"
      },
      "execution_count": null,
      "outputs": [
        {
          "output_type": "stream",
          "name": "stdout",
          "text": [
            "<graphviz.files.Source object at 0x7f60c96f5280>\n"
          ]
        },
        {
          "output_type": "execute_result",
          "data": {
            "text/plain": [
              "<graphviz.files.Source at 0x7f60c96f5280>"
            ],
            "image/svg+xml": "<?xml version=\"1.0\" encoding=\"UTF-8\" standalone=\"no\"?>\n<!DOCTYPE svg PUBLIC \"-//W3C//DTD SVG 1.1//EN\"\n \"http://www.w3.org/Graphics/SVG/1.1/DTD/svg11.dtd\">\n<!-- Generated by graphviz version 2.40.1 (20161225.0304)\n -->\n<!-- Title: Tree Pages: 1 -->\n<svg width=\"347pt\" height=\"269pt\"\n viewBox=\"0.00 0.00 347.00 269.00\" xmlns=\"http://www.w3.org/2000/svg\" xmlns:xlink=\"http://www.w3.org/1999/xlink\">\n<g id=\"graph0\" class=\"graph\" transform=\"scale(1 1) rotate(0) translate(4 265)\">\n<title>Tree</title>\n<polygon fill=\"#ffffff\" stroke=\"transparent\" points=\"-4,4 -4,-265 343,-265 343,4 -4,4\"/>\n<!-- 0 -->\n<g id=\"node1\" class=\"node\">\n<title>0</title>\n<path fill=\"#f3c5a3\" stroke=\"#000000\" d=\"M189,-261C189,-261 81,-261 81,-261 75,-261 69,-255 69,-249 69,-249 69,-205 69,-205 69,-199 75,-193 81,-193 81,-193 189,-193 189,-193 195,-193 201,-199 201,-205 201,-205 201,-249 201,-249 201,-255 195,-261 189,-261\"/>\n<text text-anchor=\"middle\" x=\"135\" y=\"-245.8\" font-family=\"Helvetica,sans-Serif\" font-size=\"14.00\" fill=\"#000000\">Glucose &lt;= 127.5</text>\n<text text-anchor=\"middle\" x=\"135\" y=\"-230.8\" font-family=\"Helvetica,sans-Serif\" font-size=\"14.00\" fill=\"#000000\">gini = 0.454</text>\n<text text-anchor=\"middle\" x=\"135\" y=\"-215.8\" font-family=\"Helvetica,sans-Serif\" font-size=\"14.00\" fill=\"#000000\">samples = 768</text>\n<text text-anchor=\"middle\" x=\"135\" y=\"-200.8\" font-family=\"Helvetica,sans-Serif\" font-size=\"14.00\" fill=\"#000000\">value = [500, 268]</text>\n</g>\n<!-- 1 -->\n<g id=\"node2\" class=\"node\">\n<title>1</title>\n<path fill=\"#eb9f69\" stroke=\"#000000\" d=\"M112,-149.5C112,-149.5 12,-149.5 12,-149.5 6,-149.5 0,-143.5 0,-137.5 0,-137.5 0,-108.5 0,-108.5 0,-102.5 6,-96.5 12,-96.5 12,-96.5 112,-96.5 112,-96.5 118,-96.5 124,-102.5 124,-108.5 124,-108.5 124,-137.5 124,-137.5 124,-143.5 118,-149.5 112,-149.5\"/>\n<text text-anchor=\"middle\" x=\"62\" y=\"-134.3\" font-family=\"Helvetica,sans-Serif\" font-size=\"14.00\" fill=\"#000000\">gini = 0.313</text>\n<text text-anchor=\"middle\" x=\"62\" y=\"-119.3\" font-family=\"Helvetica,sans-Serif\" font-size=\"14.00\" fill=\"#000000\">samples = 485</text>\n<text text-anchor=\"middle\" x=\"62\" y=\"-104.3\" font-family=\"Helvetica,sans-Serif\" font-size=\"14.00\" fill=\"#000000\">value = [391, 94]</text>\n</g>\n<!-- 0&#45;&gt;1 -->\n<g id=\"edge1\" class=\"edge\">\n<title>0&#45;&gt;1</title>\n<path fill=\"none\" stroke=\"#000000\" d=\"M111.0971,-192.9465C103.2108,-181.7113 94.4303,-169.2021 86.5002,-157.9043\"/>\n<polygon fill=\"#000000\" stroke=\"#000000\" points=\"89.2405,-155.7163 80.6306,-149.5422 83.5111,-159.7379 89.2405,-155.7163\"/>\n<text text-anchor=\"middle\" x=\"76.3177\" y=\"-170.4673\" font-family=\"Helvetica,sans-Serif\" font-size=\"14.00\" fill=\"#000000\">True</text>\n</g>\n<!-- 2 -->\n<g id=\"node3\" class=\"node\">\n<title>2</title>\n<path fill=\"#b5daf5\" stroke=\"#000000\" d=\"M262,-157C262,-157 154,-157 154,-157 148,-157 142,-151 142,-145 142,-145 142,-101 142,-101 142,-95 148,-89 154,-89 154,-89 262,-89 262,-89 268,-89 274,-95 274,-101 274,-101 274,-145 274,-145 274,-151 268,-157 262,-157\"/>\n<text text-anchor=\"middle\" x=\"208\" y=\"-141.8\" font-family=\"Helvetica,sans-Serif\" font-size=\"14.00\" fill=\"#000000\">BMI &lt;= 29.95</text>\n<text text-anchor=\"middle\" x=\"208\" y=\"-126.8\" font-family=\"Helvetica,sans-Serif\" font-size=\"14.00\" fill=\"#000000\">gini = 0.474</text>\n<text text-anchor=\"middle\" x=\"208\" y=\"-111.8\" font-family=\"Helvetica,sans-Serif\" font-size=\"14.00\" fill=\"#000000\">samples = 283</text>\n<text text-anchor=\"middle\" x=\"208\" y=\"-96.8\" font-family=\"Helvetica,sans-Serif\" font-size=\"14.00\" fill=\"#000000\">value = [109, 174]</text>\n</g>\n<!-- 0&#45;&gt;2 -->\n<g id=\"edge2\" class=\"edge\">\n<title>0&#45;&gt;2</title>\n<path fill=\"none\" stroke=\"#000000\" d=\"M158.9029,-192.9465C165.0791,-184.1475 171.8038,-174.5672 178.239,-165.3993\"/>\n<polygon fill=\"#000000\" stroke=\"#000000\" points=\"181.1629,-167.3258 184.0434,-157.13 175.4334,-163.3041 181.1629,-167.3258\"/>\n<text text-anchor=\"middle\" x=\"188.3563\" y=\"-178.0552\" font-family=\"Helvetica,sans-Serif\" font-size=\"14.00\" fill=\"#000000\">False</text>\n</g>\n<!-- 3 -->\n<g id=\"node4\" class=\"node\">\n<title>3</title>\n<path fill=\"#f1bb94\" stroke=\"#000000\" d=\"M185,-53C185,-53 93,-53 93,-53 87,-53 81,-47 81,-41 81,-41 81,-12 81,-12 81,-6 87,0 93,0 93,0 185,0 185,0 191,0 197,-6 197,-12 197,-12 197,-41 197,-41 197,-47 191,-53 185,-53\"/>\n<text text-anchor=\"middle\" x=\"139\" y=\"-37.8\" font-family=\"Helvetica,sans-Serif\" font-size=\"14.00\" fill=\"#000000\">gini = 0.432</text>\n<text text-anchor=\"middle\" x=\"139\" y=\"-22.8\" font-family=\"Helvetica,sans-Serif\" font-size=\"14.00\" fill=\"#000000\">samples = 76</text>\n<text text-anchor=\"middle\" x=\"139\" y=\"-7.8\" font-family=\"Helvetica,sans-Serif\" font-size=\"14.00\" fill=\"#000000\">value = [52, 24]</text>\n</g>\n<!-- 2&#45;&gt;3 -->\n<g id=\"edge3\" class=\"edge\">\n<title>2&#45;&gt;3</title>\n<path fill=\"none\" stroke=\"#000000\" d=\"M183.6732,-88.9777C177.3221,-80.0954 170.466,-70.5067 164.0768,-61.5711\"/>\n<polygon fill=\"#000000\" stroke=\"#000000\" points=\"166.7893,-59.3472 158.1259,-53.2485 161.0952,-63.4187 166.7893,-59.3472\"/>\n</g>\n<!-- 4 -->\n<g id=\"node5\" class=\"node\">\n<title>4</title>\n<path fill=\"#84c2ef\" stroke=\"#000000\" d=\"M327,-53C327,-53 227,-53 227,-53 221,-53 215,-47 215,-41 215,-41 215,-12 215,-12 215,-6 221,0 227,0 227,0 327,0 327,0 333,0 339,-6 339,-12 339,-12 339,-41 339,-41 339,-47 333,-53 327,-53\"/>\n<text text-anchor=\"middle\" x=\"277\" y=\"-37.8\" font-family=\"Helvetica,sans-Serif\" font-size=\"14.00\" fill=\"#000000\">gini = 0.399</text>\n<text text-anchor=\"middle\" x=\"277\" y=\"-22.8\" font-family=\"Helvetica,sans-Serif\" font-size=\"14.00\" fill=\"#000000\">samples = 207</text>\n<text text-anchor=\"middle\" x=\"277\" y=\"-7.8\" font-family=\"Helvetica,sans-Serif\" font-size=\"14.00\" fill=\"#000000\">value = [57, 150]</text>\n</g>\n<!-- 2&#45;&gt;4 -->\n<g id=\"edge4\" class=\"edge\">\n<title>2&#45;&gt;4</title>\n<path fill=\"none\" stroke=\"#000000\" d=\"M232.3268,-88.9777C238.6779,-80.0954 245.534,-70.5067 251.9232,-61.5711\"/>\n<polygon fill=\"#000000\" stroke=\"#000000\" points=\"254.9048,-63.4187 257.8741,-53.2485 249.2107,-59.3472 254.9048,-63.4187\"/>\n</g>\n</g>\n</svg>\n"
          },
          "metadata": {},
          "execution_count": 73
        }
      ]
    },
    {
      "cell_type": "code",
      "source": [
        "#So I can play with number of leaves\n",
        "\n",
        "#run model fit\n",
        "num_leaves = 20\n",
        "clf = tree.DecisionTreeClassifier(max_leaf_nodes = num_leaves)\t\n",
        "clf = clf.fit(dat, labs)\n",
        "\n",
        "#Get proportion correct\n",
        "correct = 0\t\t\t\t\t\t\n",
        "for i in range(len(dat)):\t\n",
        "    if clf.predict([dat[i]]) == labs[i]: correct = correct + 1\n",
        "print('proportion correct: ' + str(100.0* correct / len(dat)))\n",
        "\n",
        "#configure info / labels for graphics object\n",
        "dot_data = tree.export_graphviz(clf, feature_names=feats,\n",
        "                      filled=True, rounded=True)\n",
        "\n",
        "#create graphics source object and graph it\n",
        "graph = graphviz.Source(dot_data)\t\n",
        "graph"
      ],
      "metadata": {
        "colab": {
          "base_uri": "https://localhost:8080/",
          "height": 972
        },
        "id": "mFscP6Npm5Ca",
        "outputId": "7cd93756-beed-4514-d5f7-26d88583ee09"
      },
      "execution_count": 17,
      "outputs": [
        {
          "output_type": "stream",
          "name": "stdout",
          "text": [
            "proportion correct: 82.8125\n"
          ]
        },
        {
          "output_type": "execute_result",
          "data": {
            "text/plain": [
              "<graphviz.files.Source at 0x7f76c0402ac0>"
            ],
            "image/svg+xml": "<?xml version=\"1.0\" encoding=\"UTF-8\" standalone=\"no\"?>\n<!DOCTYPE svg PUBLIC \"-//W3C//DTD SVG 1.1//EN\"\n \"http://www.w3.org/Graphics/SVG/1.1/DTD/svg11.dtd\">\n<!-- Generated by graphviz version 2.40.1 (20161225.0304)\n -->\n<!-- Title: Tree Pages: 1 -->\n<svg width=\"1581pt\" height=\"685pt\"\n viewBox=\"0.00 0.00 1580.50 685.00\" xmlns=\"http://www.w3.org/2000/svg\" xmlns:xlink=\"http://www.w3.org/1999/xlink\">\n<g id=\"graph0\" class=\"graph\" transform=\"scale(1 1) rotate(0) translate(4 681)\">\n<title>Tree</title>\n<polygon fill=\"#ffffff\" stroke=\"transparent\" points=\"-4,4 -4,-681 1576.5,-681 1576.5,4 -4,4\"/>\n<!-- 0 -->\n<g id=\"node1\" class=\"node\">\n<title>0</title>\n<path fill=\"#f3c5a3\" stroke=\"#000000\" d=\"M771,-677C771,-677 663,-677 663,-677 657,-677 651,-671 651,-665 651,-665 651,-621 651,-621 651,-615 657,-609 663,-609 663,-609 771,-609 771,-609 777,-609 783,-615 783,-621 783,-621 783,-665 783,-665 783,-671 777,-677 771,-677\"/>\n<text text-anchor=\"middle\" x=\"717\" y=\"-661.8\" font-family=\"Helvetica,sans-Serif\" font-size=\"14.00\" fill=\"#000000\">Glucose &lt;= 127.5</text>\n<text text-anchor=\"middle\" x=\"717\" y=\"-646.8\" font-family=\"Helvetica,sans-Serif\" font-size=\"14.00\" fill=\"#000000\">gini = 0.454</text>\n<text text-anchor=\"middle\" x=\"717\" y=\"-631.8\" font-family=\"Helvetica,sans-Serif\" font-size=\"14.00\" fill=\"#000000\">samples = 768</text>\n<text text-anchor=\"middle\" x=\"717\" y=\"-616.8\" font-family=\"Helvetica,sans-Serif\" font-size=\"14.00\" fill=\"#000000\">value = [500, 268]</text>\n</g>\n<!-- 1 -->\n<g id=\"node2\" class=\"node\">\n<title>1</title>\n<path fill=\"#eb9f69\" stroke=\"#000000\" d=\"M568,-573C568,-573 468,-573 468,-573 462,-573 456,-567 456,-561 456,-561 456,-517 456,-517 456,-511 462,-505 468,-505 468,-505 568,-505 568,-505 574,-505 580,-511 580,-517 580,-517 580,-561 580,-561 580,-567 574,-573 568,-573\"/>\n<text text-anchor=\"middle\" x=\"518\" y=\"-557.8\" font-family=\"Helvetica,sans-Serif\" font-size=\"14.00\" fill=\"#000000\">Age &lt;= 28.5</text>\n<text text-anchor=\"middle\" x=\"518\" y=\"-542.8\" font-family=\"Helvetica,sans-Serif\" font-size=\"14.00\" fill=\"#000000\">gini = 0.313</text>\n<text text-anchor=\"middle\" x=\"518\" y=\"-527.8\" font-family=\"Helvetica,sans-Serif\" font-size=\"14.00\" fill=\"#000000\">samples = 485</text>\n<text text-anchor=\"middle\" x=\"518\" y=\"-512.8\" font-family=\"Helvetica,sans-Serif\" font-size=\"14.00\" fill=\"#000000\">value = [391, 94]</text>\n</g>\n<!-- 0&#45;&gt;1 -->\n<g id=\"edge1\" class=\"edge\">\n<title>0&#45;&gt;1</title>\n<path fill=\"none\" stroke=\"#000000\" d=\"M651.84,-608.9465C631.7955,-598.471 609.6318,-586.888 589.2037,-576.212\"/>\n<polygon fill=\"#000000\" stroke=\"#000000\" points=\"590.745,-573.0684 580.2612,-571.5385 587.5028,-579.2723 590.745,-573.0684\"/>\n<text text-anchor=\"middle\" x=\"587.7405\" y=\"-591.6935\" font-family=\"Helvetica,sans-Serif\" font-size=\"14.00\" fill=\"#000000\">True</text>\n</g>\n<!-- 2 -->\n<g id=\"node23\" class=\"node\">\n<title>2</title>\n<path fill=\"#b5daf5\" stroke=\"#000000\" d=\"M911,-573C911,-573 803,-573 803,-573 797,-573 791,-567 791,-561 791,-561 791,-517 791,-517 791,-511 797,-505 803,-505 803,-505 911,-505 911,-505 917,-505 923,-511 923,-517 923,-517 923,-561 923,-561 923,-567 917,-573 911,-573\"/>\n<text text-anchor=\"middle\" x=\"857\" y=\"-557.8\" font-family=\"Helvetica,sans-Serif\" font-size=\"14.00\" fill=\"#000000\">BMI &lt;= 29.95</text>\n<text text-anchor=\"middle\" x=\"857\" y=\"-542.8\" font-family=\"Helvetica,sans-Serif\" font-size=\"14.00\" fill=\"#000000\">gini = 0.474</text>\n<text text-anchor=\"middle\" x=\"857\" y=\"-527.8\" font-family=\"Helvetica,sans-Serif\" font-size=\"14.00\" fill=\"#000000\">samples = 283</text>\n<text text-anchor=\"middle\" x=\"857\" y=\"-512.8\" font-family=\"Helvetica,sans-Serif\" font-size=\"14.00\" fill=\"#000000\">value = [109, 174]</text>\n</g>\n<!-- 0&#45;&gt;2 -->\n<g id=\"edge22\" class=\"edge\">\n<title>0&#45;&gt;2</title>\n<path fill=\"none\" stroke=\"#000000\" d=\"M762.8412,-608.9465C775.6529,-599.4293 789.6952,-588.9978 802.9344,-579.163\"/>\n<polygon fill=\"#000000\" stroke=\"#000000\" points=\"805.1155,-581.9029 811.0558,-573.13 800.9412,-576.2837 805.1155,-581.9029\"/>\n<text text-anchor=\"middle\" x=\"807.4068\" y=\"-594.1623\" font-family=\"Helvetica,sans-Serif\" font-size=\"14.00\" fill=\"#000000\">False</text>\n</g>\n<!-- 5 -->\n<g id=\"node3\" class=\"node\">\n<title>5</title>\n<path fill=\"#e78d4b\" stroke=\"#000000\" d=\"M370,-469C370,-469 270,-469 270,-469 264,-469 258,-463 258,-457 258,-457 258,-413 258,-413 258,-407 264,-401 270,-401 270,-401 370,-401 370,-401 376,-401 382,-407 382,-413 382,-413 382,-457 382,-457 382,-463 376,-469 370,-469\"/>\n<text text-anchor=\"middle\" x=\"320\" y=\"-453.8\" font-family=\"Helvetica,sans-Serif\" font-size=\"14.00\" fill=\"#000000\">BMI &lt;= 45.4</text>\n<text text-anchor=\"middle\" x=\"320\" y=\"-438.8\" font-family=\"Helvetica,sans-Serif\" font-size=\"14.00\" fill=\"#000000\">gini = 0.155</text>\n<text text-anchor=\"middle\" x=\"320\" y=\"-423.8\" font-family=\"Helvetica,sans-Serif\" font-size=\"14.00\" fill=\"#000000\">samples = 271</text>\n<text text-anchor=\"middle\" x=\"320\" y=\"-408.8\" font-family=\"Helvetica,sans-Serif\" font-size=\"14.00\" fill=\"#000000\">value = [248, 23]</text>\n</g>\n<!-- 1&#45;&gt;5 -->\n<g id=\"edge2\" class=\"edge\">\n<title>1&#45;&gt;5</title>\n<path fill=\"none\" stroke=\"#000000\" d=\"M455.8948,-506.3791C435.3531,-495.5895 412.3383,-483.5009 391.171,-472.3827\"/>\n<polygon fill=\"#000000\" stroke=\"#000000\" points=\"392.7056,-469.2354 382.225,-467.6838 389.4505,-475.4325 392.7056,-469.2354\"/>\n</g>\n<!-- 6 -->\n<g id=\"node8\" class=\"node\">\n<title>6</title>\n<path fill=\"#f2c09b\" stroke=\"#000000\" d=\"M568,-469C568,-469 468,-469 468,-469 462,-469 456,-463 456,-457 456,-457 456,-413 456,-413 456,-407 462,-401 468,-401 468,-401 568,-401 568,-401 574,-401 580,-407 580,-413 580,-413 580,-457 580,-457 580,-463 574,-469 568,-469\"/>\n<text text-anchor=\"middle\" x=\"518\" y=\"-453.8\" font-family=\"Helvetica,sans-Serif\" font-size=\"14.00\" fill=\"#000000\">BMI &lt;= 26.35</text>\n<text text-anchor=\"middle\" x=\"518\" y=\"-438.8\" font-family=\"Helvetica,sans-Serif\" font-size=\"14.00\" fill=\"#000000\">gini = 0.443</text>\n<text text-anchor=\"middle\" x=\"518\" y=\"-423.8\" font-family=\"Helvetica,sans-Serif\" font-size=\"14.00\" fill=\"#000000\">samples = 214</text>\n<text text-anchor=\"middle\" x=\"518\" y=\"-408.8\" font-family=\"Helvetica,sans-Serif\" font-size=\"14.00\" fill=\"#000000\">value = [143, 71]</text>\n</g>\n<!-- 1&#45;&gt;6 -->\n<g id=\"edge7\" class=\"edge\">\n<title>1&#45;&gt;6</title>\n<path fill=\"none\" stroke=\"#000000\" d=\"M518,-504.9465C518,-496.776 518,-487.9318 518,-479.3697\"/>\n<polygon fill=\"#000000\" stroke=\"#000000\" points=\"521.5001,-479.13 518,-469.13 514.5001,-479.13 521.5001,-479.13\"/>\n</g>\n<!-- 23 -->\n<g id=\"node4\" class=\"node\">\n<title>23</title>\n<path fill=\"#e78b49\" stroke=\"#000000\" d=\"M240,-365C240,-365 140,-365 140,-365 134,-365 128,-359 128,-353 128,-353 128,-309 128,-309 128,-303 134,-297 140,-297 140,-297 240,-297 240,-297 246,-297 252,-303 252,-309 252,-309 252,-353 252,-353 252,-359 246,-365 240,-365\"/>\n<text text-anchor=\"middle\" x=\"190\" y=\"-349.8\" font-family=\"Helvetica,sans-Serif\" font-size=\"14.00\" fill=\"#000000\">BMI &lt;= 30.95</text>\n<text text-anchor=\"middle\" x=\"190\" y=\"-334.8\" font-family=\"Helvetica,sans-Serif\" font-size=\"14.00\" fill=\"#000000\">gini = 0.139</text>\n<text text-anchor=\"middle\" x=\"190\" y=\"-319.8\" font-family=\"Helvetica,sans-Serif\" font-size=\"14.00\" fill=\"#000000\">samples = 267</text>\n<text text-anchor=\"middle\" x=\"190\" y=\"-304.8\" font-family=\"Helvetica,sans-Serif\" font-size=\"14.00\" fill=\"#000000\">value = [247, 20]</text>\n</g>\n<!-- 5&#45;&gt;23 -->\n<g id=\"edge3\" class=\"edge\">\n<title>5&#45;&gt;23</title>\n<path fill=\"none\" stroke=\"#000000\" d=\"M277.4331,-400.9465C265.6488,-391.519 252.7432,-381.1946 240.5519,-371.4415\"/>\n<polygon fill=\"#000000\" stroke=\"#000000\" points=\"242.6577,-368.6439 232.6625,-365.13 238.2848,-374.11 242.6577,-368.6439\"/>\n</g>\n<!-- 24 -->\n<g id=\"node7\" class=\"node\">\n<title>24</title>\n<path fill=\"#7bbeee\" stroke=\"#000000\" d=\"M357.5,-357.5C357.5,-357.5 282.5,-357.5 282.5,-357.5 276.5,-357.5 270.5,-351.5 270.5,-345.5 270.5,-345.5 270.5,-316.5 270.5,-316.5 270.5,-310.5 276.5,-304.5 282.5,-304.5 282.5,-304.5 357.5,-304.5 357.5,-304.5 363.5,-304.5 369.5,-310.5 369.5,-316.5 369.5,-316.5 369.5,-345.5 369.5,-345.5 369.5,-351.5 363.5,-357.5 357.5,-357.5\"/>\n<text text-anchor=\"middle\" x=\"320\" y=\"-342.3\" font-family=\"Helvetica,sans-Serif\" font-size=\"14.00\" fill=\"#000000\">gini = 0.375</text>\n<text text-anchor=\"middle\" x=\"320\" y=\"-327.3\" font-family=\"Helvetica,sans-Serif\" font-size=\"14.00\" fill=\"#000000\">samples = 4</text>\n<text text-anchor=\"middle\" x=\"320\" y=\"-312.3\" font-family=\"Helvetica,sans-Serif\" font-size=\"14.00\" fill=\"#000000\">value = [1, 3]</text>\n</g>\n<!-- 5&#45;&gt;24 -->\n<g id=\"edge6\" class=\"edge\">\n<title>5&#45;&gt;24</title>\n<path fill=\"none\" stroke=\"#000000\" d=\"M320,-400.9465C320,-390.2621 320,-378.4254 320,-367.5742\"/>\n<polygon fill=\"#000000\" stroke=\"#000000\" points=\"323.5001,-367.5421 320,-357.5422 316.5001,-367.5422 323.5001,-367.5421\"/>\n</g>\n<!-- 33 -->\n<g id=\"node5\" class=\"node\">\n<title>33</title>\n<path fill=\"#e5833c\" stroke=\"#000000\" d=\"M104,-253.5C104,-253.5 12,-253.5 12,-253.5 6,-253.5 0,-247.5 0,-241.5 0,-241.5 0,-212.5 0,-212.5 0,-206.5 6,-200.5 12,-200.5 12,-200.5 104,-200.5 104,-200.5 110,-200.5 116,-206.5 116,-212.5 116,-212.5 116,-241.5 116,-241.5 116,-247.5 110,-253.5 104,-253.5\"/>\n<text text-anchor=\"middle\" x=\"58\" y=\"-238.3\" font-family=\"Helvetica,sans-Serif\" font-size=\"14.00\" fill=\"#000000\">gini = 0.026</text>\n<text text-anchor=\"middle\" x=\"58\" y=\"-223.3\" font-family=\"Helvetica,sans-Serif\" font-size=\"14.00\" fill=\"#000000\">samples = 151</text>\n<text text-anchor=\"middle\" x=\"58\" y=\"-208.3\" font-family=\"Helvetica,sans-Serif\" font-size=\"14.00\" fill=\"#000000\">value = [149, 2]</text>\n</g>\n<!-- 23&#45;&gt;33 -->\n<g id=\"edge4\" class=\"edge\">\n<title>23&#45;&gt;33</title>\n<path fill=\"none\" stroke=\"#000000\" d=\"M146.7783,-296.9465C131.6794,-285.0504 114.7676,-271.726 99.7878,-259.9237\"/>\n<polygon fill=\"#000000\" stroke=\"#000000\" points=\"101.7091,-256.9817 91.6881,-253.5422 97.377,-262.4802 101.7091,-256.9817\"/>\n</g>\n<!-- 34 -->\n<g id=\"node6\" class=\"node\">\n<title>34</title>\n<path fill=\"#ea985d\" stroke=\"#000000\" d=\"M238,-253.5C238,-253.5 146,-253.5 146,-253.5 140,-253.5 134,-247.5 134,-241.5 134,-241.5 134,-212.5 134,-212.5 134,-206.5 140,-200.5 146,-200.5 146,-200.5 238,-200.5 238,-200.5 244,-200.5 250,-206.5 250,-212.5 250,-212.5 250,-241.5 250,-241.5 250,-247.5 244,-253.5 238,-253.5\"/>\n<text text-anchor=\"middle\" x=\"192\" y=\"-238.3\" font-family=\"Helvetica,sans-Serif\" font-size=\"14.00\" fill=\"#000000\">gini = 0.262</text>\n<text text-anchor=\"middle\" x=\"192\" y=\"-223.3\" font-family=\"Helvetica,sans-Serif\" font-size=\"14.00\" fill=\"#000000\">samples = 116</text>\n<text text-anchor=\"middle\" x=\"192\" y=\"-208.3\" font-family=\"Helvetica,sans-Serif\" font-size=\"14.00\" fill=\"#000000\">value = [98, 18]</text>\n</g>\n<!-- 23&#45;&gt;34 -->\n<g id=\"edge5\" class=\"edge\">\n<title>23&#45;&gt;34</title>\n<path fill=\"none\" stroke=\"#000000\" d=\"M190.6549,-296.9465C190.8603,-286.2621 191.088,-274.4254 191.2966,-263.5742\"/>\n<polygon fill=\"#000000\" stroke=\"#000000\" points=\"194.7966,-263.6076 191.4896,-253.5422 187.7979,-263.473 194.7966,-263.6076\"/>\n</g>\n<!-- 7 -->\n<g id=\"node9\" class=\"node\">\n<title>7</title>\n<path fill=\"#e68743\" stroke=\"#000000\" d=\"M482.5,-365C482.5,-365 399.5,-365 399.5,-365 393.5,-365 387.5,-359 387.5,-353 387.5,-353 387.5,-309 387.5,-309 387.5,-303 393.5,-297 399.5,-297 399.5,-297 482.5,-297 482.5,-297 488.5,-297 494.5,-303 494.5,-309 494.5,-309 494.5,-353 494.5,-353 494.5,-359 488.5,-365 482.5,-365\"/>\n<text text-anchor=\"middle\" x=\"441\" y=\"-349.8\" font-family=\"Helvetica,sans-Serif\" font-size=\"14.00\" fill=\"#000000\">BMI &lt;= 9.65</text>\n<text text-anchor=\"middle\" x=\"441\" y=\"-334.8\" font-family=\"Helvetica,sans-Serif\" font-size=\"14.00\" fill=\"#000000\">gini = 0.093</text>\n<text text-anchor=\"middle\" x=\"441\" y=\"-319.8\" font-family=\"Helvetica,sans-Serif\" font-size=\"14.00\" fill=\"#000000\">samples = 41</text>\n<text text-anchor=\"middle\" x=\"441\" y=\"-304.8\" font-family=\"Helvetica,sans-Serif\" font-size=\"14.00\" fill=\"#000000\">value = [39, 2]</text>\n</g>\n<!-- 6&#45;&gt;7 -->\n<g id=\"edge8\" class=\"edge\">\n<title>6&#45;&gt;7</title>\n<path fill=\"none\" stroke=\"#000000\" d=\"M492.7873,-400.9465C486.2727,-392.1475 479.1795,-382.5672 472.3918,-373.3993\"/>\n<polygon fill=\"#000000\" stroke=\"#000000\" points=\"475.0327,-371.0843 466.2693,-365.13 469.4069,-375.2496 475.0327,-371.0843\"/>\n</g>\n<!-- 8 -->\n<g id=\"node12\" class=\"node\">\n<title>8</title>\n<path fill=\"#f6d5bc\" stroke=\"#000000\" d=\"M625,-365C625,-365 525,-365 525,-365 519,-365 513,-359 513,-353 513,-353 513,-309 513,-309 513,-303 519,-297 525,-297 525,-297 625,-297 625,-297 631,-297 637,-303 637,-309 637,-309 637,-353 637,-353 637,-359 631,-365 625,-365\"/>\n<text text-anchor=\"middle\" x=\"575\" y=\"-349.8\" font-family=\"Helvetica,sans-Serif\" font-size=\"14.00\" fill=\"#000000\">Glucose &lt;= 99.5</text>\n<text text-anchor=\"middle\" x=\"575\" y=\"-334.8\" font-family=\"Helvetica,sans-Serif\" font-size=\"14.00\" fill=\"#000000\">gini = 0.48</text>\n<text text-anchor=\"middle\" x=\"575\" y=\"-319.8\" font-family=\"Helvetica,sans-Serif\" font-size=\"14.00\" fill=\"#000000\">samples = 173</text>\n<text text-anchor=\"middle\" x=\"575\" y=\"-304.8\" font-family=\"Helvetica,sans-Serif\" font-size=\"14.00\" fill=\"#000000\">value = [104, 69]</text>\n</g>\n<!-- 6&#45;&gt;8 -->\n<g id=\"edge11\" class=\"edge\">\n<title>6&#45;&gt;8</title>\n<path fill=\"none\" stroke=\"#000000\" d=\"M536.6639,-400.9465C541.388,-392.3271 546.5231,-382.9579 551.454,-373.9611\"/>\n<polygon fill=\"#000000\" stroke=\"#000000\" points=\"554.5571,-375.5815 556.2941,-365.13 548.4186,-372.2171 554.5571,-375.5815\"/>\n</g>\n<!-- 21 -->\n<g id=\"node10\" class=\"node\">\n<title>21</title>\n<path fill=\"#399de5\" stroke=\"#000000\" d=\"M357.5,-253.5C357.5,-253.5 282.5,-253.5 282.5,-253.5 276.5,-253.5 270.5,-247.5 270.5,-241.5 270.5,-241.5 270.5,-212.5 270.5,-212.5 270.5,-206.5 276.5,-200.5 282.5,-200.5 282.5,-200.5 357.5,-200.5 357.5,-200.5 363.5,-200.5 369.5,-206.5 369.5,-212.5 369.5,-212.5 369.5,-241.5 369.5,-241.5 369.5,-247.5 363.5,-253.5 357.5,-253.5\"/>\n<text text-anchor=\"middle\" x=\"320\" y=\"-238.3\" font-family=\"Helvetica,sans-Serif\" font-size=\"14.00\" fill=\"#000000\">gini = 0.0</text>\n<text text-anchor=\"middle\" x=\"320\" y=\"-223.3\" font-family=\"Helvetica,sans-Serif\" font-size=\"14.00\" fill=\"#000000\">samples = 2</text>\n<text text-anchor=\"middle\" x=\"320\" y=\"-208.3\" font-family=\"Helvetica,sans-Serif\" font-size=\"14.00\" fill=\"#000000\">value = [0, 2]</text>\n</g>\n<!-- 7&#45;&gt;21 -->\n<g id=\"edge9\" class=\"edge\">\n<title>7&#45;&gt;21</title>\n<path fill=\"none\" stroke=\"#000000\" d=\"M401.3801,-296.9465C387.6676,-285.1606 372.3239,-271.9726 358.6873,-260.2519\"/>\n<polygon fill=\"#000000\" stroke=\"#000000\" points=\"360.7459,-257.4061 350.8808,-253.5422 356.1831,-262.7147 360.7459,-257.4061\"/>\n</g>\n<!-- 22 -->\n<g id=\"node11\" class=\"node\">\n<title>22</title>\n<path fill=\"#e58139\" stroke=\"#000000\" d=\"M482.5,-253.5C482.5,-253.5 399.5,-253.5 399.5,-253.5 393.5,-253.5 387.5,-247.5 387.5,-241.5 387.5,-241.5 387.5,-212.5 387.5,-212.5 387.5,-206.5 393.5,-200.5 399.5,-200.5 399.5,-200.5 482.5,-200.5 482.5,-200.5 488.5,-200.5 494.5,-206.5 494.5,-212.5 494.5,-212.5 494.5,-241.5 494.5,-241.5 494.5,-247.5 488.5,-253.5 482.5,-253.5\"/>\n<text text-anchor=\"middle\" x=\"441\" y=\"-238.3\" font-family=\"Helvetica,sans-Serif\" font-size=\"14.00\" fill=\"#000000\">gini = 0.0</text>\n<text text-anchor=\"middle\" x=\"441\" y=\"-223.3\" font-family=\"Helvetica,sans-Serif\" font-size=\"14.00\" fill=\"#000000\">samples = 39</text>\n<text text-anchor=\"middle\" x=\"441\" y=\"-208.3\" font-family=\"Helvetica,sans-Serif\" font-size=\"14.00\" fill=\"#000000\">value = [39, 0]</text>\n</g>\n<!-- 7&#45;&gt;22 -->\n<g id=\"edge10\" class=\"edge\">\n<title>7&#45;&gt;22</title>\n<path fill=\"none\" stroke=\"#000000\" d=\"M441,-296.9465C441,-286.2621 441,-274.4254 441,-263.5742\"/>\n<polygon fill=\"#000000\" stroke=\"#000000\" points=\"444.5001,-263.5421 441,-253.5422 437.5001,-263.5422 444.5001,-263.5421\"/>\n</g>\n<!-- 9 -->\n<g id=\"node13\" class=\"node\">\n<title>9</title>\n<path fill=\"#eb9d65\" stroke=\"#000000\" d=\"M623.5,-261C623.5,-261 524.5,-261 524.5,-261 518.5,-261 512.5,-255 512.5,-249 512.5,-249 512.5,-205 512.5,-205 512.5,-199 518.5,-193 524.5,-193 524.5,-193 623.5,-193 623.5,-193 629.5,-193 635.5,-199 635.5,-205 635.5,-205 635.5,-249 635.5,-249 635.5,-255 629.5,-261 623.5,-261\"/>\n<text text-anchor=\"middle\" x=\"574\" y=\"-245.8\" font-family=\"Helvetica,sans-Serif\" font-size=\"14.00\" fill=\"#000000\">Glucose &lt;= 28.5</text>\n<text text-anchor=\"middle\" x=\"574\" y=\"-230.8\" font-family=\"Helvetica,sans-Serif\" font-size=\"14.00\" fill=\"#000000\">gini = 0.298</text>\n<text text-anchor=\"middle\" x=\"574\" y=\"-215.8\" font-family=\"Helvetica,sans-Serif\" font-size=\"14.00\" fill=\"#000000\">samples = 55</text>\n<text text-anchor=\"middle\" x=\"574\" y=\"-200.8\" font-family=\"Helvetica,sans-Serif\" font-size=\"14.00\" fill=\"#000000\">value = [45, 10]</text>\n</g>\n<!-- 8&#45;&gt;9 -->\n<g id=\"edge12\" class=\"edge\">\n<title>8&#45;&gt;9</title>\n<path fill=\"none\" stroke=\"#000000\" d=\"M574.6726,-296.9465C574.594,-288.776 574.509,-279.9318 574.4266,-271.3697\"/>\n<polygon fill=\"#000000\" stroke=\"#000000\" points=\"577.9243,-271.0958 574.3282,-261.13 570.9246,-271.1632 577.9243,-271.0958\"/>\n</g>\n<!-- 10 -->\n<g id=\"node16\" class=\"node\">\n<title>10</title>\n<path fill=\"#ffffff\" stroke=\"#000000\" d=\"M892,-261C892,-261 666,-261 666,-261 660,-261 654,-255 654,-249 654,-249 654,-205 654,-205 654,-199 660,-193 666,-193 666,-193 892,-193 892,-193 898,-193 904,-199 904,-205 904,-205 904,-249 904,-249 904,-255 898,-261 892,-261\"/>\n<text text-anchor=\"middle\" x=\"779\" y=\"-245.8\" font-family=\"Helvetica,sans-Serif\" font-size=\"14.00\" fill=\"#000000\">DiabetesPedigreeFunction &lt;= 0.561</text>\n<text text-anchor=\"middle\" x=\"779\" y=\"-230.8\" font-family=\"Helvetica,sans-Serif\" font-size=\"14.00\" fill=\"#000000\">gini = 0.5</text>\n<text text-anchor=\"middle\" x=\"779\" y=\"-215.8\" font-family=\"Helvetica,sans-Serif\" font-size=\"14.00\" fill=\"#000000\">samples = 118</text>\n<text text-anchor=\"middle\" x=\"779\" y=\"-200.8\" font-family=\"Helvetica,sans-Serif\" font-size=\"14.00\" fill=\"#000000\">value = [59, 59]</text>\n</g>\n<!-- 8&#45;&gt;10 -->\n<g id=\"edge15\" class=\"edge\">\n<title>8&#45;&gt;10</title>\n<path fill=\"none\" stroke=\"#000000\" d=\"M637.0376,-299.373C657.9522,-288.7106 681.5294,-276.6909 703.3738,-265.5545\"/>\n<polygon fill=\"#000000\" stroke=\"#000000\" points=\"704.9733,-268.6678 712.2927,-261.0077 701.7939,-262.4314 704.9733,-268.6678\"/>\n</g>\n<!-- 29 -->\n<g id=\"node14\" class=\"node\">\n<title>29</title>\n<path fill=\"#399de5\" stroke=\"#000000\" d=\"M490.5,-149.5C490.5,-149.5 415.5,-149.5 415.5,-149.5 409.5,-149.5 403.5,-143.5 403.5,-137.5 403.5,-137.5 403.5,-108.5 403.5,-108.5 403.5,-102.5 409.5,-96.5 415.5,-96.5 415.5,-96.5 490.5,-96.5 490.5,-96.5 496.5,-96.5 502.5,-102.5 502.5,-108.5 502.5,-108.5 502.5,-137.5 502.5,-137.5 502.5,-143.5 496.5,-149.5 490.5,-149.5\"/>\n<text text-anchor=\"middle\" x=\"453\" y=\"-134.3\" font-family=\"Helvetica,sans-Serif\" font-size=\"14.00\" fill=\"#000000\">gini = 0.0</text>\n<text text-anchor=\"middle\" x=\"453\" y=\"-119.3\" font-family=\"Helvetica,sans-Serif\" font-size=\"14.00\" fill=\"#000000\">samples = 2</text>\n<text text-anchor=\"middle\" x=\"453\" y=\"-104.3\" font-family=\"Helvetica,sans-Serif\" font-size=\"14.00\" fill=\"#000000\">value = [0, 2]</text>\n</g>\n<!-- 9&#45;&gt;29 -->\n<g id=\"edge13\" class=\"edge\">\n<title>9&#45;&gt;29</title>\n<path fill=\"none\" stroke=\"#000000\" d=\"M534.3801,-192.9465C520.6676,-181.1606 505.3239,-167.9726 491.6873,-156.2519\"/>\n<polygon fill=\"#000000\" stroke=\"#000000\" points=\"493.7459,-153.4061 483.8808,-149.5422 489.1831,-158.7147 493.7459,-153.4061\"/>\n</g>\n<!-- 30 -->\n<g id=\"node15\" class=\"node\">\n<title>30</title>\n<path fill=\"#ea975c\" stroke=\"#000000\" d=\"M615.5,-149.5C615.5,-149.5 532.5,-149.5 532.5,-149.5 526.5,-149.5 520.5,-143.5 520.5,-137.5 520.5,-137.5 520.5,-108.5 520.5,-108.5 520.5,-102.5 526.5,-96.5 532.5,-96.5 532.5,-96.5 615.5,-96.5 615.5,-96.5 621.5,-96.5 627.5,-102.5 627.5,-108.5 627.5,-108.5 627.5,-137.5 627.5,-137.5 627.5,-143.5 621.5,-149.5 615.5,-149.5\"/>\n<text text-anchor=\"middle\" x=\"574\" y=\"-134.3\" font-family=\"Helvetica,sans-Serif\" font-size=\"14.00\" fill=\"#000000\">gini = 0.256</text>\n<text text-anchor=\"middle\" x=\"574\" y=\"-119.3\" font-family=\"Helvetica,sans-Serif\" font-size=\"14.00\" fill=\"#000000\">samples = 53</text>\n<text text-anchor=\"middle\" x=\"574\" y=\"-104.3\" font-family=\"Helvetica,sans-Serif\" font-size=\"14.00\" fill=\"#000000\">value = [45, 8]</text>\n</g>\n<!-- 9&#45;&gt;30 -->\n<g id=\"edge14\" class=\"edge\">\n<title>9&#45;&gt;30</title>\n<path fill=\"none\" stroke=\"#000000\" d=\"M574,-192.9465C574,-182.2621 574,-170.4254 574,-159.5742\"/>\n<polygon fill=\"#000000\" stroke=\"#000000\" points=\"577.5001,-159.5421 574,-149.5422 570.5001,-159.5422 577.5001,-159.5421\"/>\n</g>\n<!-- 13 -->\n<g id=\"node17\" class=\"node\">\n<title>13</title>\n<path fill=\"#f7d7c0\" stroke=\"#000000\" d=\"M866.5,-157C866.5,-157 657.5,-157 657.5,-157 651.5,-157 645.5,-151 645.5,-145 645.5,-145 645.5,-101 645.5,-101 645.5,-95 651.5,-89 657.5,-89 657.5,-89 866.5,-89 866.5,-89 872.5,-89 878.5,-95 878.5,-101 878.5,-101 878.5,-145 878.5,-145 878.5,-151 872.5,-157 866.5,-157\"/>\n<text text-anchor=\"middle\" x=\"762\" y=\"-141.8\" font-family=\"Helvetica,sans-Serif\" font-size=\"14.00\" fill=\"#000000\">DiabetesPedigreeFunction &lt;= 0.2</text>\n<text text-anchor=\"middle\" x=\"762\" y=\"-126.8\" font-family=\"Helvetica,sans-Serif\" font-size=\"14.00\" fill=\"#000000\">gini = 0.482</text>\n<text text-anchor=\"middle\" x=\"762\" y=\"-111.8\" font-family=\"Helvetica,sans-Serif\" font-size=\"14.00\" fill=\"#000000\">samples = 84</text>\n<text text-anchor=\"middle\" x=\"762\" y=\"-96.8\" font-family=\"Helvetica,sans-Serif\" font-size=\"14.00\" fill=\"#000000\">value = [50, 34]</text>\n</g>\n<!-- 10&#45;&gt;13 -->\n<g id=\"edge16\" class=\"edge\">\n<title>10&#45;&gt;13</title>\n<path fill=\"none\" stroke=\"#000000\" d=\"M773.4336,-192.9465C772.0833,-184.6863 770.6205,-175.7374 769.2066,-167.0875\"/>\n<polygon fill=\"#000000\" stroke=\"#000000\" points=\"772.6464,-166.4344 767.5789,-157.13 765.7381,-167.5637 772.6464,-166.4344\"/>\n</g>\n<!-- 14 -->\n<g id=\"node20\" class=\"node\">\n<title>14</title>\n<path fill=\"#80c0ee\" stroke=\"#000000\" d=\"M1027.5,-157C1027.5,-157 908.5,-157 908.5,-157 902.5,-157 896.5,-151 896.5,-145 896.5,-145 896.5,-101 896.5,-101 896.5,-95 902.5,-89 908.5,-89 908.5,-89 1027.5,-89 1027.5,-89 1033.5,-89 1039.5,-95 1039.5,-101 1039.5,-101 1039.5,-145 1039.5,-145 1039.5,-151 1033.5,-157 1027.5,-157\"/>\n<text text-anchor=\"middle\" x=\"968\" y=\"-141.8\" font-family=\"Helvetica,sans-Serif\" font-size=\"14.00\" fill=\"#000000\">Pregnancies &lt;= 6.5</text>\n<text text-anchor=\"middle\" x=\"968\" y=\"-126.8\" font-family=\"Helvetica,sans-Serif\" font-size=\"14.00\" fill=\"#000000\">gini = 0.389</text>\n<text text-anchor=\"middle\" x=\"968\" y=\"-111.8\" font-family=\"Helvetica,sans-Serif\" font-size=\"14.00\" fill=\"#000000\">samples = 34</text>\n<text text-anchor=\"middle\" x=\"968\" y=\"-96.8\" font-family=\"Helvetica,sans-Serif\" font-size=\"14.00\" fill=\"#000000\">value = [9, 25]</text>\n</g>\n<!-- 10&#45;&gt;14 -->\n<g id=\"edge19\" class=\"edge\">\n<title>10&#45;&gt;14</title>\n<path fill=\"none\" stroke=\"#000000\" d=\"M840.8857,-192.9465C858.8341,-183.0701 878.5716,-172.2093 897.0301,-162.0522\"/>\n<polygon fill=\"#000000\" stroke=\"#000000\" points=\"898.9015,-165.0174 905.9753,-157.13 895.5267,-158.8846 898.9015,-165.0174\"/>\n</g>\n<!-- 37 -->\n<g id=\"node18\" class=\"node\">\n<title>37</title>\n<path fill=\"#eb9f68\" stroke=\"#000000\" d=\"M673.5,-53C673.5,-53 590.5,-53 590.5,-53 584.5,-53 578.5,-47 578.5,-41 578.5,-41 578.5,-12 578.5,-12 578.5,-6 584.5,0 590.5,0 590.5,0 673.5,0 673.5,0 679.5,0 685.5,-6 685.5,-12 685.5,-12 685.5,-41 685.5,-41 685.5,-47 679.5,-53 673.5,-53\"/>\n<text text-anchor=\"middle\" x=\"632\" y=\"-37.8\" font-family=\"Helvetica,sans-Serif\" font-size=\"14.00\" fill=\"#000000\">gini = 0.308</text>\n<text text-anchor=\"middle\" x=\"632\" y=\"-22.8\" font-family=\"Helvetica,sans-Serif\" font-size=\"14.00\" fill=\"#000000\">samples = 21</text>\n<text text-anchor=\"middle\" x=\"632\" y=\"-7.8\" font-family=\"Helvetica,sans-Serif\" font-size=\"14.00\" fill=\"#000000\">value = [17, 4]</text>\n</g>\n<!-- 13&#45;&gt;37 -->\n<g id=\"edge17\" class=\"edge\">\n<title>13&#45;&gt;37</title>\n<path fill=\"none\" stroke=\"#000000\" d=\"M716.1669,-88.9777C703.2143,-79.3629 689.1465,-68.9203 676.2867,-59.3743\"/>\n<polygon fill=\"#000000\" stroke=\"#000000\" points=\"678.1499,-56.3986 668.0342,-53.2485 673.9776,-62.0193 678.1499,-56.3986\"/>\n</g>\n<!-- 38 -->\n<g id=\"node19\" class=\"node\">\n<title>38</title>\n<path fill=\"#fdf4ed\" stroke=\"#000000\" d=\"M808,-53C808,-53 716,-53 716,-53 710,-53 704,-47 704,-41 704,-41 704,-12 704,-12 704,-6 710,0 716,0 716,0 808,0 808,0 814,0 820,-6 820,-12 820,-12 820,-41 820,-41 820,-47 814,-53 808,-53\"/>\n<text text-anchor=\"middle\" x=\"762\" y=\"-37.8\" font-family=\"Helvetica,sans-Serif\" font-size=\"14.00\" fill=\"#000000\">gini = 0.499</text>\n<text text-anchor=\"middle\" x=\"762\" y=\"-22.8\" font-family=\"Helvetica,sans-Serif\" font-size=\"14.00\" fill=\"#000000\">samples = 63</text>\n<text text-anchor=\"middle\" x=\"762\" y=\"-7.8\" font-family=\"Helvetica,sans-Serif\" font-size=\"14.00\" fill=\"#000000\">value = [33, 30]</text>\n</g>\n<!-- 13&#45;&gt;38 -->\n<g id=\"edge18\" class=\"edge\">\n<title>13&#45;&gt;38</title>\n<path fill=\"none\" stroke=\"#000000\" d=\"M762,-88.9777C762,-80.7364 762,-71.887 762,-63.5153\"/>\n<polygon fill=\"#000000\" stroke=\"#000000\" points=\"765.5001,-63.2484 762,-53.2485 758.5001,-63.2485 765.5001,-63.2484\"/>\n</g>\n<!-- 27 -->\n<g id=\"node21\" class=\"node\">\n<title>27</title>\n<path fill=\"#cee6f8\" stroke=\"#000000\" d=\"M933.5,-53C933.5,-53 850.5,-53 850.5,-53 844.5,-53 838.5,-47 838.5,-41 838.5,-41 838.5,-12 838.5,-12 838.5,-6 844.5,0 850.5,0 850.5,0 933.5,0 933.5,0 939.5,0 945.5,-6 945.5,-12 945.5,-12 945.5,-41 945.5,-41 945.5,-47 939.5,-53 933.5,-53\"/>\n<text text-anchor=\"middle\" x=\"892\" y=\"-37.8\" font-family=\"Helvetica,sans-Serif\" font-size=\"14.00\" fill=\"#000000\">gini = 0.49</text>\n<text text-anchor=\"middle\" x=\"892\" y=\"-22.8\" font-family=\"Helvetica,sans-Serif\" font-size=\"14.00\" fill=\"#000000\">samples = 21</text>\n<text text-anchor=\"middle\" x=\"892\" y=\"-7.8\" font-family=\"Helvetica,sans-Serif\" font-size=\"14.00\" fill=\"#000000\">value = [9, 12]</text>\n</g>\n<!-- 14&#45;&gt;27 -->\n<g id=\"edge20\" class=\"edge\">\n<title>14&#45;&gt;27</title>\n<path fill=\"none\" stroke=\"#000000\" d=\"M941.2052,-88.9777C934.1378,-80.0039 926.5024,-70.3089 919.4033,-61.295\"/>\n<polygon fill=\"#000000\" stroke=\"#000000\" points=\"922.003,-58.9391 913.0662,-53.2485 916.5037,-63.2701 922.003,-58.9391\"/>\n</g>\n<!-- 28 -->\n<g id=\"node22\" class=\"node\">\n<title>28</title>\n<path fill=\"#399de5\" stroke=\"#000000\" d=\"M1058.5,-53C1058.5,-53 975.5,-53 975.5,-53 969.5,-53 963.5,-47 963.5,-41 963.5,-41 963.5,-12 963.5,-12 963.5,-6 969.5,0 975.5,0 975.5,0 1058.5,0 1058.5,0 1064.5,0 1070.5,-6 1070.5,-12 1070.5,-12 1070.5,-41 1070.5,-41 1070.5,-47 1064.5,-53 1058.5,-53\"/>\n<text text-anchor=\"middle\" x=\"1017\" y=\"-37.8\" font-family=\"Helvetica,sans-Serif\" font-size=\"14.00\" fill=\"#000000\">gini = 0.0</text>\n<text text-anchor=\"middle\" x=\"1017\" y=\"-22.8\" font-family=\"Helvetica,sans-Serif\" font-size=\"14.00\" fill=\"#000000\">samples = 13</text>\n<text text-anchor=\"middle\" x=\"1017\" y=\"-7.8\" font-family=\"Helvetica,sans-Serif\" font-size=\"14.00\" fill=\"#000000\">value = [0, 13]</text>\n</g>\n<!-- 14&#45;&gt;28 -->\n<g id=\"edge21\" class=\"edge\">\n<title>14&#45;&gt;28</title>\n<path fill=\"none\" stroke=\"#000000\" d=\"M985.2756,-88.9777C989.6462,-80.3702 994.3538,-71.0992 998.77,-62.402\"/>\n<polygon fill=\"#000000\" stroke=\"#000000\" points=\"1002.0111,-63.7495 1003.4179,-53.2485 995.7696,-60.5802 1002.0111,-63.7495\"/>\n</g>\n<!-- 3 -->\n<g id=\"node24\" class=\"node\">\n<title>3</title>\n<path fill=\"#f1bb94\" stroke=\"#000000\" d=\"M910.5,-469C910.5,-469 803.5,-469 803.5,-469 797.5,-469 791.5,-463 791.5,-457 791.5,-457 791.5,-413 791.5,-413 791.5,-407 797.5,-401 803.5,-401 803.5,-401 910.5,-401 910.5,-401 916.5,-401 922.5,-407 922.5,-413 922.5,-413 922.5,-457 922.5,-457 922.5,-463 916.5,-469 910.5,-469\"/>\n<text text-anchor=\"middle\" x=\"857\" y=\"-453.8\" font-family=\"Helvetica,sans-Serif\" font-size=\"14.00\" fill=\"#000000\">Glucose &lt;= 145.5</text>\n<text text-anchor=\"middle\" x=\"857\" y=\"-438.8\" font-family=\"Helvetica,sans-Serif\" font-size=\"14.00\" fill=\"#000000\">gini = 0.432</text>\n<text text-anchor=\"middle\" x=\"857\" y=\"-423.8\" font-family=\"Helvetica,sans-Serif\" font-size=\"14.00\" fill=\"#000000\">samples = 76</text>\n<text text-anchor=\"middle\" x=\"857\" y=\"-408.8\" font-family=\"Helvetica,sans-Serif\" font-size=\"14.00\" fill=\"#000000\">value = [52, 24]</text>\n</g>\n<!-- 2&#45;&gt;3 -->\n<g id=\"edge23\" class=\"edge\">\n<title>2&#45;&gt;3</title>\n<path fill=\"none\" stroke=\"#000000\" d=\"M857,-504.9465C857,-496.776 857,-487.9318 857,-479.3697\"/>\n<polygon fill=\"#000000\" stroke=\"#000000\" points=\"860.5001,-479.13 857,-469.13 853.5001,-479.13 860.5001,-479.13\"/>\n</g>\n<!-- 4 -->\n<g id=\"node27\" class=\"node\">\n<title>4</title>\n<path fill=\"#84c2ef\" stroke=\"#000000\" d=\"M1190.5,-469C1190.5,-469 1083.5,-469 1083.5,-469 1077.5,-469 1071.5,-463 1071.5,-457 1071.5,-457 1071.5,-413 1071.5,-413 1071.5,-407 1077.5,-401 1083.5,-401 1083.5,-401 1190.5,-401 1190.5,-401 1196.5,-401 1202.5,-407 1202.5,-413 1202.5,-413 1202.5,-457 1202.5,-457 1202.5,-463 1196.5,-469 1190.5,-469\"/>\n<text text-anchor=\"middle\" x=\"1137\" y=\"-453.8\" font-family=\"Helvetica,sans-Serif\" font-size=\"14.00\" fill=\"#000000\">Glucose &lt;= 157.5</text>\n<text text-anchor=\"middle\" x=\"1137\" y=\"-438.8\" font-family=\"Helvetica,sans-Serif\" font-size=\"14.00\" fill=\"#000000\">gini = 0.399</text>\n<text text-anchor=\"middle\" x=\"1137\" y=\"-423.8\" font-family=\"Helvetica,sans-Serif\" font-size=\"14.00\" fill=\"#000000\">samples = 207</text>\n<text text-anchor=\"middle\" x=\"1137\" y=\"-408.8\" font-family=\"Helvetica,sans-Serif\" font-size=\"14.00\" fill=\"#000000\">value = [57, 150]</text>\n</g>\n<!-- 2&#45;&gt;4 -->\n<g id=\"edge26\" class=\"edge\">\n<title>2&#45;&gt;4</title>\n<path fill=\"none\" stroke=\"#000000\" d=\"M923.0015,-514.4851C964.638,-499.0202 1018.5284,-479.0037 1061.8126,-462.9267\"/>\n<polygon fill=\"#000000\" stroke=\"#000000\" points=\"1063.2859,-466.1132 1071.4415,-459.3503 1060.8486,-459.5512 1063.2859,-466.1132\"/>\n</g>\n<!-- 15 -->\n<g id=\"node25\" class=\"node\">\n<title>15</title>\n<path fill=\"#e9975b\" stroke=\"#000000\" d=\"M833.5,-357.5C833.5,-357.5 750.5,-357.5 750.5,-357.5 744.5,-357.5 738.5,-351.5 738.5,-345.5 738.5,-345.5 738.5,-316.5 738.5,-316.5 738.5,-310.5 744.5,-304.5 750.5,-304.5 750.5,-304.5 833.5,-304.5 833.5,-304.5 839.5,-304.5 845.5,-310.5 845.5,-316.5 845.5,-316.5 845.5,-345.5 845.5,-345.5 845.5,-351.5 839.5,-357.5 833.5,-357.5\"/>\n<text text-anchor=\"middle\" x=\"792\" y=\"-342.3\" font-family=\"Helvetica,sans-Serif\" font-size=\"14.00\" fill=\"#000000\">gini = 0.25</text>\n<text text-anchor=\"middle\" x=\"792\" y=\"-327.3\" font-family=\"Helvetica,sans-Serif\" font-size=\"14.00\" fill=\"#000000\">samples = 41</text>\n<text text-anchor=\"middle\" x=\"792\" y=\"-312.3\" font-family=\"Helvetica,sans-Serif\" font-size=\"14.00\" fill=\"#000000\">value = [35, 6]</text>\n</g>\n<!-- 3&#45;&gt;15 -->\n<g id=\"edge24\" class=\"edge\">\n<title>3&#45;&gt;15</title>\n<path fill=\"none\" stroke=\"#000000\" d=\"M835.7166,-400.9465C828.7634,-389.8215 821.0295,-377.4473 814.0231,-366.237\"/>\n<polygon fill=\"#000000\" stroke=\"#000000\" points=\"816.8569,-364.1671 808.5889,-357.5422 810.9209,-367.8772 816.8569,-364.1671\"/>\n</g>\n<!-- 16 -->\n<g id=\"node26\" class=\"node\">\n<title>16</title>\n<path fill=\"#f4fafe\" stroke=\"#000000\" d=\"M968,-357.5C968,-357.5 876,-357.5 876,-357.5 870,-357.5 864,-351.5 864,-345.5 864,-345.5 864,-316.5 864,-316.5 864,-310.5 870,-304.5 876,-304.5 876,-304.5 968,-304.5 968,-304.5 974,-304.5 980,-310.5 980,-316.5 980,-316.5 980,-345.5 980,-345.5 980,-351.5 974,-357.5 968,-357.5\"/>\n<text text-anchor=\"middle\" x=\"922\" y=\"-342.3\" font-family=\"Helvetica,sans-Serif\" font-size=\"14.00\" fill=\"#000000\">gini = 0.5</text>\n<text text-anchor=\"middle\" x=\"922\" y=\"-327.3\" font-family=\"Helvetica,sans-Serif\" font-size=\"14.00\" fill=\"#000000\">samples = 35</text>\n<text text-anchor=\"middle\" x=\"922\" y=\"-312.3\" font-family=\"Helvetica,sans-Serif\" font-size=\"14.00\" fill=\"#000000\">value = [17, 18]</text>\n</g>\n<!-- 3&#45;&gt;16 -->\n<g id=\"edge25\" class=\"edge\">\n<title>3&#45;&gt;16</title>\n<path fill=\"none\" stroke=\"#000000\" d=\"M878.2834,-400.9465C885.2366,-389.8215 892.9705,-377.4473 899.9769,-366.237\"/>\n<polygon fill=\"#000000\" stroke=\"#000000\" points=\"903.0791,-367.8772 905.4111,-357.5422 897.1431,-364.1671 903.0791,-367.8772\"/>\n</g>\n<!-- 11 -->\n<g id=\"node28\" class=\"node\">\n<title>11</title>\n<path fill=\"#b8dcf6\" stroke=\"#000000\" d=\"M1183,-365C1183,-365 1091,-365 1091,-365 1085,-365 1079,-359 1079,-353 1079,-353 1079,-309 1079,-309 1079,-303 1085,-297 1091,-297 1091,-297 1183,-297 1183,-297 1189,-297 1195,-303 1195,-309 1195,-309 1195,-353 1195,-353 1195,-359 1189,-365 1183,-365\"/>\n<text text-anchor=\"middle\" x=\"1137\" y=\"-349.8\" font-family=\"Helvetica,sans-Serif\" font-size=\"14.00\" fill=\"#000000\">Age &lt;= 30.5</text>\n<text text-anchor=\"middle\" x=\"1137\" y=\"-334.8\" font-family=\"Helvetica,sans-Serif\" font-size=\"14.00\" fill=\"#000000\">gini = 0.476</text>\n<text text-anchor=\"middle\" x=\"1137\" y=\"-319.8\" font-family=\"Helvetica,sans-Serif\" font-size=\"14.00\" fill=\"#000000\">samples = 115</text>\n<text text-anchor=\"middle\" x=\"1137\" y=\"-304.8\" font-family=\"Helvetica,sans-Serif\" font-size=\"14.00\" fill=\"#000000\">value = [45, 70]</text>\n</g>\n<!-- 4&#45;&gt;11 -->\n<g id=\"edge27\" class=\"edge\">\n<title>4&#45;&gt;11</title>\n<path fill=\"none\" stroke=\"#000000\" d=\"M1137,-400.9465C1137,-392.776 1137,-383.9318 1137,-375.3697\"/>\n<polygon fill=\"#000000\" stroke=\"#000000\" points=\"1140.5001,-375.13 1137,-365.13 1133.5001,-375.13 1140.5001,-375.13\"/>\n</g>\n<!-- 12 -->\n<g id=\"node39\" class=\"node\">\n<title>12</title>\n<path fill=\"#57ace9\" stroke=\"#000000\" d=\"M1317,-357.5C1317,-357.5 1225,-357.5 1225,-357.5 1219,-357.5 1213,-351.5 1213,-345.5 1213,-345.5 1213,-316.5 1213,-316.5 1213,-310.5 1219,-304.5 1225,-304.5 1225,-304.5 1317,-304.5 1317,-304.5 1323,-304.5 1329,-310.5 1329,-316.5 1329,-316.5 1329,-345.5 1329,-345.5 1329,-351.5 1323,-357.5 1317,-357.5\"/>\n<text text-anchor=\"middle\" x=\"1271\" y=\"-342.3\" font-family=\"Helvetica,sans-Serif\" font-size=\"14.00\" fill=\"#000000\">gini = 0.227</text>\n<text text-anchor=\"middle\" x=\"1271\" y=\"-327.3\" font-family=\"Helvetica,sans-Serif\" font-size=\"14.00\" fill=\"#000000\">samples = 92</text>\n<text text-anchor=\"middle\" x=\"1271\" y=\"-312.3\" font-family=\"Helvetica,sans-Serif\" font-size=\"14.00\" fill=\"#000000\">value = [12, 80]</text>\n</g>\n<!-- 4&#45;&gt;12 -->\n<g id=\"edge38\" class=\"edge\">\n<title>4&#45;&gt;12</title>\n<path fill=\"none\" stroke=\"#000000\" d=\"M1180.8766,-400.9465C1196.2043,-389.0504 1213.3723,-375.726 1228.5791,-363.9237\"/>\n<polygon fill=\"#000000\" stroke=\"#000000\" points=\"1231.0475,-366.4384 1236.8014,-357.5422 1226.7556,-360.9085 1231.0475,-366.4384\"/>\n</g>\n<!-- 17 -->\n<g id=\"node29\" class=\"node\">\n<title>17</title>\n<path fill=\"#fbece2\" stroke=\"#000000\" d=\"M1207.5,-261C1207.5,-261 1066.5,-261 1066.5,-261 1060.5,-261 1054.5,-255 1054.5,-249 1054.5,-249 1054.5,-205 1054.5,-205 1054.5,-199 1060.5,-193 1066.5,-193 1066.5,-193 1207.5,-193 1207.5,-193 1213.5,-193 1219.5,-199 1219.5,-205 1219.5,-205 1219.5,-249 1219.5,-249 1219.5,-255 1213.5,-261 1207.5,-261\"/>\n<text text-anchor=\"middle\" x=\"1137\" y=\"-245.8\" font-family=\"Helvetica,sans-Serif\" font-size=\"14.00\" fill=\"#000000\">BloodPressure &lt;= 61.0</text>\n<text text-anchor=\"middle\" x=\"1137\" y=\"-230.8\" font-family=\"Helvetica,sans-Serif\" font-size=\"14.00\" fill=\"#000000\">gini = 0.497</text>\n<text text-anchor=\"middle\" x=\"1137\" y=\"-215.8\" font-family=\"Helvetica,sans-Serif\" font-size=\"14.00\" fill=\"#000000\">samples = 50</text>\n<text text-anchor=\"middle\" x=\"1137\" y=\"-200.8\" font-family=\"Helvetica,sans-Serif\" font-size=\"14.00\" fill=\"#000000\">value = [27, 23]</text>\n</g>\n<!-- 11&#45;&gt;17 -->\n<g id=\"edge28\" class=\"edge\">\n<title>11&#45;&gt;17</title>\n<path fill=\"none\" stroke=\"#000000\" d=\"M1137,-296.9465C1137,-288.776 1137,-279.9318 1137,-271.3697\"/>\n<polygon fill=\"#000000\" stroke=\"#000000\" points=\"1140.5001,-271.13 1137,-261.13 1133.5001,-271.13 1140.5001,-271.13\"/>\n</g>\n<!-- 18 -->\n<g id=\"node34\" class=\"node\">\n<title>18</title>\n<path fill=\"#85c3ef\" stroke=\"#000000\" d=\"M1502,-261C1502,-261 1276,-261 1276,-261 1270,-261 1264,-255 1264,-249 1264,-249 1264,-205 1264,-205 1264,-199 1270,-193 1276,-193 1276,-193 1502,-193 1502,-193 1508,-193 1514,-199 1514,-205 1514,-205 1514,-249 1514,-249 1514,-255 1508,-261 1502,-261\"/>\n<text text-anchor=\"middle\" x=\"1389\" y=\"-245.8\" font-family=\"Helvetica,sans-Serif\" font-size=\"14.00\" fill=\"#000000\">DiabetesPedigreeFunction &lt;= 0.429</text>\n<text text-anchor=\"middle\" x=\"1389\" y=\"-230.8\" font-family=\"Helvetica,sans-Serif\" font-size=\"14.00\" fill=\"#000000\">gini = 0.4</text>\n<text text-anchor=\"middle\" x=\"1389\" y=\"-215.8\" font-family=\"Helvetica,sans-Serif\" font-size=\"14.00\" fill=\"#000000\">samples = 65</text>\n<text text-anchor=\"middle\" x=\"1389\" y=\"-200.8\" font-family=\"Helvetica,sans-Serif\" font-size=\"14.00\" fill=\"#000000\">value = [18, 47]</text>\n</g>\n<!-- 11&#45;&gt;18 -->\n<g id=\"edge33\" class=\"edge\">\n<title>11&#45;&gt;18</title>\n<path fill=\"none\" stroke=\"#000000\" d=\"M1195.2873,-300.9551C1198.2202,-299.59 1201.136,-298.2641 1204,-297 1229.4619,-285.7616 1257.3441,-274.6231 1283.5623,-264.6476\"/>\n<polygon fill=\"#000000\" stroke=\"#000000\" points=\"1285.0227,-267.8374 1293.1387,-261.0271 1282.5471,-261.2897 1285.0227,-267.8374\"/>\n</g>\n<!-- 19 -->\n<g id=\"node30\" class=\"node\">\n<title>19</title>\n<path fill=\"#399de5\" stroke=\"#000000\" d=\"M1159.5,-149.5C1159.5,-149.5 1076.5,-149.5 1076.5,-149.5 1070.5,-149.5 1064.5,-143.5 1064.5,-137.5 1064.5,-137.5 1064.5,-108.5 1064.5,-108.5 1064.5,-102.5 1070.5,-96.5 1076.5,-96.5 1076.5,-96.5 1159.5,-96.5 1159.5,-96.5 1165.5,-96.5 1171.5,-102.5 1171.5,-108.5 1171.5,-108.5 1171.5,-137.5 1171.5,-137.5 1171.5,-143.5 1165.5,-149.5 1159.5,-149.5\"/>\n<text text-anchor=\"middle\" x=\"1118\" y=\"-134.3\" font-family=\"Helvetica,sans-Serif\" font-size=\"14.00\" fill=\"#000000\">gini = 0.0</text>\n<text text-anchor=\"middle\" x=\"1118\" y=\"-119.3\" font-family=\"Helvetica,sans-Serif\" font-size=\"14.00\" fill=\"#000000\">samples = 10</text>\n<text text-anchor=\"middle\" x=\"1118\" y=\"-104.3\" font-family=\"Helvetica,sans-Serif\" font-size=\"14.00\" fill=\"#000000\">value = [0, 10]</text>\n</g>\n<!-- 17&#45;&gt;19 -->\n<g id=\"edge29\" class=\"edge\">\n<title>17&#45;&gt;19</title>\n<path fill=\"none\" stroke=\"#000000\" d=\"M1130.7787,-192.9465C1128.8267,-182.2621 1126.6643,-170.4254 1124.6818,-159.5742\"/>\n<polygon fill=\"#000000\" stroke=\"#000000\" points=\"1128.0893,-158.7503 1122.849,-149.5422 1121.2033,-160.0084 1128.0893,-158.7503\"/>\n</g>\n<!-- 20 -->\n<g id=\"node31\" class=\"node\">\n<title>20</title>\n<path fill=\"#f2be98\" stroke=\"#000000\" d=\"M1294,-157C1294,-157 1202,-157 1202,-157 1196,-157 1190,-151 1190,-145 1190,-145 1190,-101 1190,-101 1190,-95 1196,-89 1202,-89 1202,-89 1294,-89 1294,-89 1300,-89 1306,-95 1306,-101 1306,-101 1306,-145 1306,-145 1306,-151 1300,-157 1294,-157\"/>\n<text text-anchor=\"middle\" x=\"1248\" y=\"-141.8\" font-family=\"Helvetica,sans-Serif\" font-size=\"14.00\" fill=\"#000000\">BMI &lt;= 41.8</text>\n<text text-anchor=\"middle\" x=\"1248\" y=\"-126.8\" font-family=\"Helvetica,sans-Serif\" font-size=\"14.00\" fill=\"#000000\">gini = 0.439</text>\n<text text-anchor=\"middle\" x=\"1248\" y=\"-111.8\" font-family=\"Helvetica,sans-Serif\" font-size=\"14.00\" fill=\"#000000\">samples = 40</text>\n<text text-anchor=\"middle\" x=\"1248\" y=\"-96.8\" font-family=\"Helvetica,sans-Serif\" font-size=\"14.00\" fill=\"#000000\">value = [27, 13]</text>\n</g>\n<!-- 17&#45;&gt;20 -->\n<g id=\"edge30\" class=\"edge\">\n<title>17&#45;&gt;20</title>\n<path fill=\"none\" stroke=\"#000000\" d=\"M1173.3456,-192.9465C1183.2159,-183.6986 1194.0075,-173.5876 1204.241,-163.9994\"/>\n<polygon fill=\"#000000\" stroke=\"#000000\" points=\"1206.6684,-166.5214 1211.5728,-157.13 1201.8823,-161.4131 1206.6684,-166.5214\"/>\n</g>\n<!-- 31 -->\n<g id=\"node32\" class=\"node\">\n<title>31</title>\n<path fill=\"#eda673\" stroke=\"#000000\" d=\"M1183.5,-53C1183.5,-53 1100.5,-53 1100.5,-53 1094.5,-53 1088.5,-47 1088.5,-41 1088.5,-41 1088.5,-12 1088.5,-12 1088.5,-6 1094.5,0 1100.5,0 1100.5,0 1183.5,0 1183.5,0 1189.5,0 1195.5,-6 1195.5,-12 1195.5,-12 1195.5,-41 1195.5,-41 1195.5,-47 1189.5,-53 1183.5,-53\"/>\n<text text-anchor=\"middle\" x=\"1142\" y=\"-37.8\" font-family=\"Helvetica,sans-Serif\" font-size=\"14.00\" fill=\"#000000\">gini = 0.35</text>\n<text text-anchor=\"middle\" x=\"1142\" y=\"-22.8\" font-family=\"Helvetica,sans-Serif\" font-size=\"14.00\" fill=\"#000000\">samples = 31</text>\n<text text-anchor=\"middle\" x=\"1142\" y=\"-7.8\" font-family=\"Helvetica,sans-Serif\" font-size=\"14.00\" fill=\"#000000\">value = [24, 7]</text>\n</g>\n<!-- 20&#45;&gt;31 -->\n<g id=\"edge31\" class=\"edge\">\n<title>20&#45;&gt;31</title>\n<path fill=\"none\" stroke=\"#000000\" d=\"M1210.6284,-88.9777C1200.3688,-79.6376 1189.2511,-69.5163 1179.0118,-60.1947\"/>\n<polygon fill=\"#000000\" stroke=\"#000000\" points=\"1181.1326,-57.3923 1171.3817,-53.2485 1176.4202,-62.5686 1181.1326,-57.3923\"/>\n</g>\n<!-- 32 -->\n<g id=\"node33\" class=\"node\">\n<title>32</title>\n<path fill=\"#9ccef2\" stroke=\"#000000\" d=\"M1300.5,-53C1300.5,-53 1225.5,-53 1225.5,-53 1219.5,-53 1213.5,-47 1213.5,-41 1213.5,-41 1213.5,-12 1213.5,-12 1213.5,-6 1219.5,0 1225.5,0 1225.5,0 1300.5,0 1300.5,0 1306.5,0 1312.5,-6 1312.5,-12 1312.5,-12 1312.5,-41 1312.5,-41 1312.5,-47 1306.5,-53 1300.5,-53\"/>\n<text text-anchor=\"middle\" x=\"1263\" y=\"-37.8\" font-family=\"Helvetica,sans-Serif\" font-size=\"14.00\" fill=\"#000000\">gini = 0.444</text>\n<text text-anchor=\"middle\" x=\"1263\" y=\"-22.8\" font-family=\"Helvetica,sans-Serif\" font-size=\"14.00\" fill=\"#000000\">samples = 9</text>\n<text text-anchor=\"middle\" x=\"1263\" y=\"-7.8\" font-family=\"Helvetica,sans-Serif\" font-size=\"14.00\" fill=\"#000000\">value = [3, 6]</text>\n</g>\n<!-- 20&#45;&gt;32 -->\n<g id=\"edge32\" class=\"edge\">\n<title>20&#45;&gt;32</title>\n<path fill=\"none\" stroke=\"#000000\" d=\"M1253.2884,-88.9777C1254.5837,-80.6449 1255.9756,-71.6903 1257.2897,-63.2364\"/>\n<polygon fill=\"#000000\" stroke=\"#000000\" points=\"1260.7646,-63.6674 1258.8422,-53.2485 1253.8477,-62.5922 1260.7646,-63.6674\"/>\n</g>\n<!-- 25 -->\n<g id=\"node35\" class=\"node\">\n<title>25</title>\n<path fill=\"#e5f2fc\" stroke=\"#000000\" d=\"M1435,-157C1435,-157 1343,-157 1343,-157 1337,-157 1331,-151 1331,-145 1331,-145 1331,-101 1331,-101 1331,-95 1337,-89 1343,-89 1343,-89 1435,-89 1435,-89 1441,-89 1447,-95 1447,-101 1447,-101 1447,-145 1447,-145 1447,-151 1441,-157 1435,-157\"/>\n<text text-anchor=\"middle\" x=\"1389\" y=\"-141.8\" font-family=\"Helvetica,sans-Serif\" font-size=\"14.00\" fill=\"#000000\">BMI &lt;= 45.55</text>\n<text text-anchor=\"middle\" x=\"1389\" y=\"-126.8\" font-family=\"Helvetica,sans-Serif\" font-size=\"14.00\" fill=\"#000000\">gini = 0.497</text>\n<text text-anchor=\"middle\" x=\"1389\" y=\"-111.8\" font-family=\"Helvetica,sans-Serif\" font-size=\"14.00\" fill=\"#000000\">samples = 28</text>\n<text text-anchor=\"middle\" x=\"1389\" y=\"-96.8\" font-family=\"Helvetica,sans-Serif\" font-size=\"14.00\" fill=\"#000000\">value = [13, 15]</text>\n</g>\n<!-- 18&#45;&gt;25 -->\n<g id=\"edge34\" class=\"edge\">\n<title>18&#45;&gt;25</title>\n<path fill=\"none\" stroke=\"#000000\" d=\"M1389,-192.9465C1389,-184.776 1389,-175.9318 1389,-167.3697\"/>\n<polygon fill=\"#000000\" stroke=\"#000000\" points=\"1392.5001,-167.13 1389,-157.13 1385.5001,-167.13 1392.5001,-167.13\"/>\n</g>\n<!-- 26 -->\n<g id=\"node38\" class=\"node\">\n<title>26</title>\n<path fill=\"#58ace9\" stroke=\"#000000\" d=\"M1560.5,-149.5C1560.5,-149.5 1477.5,-149.5 1477.5,-149.5 1471.5,-149.5 1465.5,-143.5 1465.5,-137.5 1465.5,-137.5 1465.5,-108.5 1465.5,-108.5 1465.5,-102.5 1471.5,-96.5 1477.5,-96.5 1477.5,-96.5 1560.5,-96.5 1560.5,-96.5 1566.5,-96.5 1572.5,-102.5 1572.5,-108.5 1572.5,-108.5 1572.5,-137.5 1572.5,-137.5 1572.5,-143.5 1566.5,-149.5 1560.5,-149.5\"/>\n<text text-anchor=\"middle\" x=\"1519\" y=\"-134.3\" font-family=\"Helvetica,sans-Serif\" font-size=\"14.00\" fill=\"#000000\">gini = 0.234</text>\n<text text-anchor=\"middle\" x=\"1519\" y=\"-119.3\" font-family=\"Helvetica,sans-Serif\" font-size=\"14.00\" fill=\"#000000\">samples = 37</text>\n<text text-anchor=\"middle\" x=\"1519\" y=\"-104.3\" font-family=\"Helvetica,sans-Serif\" font-size=\"14.00\" fill=\"#000000\">value = [5, 32]</text>\n</g>\n<!-- 18&#45;&gt;26 -->\n<g id=\"edge37\" class=\"edge\">\n<title>18&#45;&gt;26</title>\n<path fill=\"none\" stroke=\"#000000\" d=\"M1431.5669,-192.9465C1446.437,-181.0504 1463.0925,-167.726 1477.8454,-155.9237\"/>\n<polygon fill=\"#000000\" stroke=\"#000000\" points=\"1480.2,-158.5222 1485.8223,-149.5422 1475.8271,-153.0561 1480.2,-158.5222\"/>\n</g>\n<!-- 35 -->\n<g id=\"node36\" class=\"node\">\n<title>35</title>\n<path fill=\"#f9e2d1\" stroke=\"#000000\" d=\"M1435,-53C1435,-53 1343,-53 1343,-53 1337,-53 1331,-47 1331,-41 1331,-41 1331,-12 1331,-12 1331,-6 1337,0 1343,0 1343,0 1435,0 1435,0 1441,0 1447,-6 1447,-12 1447,-12 1447,-41 1447,-41 1447,-47 1441,-53 1435,-53\"/>\n<text text-anchor=\"middle\" x=\"1389\" y=\"-37.8\" font-family=\"Helvetica,sans-Serif\" font-size=\"14.00\" fill=\"#000000\">gini = 0.491</text>\n<text text-anchor=\"middle\" x=\"1389\" y=\"-22.8\" font-family=\"Helvetica,sans-Serif\" font-size=\"14.00\" fill=\"#000000\">samples = 23</text>\n<text text-anchor=\"middle\" x=\"1389\" y=\"-7.8\" font-family=\"Helvetica,sans-Serif\" font-size=\"14.00\" fill=\"#000000\">value = [13, 10]</text>\n</g>\n<!-- 25&#45;&gt;35 -->\n<g id=\"edge35\" class=\"edge\">\n<title>25&#45;&gt;35</title>\n<path fill=\"none\" stroke=\"#000000\" d=\"M1389,-88.9777C1389,-80.7364 1389,-71.887 1389,-63.5153\"/>\n<polygon fill=\"#000000\" stroke=\"#000000\" points=\"1392.5001,-63.2484 1389,-53.2485 1385.5001,-63.2485 1392.5001,-63.2484\"/>\n</g>\n<!-- 36 -->\n<g id=\"node37\" class=\"node\">\n<title>36</title>\n<path fill=\"#399de5\" stroke=\"#000000\" d=\"M1552.5,-53C1552.5,-53 1477.5,-53 1477.5,-53 1471.5,-53 1465.5,-47 1465.5,-41 1465.5,-41 1465.5,-12 1465.5,-12 1465.5,-6 1471.5,0 1477.5,0 1477.5,0 1552.5,0 1552.5,0 1558.5,0 1564.5,-6 1564.5,-12 1564.5,-12 1564.5,-41 1564.5,-41 1564.5,-47 1558.5,-53 1552.5,-53\"/>\n<text text-anchor=\"middle\" x=\"1515\" y=\"-37.8\" font-family=\"Helvetica,sans-Serif\" font-size=\"14.00\" fill=\"#000000\">gini = 0.0</text>\n<text text-anchor=\"middle\" x=\"1515\" y=\"-22.8\" font-family=\"Helvetica,sans-Serif\" font-size=\"14.00\" fill=\"#000000\">samples = 5</text>\n<text text-anchor=\"middle\" x=\"1515\" y=\"-7.8\" font-family=\"Helvetica,sans-Serif\" font-size=\"14.00\" fill=\"#000000\">value = [0, 5]</text>\n</g>\n<!-- 25&#45;&gt;36 -->\n<g id=\"edge36\" class=\"edge\">\n<title>25&#45;&gt;36</title>\n<path fill=\"none\" stroke=\"#000000\" d=\"M1433.4229,-88.9777C1445.977,-79.3629 1459.6119,-68.9203 1472.076,-59.3743\"/>\n<polygon fill=\"#000000\" stroke=\"#000000\" points=\"1474.2635,-62.1076 1480.0745,-53.2485 1470.0073,-56.5502 1474.2635,-62.1076\"/>\n</g>\n</g>\n</svg>\n"
          },
          "metadata": {},
          "execution_count": 17
        }
      ]
    }
  ]
}