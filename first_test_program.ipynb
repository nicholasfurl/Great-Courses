{
  "nbformat": 4,
  "nbformat_minor": 0,
  "metadata": {
    "colab": {
      "provenance": [],
      "name": "first_test_program.ipynb",
      "authorship_tag": "ABX9TyN6e+/5Sf0xcqkESnVNsVZb",
      "include_colab_link": true
    },
    "kernelspec": {
      "name": "python3",
      "display_name": "Python 3"
    },
    "language_info": {
      "name": "python"
    }
  },
  "cells": [
    {
      "cell_type": "markdown",
      "metadata": {
        "id": "view-in-github",
        "colab_type": "text"
      },
      "source": [
        "<a href=\"https://colab.research.google.com/github/nicholasfurl/Great-Courses/blob/main/first_test_program.ipynb\" target=\"_parent\"><img src=\"https://colab.research.google.com/assets/colab-badge.svg\" alt=\"Open In Colab\"/></a>"
      ]
    },
    {
      "cell_type": "code",
      "execution_count": 1,
      "metadata": {
        "id": "1ue8MPyK_CBX"
      },
      "outputs": [],
      "source": [
        "import math"
      ]
    },
    {
      "cell_type": "code",
      "source": [
        "newVar = 1"
      ],
      "metadata": {
        "id": "o4pkIj0zZ8rE"
      },
      "execution_count": 3,
      "outputs": []
    },
    {
      "cell_type": "code",
      "source": [
        "def distance(c1, c2):\n",
        "  return(math.sqrt((c1[0]-c2[0])**2 + (c1[1]-c2[1])**2 +(c1[2]-c2[2])**2))"
      ],
      "metadata": {
        "id": "JAhXQBAlaJEz"
      },
      "execution_count": 4,
      "outputs": []
    },
    {
      "cell_type": "code",
      "source": [
        "import madeupname"
      ],
      "metadata": {
        "id": "PRmwrEWNZ1Jm"
      },
      "execution_count": null,
      "outputs": []
    }
  ]
}