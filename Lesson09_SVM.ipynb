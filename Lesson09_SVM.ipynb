{
  "nbformat": 4,
  "nbformat_minor": 0,
  "metadata": {
    "colab": {
      "provenance": [],
      "authorship_tag": "ABX9TyM0nZkRZ9LATgI30Zv6qNNZ",
      "include_colab_link": true
    },
    "kernelspec": {
      "name": "python3",
      "display_name": "Python 3"
    },
    "language_info": {
      "name": "python"
    }
  },
  "cells": [
    {
      "cell_type": "markdown",
      "metadata": {
        "id": "view-in-github",
        "colab_type": "text"
      },
      "source": [
        "<a href=\"https://colab.research.google.com/github/nicholasfurl/Great-Courses/blob/main/Lesson09_SVM.ipynb\" target=\"_parent\"><img src=\"https://colab.research.google.com/assets/colab-badge.svg\" alt=\"Open In Colab\"/></a>"
      ]
    },
    {
      "cell_type": "code",
      "execution_count": null,
      "metadata": {
        "id": "YncJSpo_PyL0"
      },
      "outputs": [],
      "source": [
        "#In this notebook we will create a classifier to predict diabetes using a support vector machine (SVM) \n",
        "#varying the number of degrees of the polynomial of the SVM."
      ]
    },
    {
      "cell_type": "code",
      "source": [
        "#Again, keeping this here for reference but will try to keep actual imports near \n",
        "#their function calls to learn their associations whenever possible\n",
        "\n",
        "import random\n",
        "from sklearn import svm\n",
        "import matplotlib.pyplot as plt"
      ],
      "metadata": {
        "id": "W-TCqKA-QOLB"
      },
      "execution_count": null,
      "outputs": []
    },
    {
      "cell_type": "code",
      "source": [
        "#Download the diabetes data from GitHub. \n",
        "#We used this with the first decision tree lesson, I believe.\n",
        "\n",
        "!wget https://raw.githubusercontent.com/plotly/datasets/master/diabetes.csv"
      ],
      "metadata": {
        "id": "9uj04iSDQrj8",
        "outputId": "f8423c5e-0c78-4f8c-98aa-54bb87970335",
        "colab": {
          "base_uri": "https://localhost:8080/"
        }
      },
      "execution_count": 1,
      "outputs": [
        {
          "output_type": "stream",
          "name": "stdout",
          "text": [
            "--2023-01-06 10:34:05--  https://raw.githubusercontent.com/plotly/datasets/master/diabetes.csv\n",
            "Resolving raw.githubusercontent.com (raw.githubusercontent.com)... 185.199.108.133, 185.199.109.133, 185.199.110.133, ...\n",
            "Connecting to raw.githubusercontent.com (raw.githubusercontent.com)|185.199.108.133|:443... connected.\n",
            "HTTP request sent, awaiting response... 200 OK\n",
            "Length: 23873 (23K) [text/plain]\n",
            "Saving to: ‘diabetes.csv’\n",
            "\n",
            "\rdiabetes.csv          0%[                    ]       0  --.-KB/s               \rdiabetes.csv        100%[===================>]  23.31K  --.-KB/s    in 0.001s  \n",
            "\n",
            "2023-01-06 10:34:05 (19.4 MB/s) - ‘diabetes.csv’ saved [23873/23873]\n",
            "\n"
          ]
        }
      ]
    }
  ]
}