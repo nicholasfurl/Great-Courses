{
  "nbformat": 4,
  "nbformat_minor": 0,
  "metadata": {
    "colab": {
      "provenance": [],
      "authorship_tag": "ABX9TyPg4rfhkABs+WEBEQihAoGe",
      "include_colab_link": true
    },
    "kernelspec": {
      "name": "python3",
      "display_name": "Python 3"
    },
    "language_info": {
      "name": "python"
    }
  },
  "cells": [
    {
      "cell_type": "markdown",
      "metadata": {
        "id": "view-in-github",
        "colab_type": "text"
      },
      "source": [
        "<a href=\"https://colab.research.google.com/github/nicholasfurl/Great-Courses/blob/main/Lesson15_vgg16CNN_bugs.ipynb\" target=\"_parent\"><img src=\"https://colab.research.google.com/assets/colab-badge.svg\" alt=\"Open In Colab\"/></a>"
      ]
    },
    {
      "cell_type": "code",
      "execution_count": null,
      "metadata": {
        "id": "OCy7QsXxc7rV"
      },
      "outputs": [],
      "source": [
        "##########\n",
        "#-----vgg16 DCNN bug versus animal classification\n",
        "#This notebook trains an image classification model and makes gradual improvements, \n",
        "#debugging the model, to improve performance. GPUs are encouraged. \n",
        "#In colab, one can add a GPU by clicking the Runtime menu and selecting Change runtime type. \n",
        "#Selecting GPU as the hardware accelerator will allow for the usage of a GPU.\n",
        "#########"
      ]
    },
    {
      "cell_type": "code",
      "source": [
        "#Download tinyImageNet\n",
        "#200 categories, 500 images per category, images 64*64*3\n",
        "\n",
        "#unzipping creates a tiny-imagenet-200 folder in active directory with test, train and val subfolders and two *.txt files\n",
        "#Train subfolders have lots of further subfolders, eacj labveled n10*. Within each is some text files and an images folder\n",
        "#containing n*.JPEG images\n",
        "#Test subfolder has subfolder images with test_*JPEG files\n",
        "!wget http://cs231n.stanford.edu/tiny-imagenet-200.zip\n",
        "!unzip -q tiny-imagenet-200.zip"
      ],
      "metadata": {
        "id": "A2CAkx1idnXH",
        "outputId": "04c3a1ab-aea9-45b1-9051-cbfa14ed8493",
        "colab": {
          "base_uri": "https://localhost:8080/"
        }
      },
      "execution_count": 1,
      "outputs": [
        {
          "output_type": "stream",
          "name": "stdout",
          "text": [
            "--2023-01-03 16:30:48--  http://cs231n.stanford.edu/tiny-imagenet-200.zip\n",
            "Resolving cs231n.stanford.edu (cs231n.stanford.edu)... 171.64.68.10\n",
            "Connecting to cs231n.stanford.edu (cs231n.stanford.edu)|171.64.68.10|:80... connected.\n",
            "HTTP request sent, awaiting response... 200 OK\n",
            "Length: 248100043 (237M) [application/zip]\n",
            "Saving to: ‘tiny-imagenet-200.zip’\n",
            "\n",
            "tiny-imagenet-200.z 100%[===================>] 236.61M  20.1MB/s    in 15s     \n",
            "\n",
            "2023-01-03 16:31:03 (16.0 MB/s) - ‘tiny-imagenet-200.zip’ saved [248100043/248100043]\n",
            "\n"
          ]
        }
      ]
    },
    {
      "cell_type": "code",
      "source": [
        "!pip install keras=='2.8.0'\n",
        "#from PIL import Image    #I knpow from previous lessons that this doesn't work\n",
        "from keras.preprocessing import image\n",
        "import numpy as np\n",
        "from sklearn.model_selection import train_test_split"
      ],
      "metadata": {
        "id": "QHA-A_0NnLAI"
      },
      "execution_count": null,
      "outputs": []
    },
    {
      "cell_type": "code",
      "source": [
        "#specify folder names  (for training set?)\n",
        "cats_0 = ['n01443537','n01629819','n01641577','n01644900','n01698640','n01742172',\n",
        "          'n01855672','n01882714','n02002724','n02056570','n02058221','n02074367',\n",
        "          'n02085620','n02094433','n02099601','n02099712','n02106662','n02113799',\n",
        "          'n02123045','n02123394','n02124075','n02125311','n02129165','n02132136',\n",
        "          'n02364673','n02395406','n02403003','n02410509','n02415577','n02423022',\n",
        "          'n02437312','n02480495','n02481823','n02486410','n02504458','n02509815']\n",
        "cats_1 = ['n01770393','n01774384','n01774750','n01784675','n02165456','n02190166',\n",
        "          'n02206856','n02226429','n02231487','n02233338','n02236044','n02268443',\n",
        "          'n02279972','n02281406']"
      ],
      "metadata": {
        "id": "8aBV4q8lfACD"
      },
      "execution_count": 2,
      "outputs": []
    },
    {
      "cell_type": "code",
      "source": [
        "#function def to read files and return training and test sets\n",
        "\n",
        "#the cats argument will be one of the \n",
        "def read_cats(cats, lab, train_size, test_size):\n",
        "\n",
        "  #initialise stuff for loop\n",
        "  vecs = []\n",
        "  labs = []\n",
        "\n",
        "  num_images_per_folder = 500 #a bit more explanatory and robust than it was\n",
        "\n",
        "  #loop through each folder name (a subcategory of animals or bugs) and then through the images in that folder\n",
        "  for c in cats:  #folder names from argument\n",
        "    for i in range(num_images_per_folder): #num images per folder`\n",
        "\n",
        "    #load the image and convert it to an array\n",
        "      img = image.load_img(\"tiny-imagenet-200/train/\"+c+\"/images/\"+c+\"_\"+str(i)+\".JPEG\")\n",
        "      img_arr = image.img_to_array(img)\n",
        "\n",
        "      \n",
        "      img_arr = img_arr.flatten()\n",
        "      img_arr = img_arr.reshape(64,64,3)\n",
        "      vecs += [img_arr]\n",
        "      labs += [lab]\n",
        "  vecs = np.asarray(vecs)\n",
        "  return(train_test_split(vecs,labs, train_size=train_size,test_size=test_size))"
      ],
      "metadata": {
        "id": "Mla2Xy-ChicZ"
      },
      "execution_count": null,
      "outputs": []
    }
  ]
}