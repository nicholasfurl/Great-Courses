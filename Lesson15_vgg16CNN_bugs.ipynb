{
  "nbformat": 4,
  "nbformat_minor": 0,
  "metadata": {
    "colab": {
      "provenance": [],
      "authorship_tag": "ABX9TyPK792+UjVvMILPYuyQXNXE",
      "include_colab_link": true
    },
    "kernelspec": {
      "name": "python3",
      "display_name": "Python 3"
    },
    "language_info": {
      "name": "python"
    },
    "accelerator": "GPU",
    "gpuClass": "standard"
  },
  "cells": [
    {
      "cell_type": "markdown",
      "metadata": {
        "id": "view-in-github",
        "colab_type": "text"
      },
      "source": [
        "<a href=\"https://colab.research.google.com/github/nicholasfurl/Great-Courses/blob/main/Lesson15_vgg16CNN_bugs.ipynb\" target=\"_parent\"><img src=\"https://colab.research.google.com/assets/colab-badge.svg\" alt=\"Open In Colab\"/></a>"
      ]
    },
    {
      "cell_type": "code",
      "execution_count": null,
      "metadata": {
        "id": "OCy7QsXxc7rV"
      },
      "outputs": [],
      "source": [
        "##########\n",
        "#-----vgg16 DCNN bug versus animal classification\n",
        "#This notebook trains an image classification model and makes gradual improvements, \n",
        "#debugging the model, to improve performance. GPUs are encouraged. \n",
        "#In colab, one can add a GPU by clicking the Runtime menu and selecting Change runtime type. \n",
        "#Selecting GPU as the hardware accelerator will allow for the usage of a GPU.\n",
        "#########"
      ]
    },
    {
      "cell_type": "code",
      "source": [
        "#Download tinyImageNet\n",
        "#200 categories, 500 images per category, images 64*64*3\n",
        "\n",
        "#unzipping creates a tiny-imagenet-200 folder in active directory with test, train and val subfolders and two *.txt files\n",
        "#Train subfolders have lots of further subfolders, eacj labveled n10*. Within each is some text files and an images folder\n",
        "#containing n*.JPEG images\n",
        "#Test subfolder has subfolder images with test_*JPEG files\n",
        "!wget http://cs231n.stanford.edu/tiny-imagenet-200.zip\n",
        "!unzip -q tiny-imagenet-200.zip"
      ],
      "metadata": {
        "colab": {
          "base_uri": "https://localhost:8080/"
        },
        "id": "A2CAkx1idnXH",
        "outputId": "7a746dee-71b2-4cf1-b461-e268cf908328"
      },
      "execution_count": 1,
      "outputs": [
        {
          "output_type": "stream",
          "name": "stdout",
          "text": [
            "--2023-01-03 18:09:02--  http://cs231n.stanford.edu/tiny-imagenet-200.zip\n",
            "Resolving cs231n.stanford.edu (cs231n.stanford.edu)... 171.64.68.10\n",
            "Connecting to cs231n.stanford.edu (cs231n.stanford.edu)|171.64.68.10|:80... connected.\n",
            "HTTP request sent, awaiting response... 200 OK\n",
            "Length: 248100043 (237M) [application/zip]\n",
            "Saving to: ‘tiny-imagenet-200.zip’\n",
            "\n",
            "tiny-imagenet-200.z 100%[===================>] 236.61M  35.8MB/s    in 9.0s    \n",
            "\n",
            "2023-01-03 18:09:11 (26.4 MB/s) - ‘tiny-imagenet-200.zip’ saved [248100043/248100043]\n",
            "\n"
          ]
        }
      ]
    },
    {
      "cell_type": "code",
      "source": [
        "!pip install keras=='2.8.0'\n",
        "#from PIL import Image    #I knpow from previous lessons that this doesn't work\n",
        "import keras.utils as image #This is the one that works\n",
        "from keras.preprocessing import image\n",
        "import numpy as np\n",
        "from sklearn.model_selection import train_test_split"
      ],
      "metadata": {
        "colab": {
          "base_uri": "https://localhost:8080/"
        },
        "id": "QHA-A_0NnLAI",
        "outputId": "109cf09c-5037-4576-8f93-4113536961de"
      },
      "execution_count": 2,
      "outputs": [
        {
          "output_type": "stream",
          "name": "stdout",
          "text": [
            "Looking in indexes: https://pypi.org/simple, https://us-python.pkg.dev/colab-wheels/public/simple/\n",
            "Collecting keras==2.8.0\n",
            "  Downloading keras-2.8.0-py2.py3-none-any.whl (1.4 MB)\n",
            "\u001b[2K     \u001b[90m━━━━━━━━━━━━━━━━━━━━━━━━━━━━━━━━━━━━━━━━\u001b[0m \u001b[32m1.4/1.4 MB\u001b[0m \u001b[31m20.6 MB/s\u001b[0m eta \u001b[36m0:00:00\u001b[0m\n",
            "\u001b[?25hInstalling collected packages: keras\n",
            "  Attempting uninstall: keras\n",
            "    Found existing installation: keras 2.9.0\n",
            "    Uninstalling keras-2.9.0:\n",
            "      Successfully uninstalled keras-2.9.0\n",
            "\u001b[31mERROR: pip's dependency resolver does not currently take into account all the packages that are installed. This behaviour is the source of the following dependency conflicts.\n",
            "tensorflow 2.9.2 requires keras<2.10.0,>=2.9.0rc0, but you have keras 2.8.0 which is incompatible.\u001b[0m\u001b[31m\n",
            "\u001b[0mSuccessfully installed keras-2.8.0\n"
          ]
        }
      ]
    },
    {
      "cell_type": "code",
      "source": [
        "#specify folder names  (for training set?)\n",
        "cats_0 = ['n01443537','n01629819','n01641577','n01644900','n01698640','n01742172',\n",
        "          'n01855672','n01882714','n02002724','n02056570','n02058221','n02074367',\n",
        "          'n02085620','n02094433','n02099601','n02099712','n02106662','n02113799',\n",
        "          'n02123045','n02123394','n02124075','n02125311','n02129165','n02132136',\n",
        "          'n02364673','n02395406','n02403003','n02410509','n02415577','n02423022',\n",
        "          'n02437312','n02480495','n02481823','n02486410','n02504458','n02509815']\n",
        "cats_1 = ['n01770393','n01774384','n01774750','n01784675','n02165456','n02190166',\n",
        "          'n02206856','n02226429','n02231487','n02233338','n02236044','n02268443',\n",
        "          'n02279972','n02281406']"
      ],
      "metadata": {
        "id": "8aBV4q8lfACD"
      },
      "execution_count": 3,
      "outputs": []
    },
    {
      "cell_type": "code",
      "source": [
        "#function def to read files and return training and test sets\n",
        "\n",
        "#the cats argument will be one of the \n",
        "def read_cats(cats, lab, train_size, test_size):\n",
        "\n",
        "  #initialise stuff for loop\n",
        "  vecs = []\n",
        "  labs = []\n",
        "\n",
        "  num_images_per_folder = 500 #a bit more explanatory and robust than it was\n",
        "\n",
        "  #loop through each folder name (a subcategory of animals or bugs) and then through the images in that folder\n",
        "  for c in cats:  #folder names from argument\n",
        "    for i in range(num_images_per_folder): #num images per folder`\n",
        "\n",
        "    #load the image and convert it to an array\n",
        "      img = image.load_img(\"tiny-imagenet-200/train/\"+c+\"/images/\"+c+\"_\"+str(i)+\".JPEG\")\n",
        "      img_arr = image.img_to_array(img)\n",
        "      \n",
        "\n",
        "      #vectorise then reshape? This appears to vectorise it and then just put it back as it was again! Why?\n",
        "      #print(c, i, img_arr.shape) \n",
        "      img_arr = img_arr.flatten() #this is numpy not image\n",
        "      #print(c, i, img_arr.shape)\n",
        "      img_arr = img_arr.reshape(64,64,3)\n",
        "      #print(c, i, img_arr.shape)\n",
        "\n",
        "      \n",
        "      vecs += [img_arr] #Accumulates 2D arrays? Or should it be vectorised?\n",
        "      labs += [lab]   #But this will just be [] every time? Something's not right here ....\n",
        "\n",
        "  vecs = np.asarray(vecs) #convert to array\n",
        "\n",
        "  #Split into train and test sets and then return\n",
        "  return(train_test_split(vecs,labs, train_size=train_size,test_size=test_size))  #train size and test_size arguments are used here!"
      ],
      "metadata": {
        "id": "Mla2Xy-ChicZ"
      },
      "execution_count": 4,
      "outputs": []
    },
    {
      "cell_type": "code",
      "source": [
        "X0_train, X0_test, y0_train, y0_test = read_cats(cats_0, 0, .1, .2) #So hand it the animals (category 0), make its label 0, and train size will be .1 and test_size will be .2. \n",
        "X1_train, X1_test, y1_train, y1_test = read_cats(cats_1, 1, .1, .2)\n",
        "#print(X0_train.shape) #1800*64*64*3 is what I want? According to the lecture, yes.\n",
        "#print(y0_train)  #1800 0's is what I want? Yes, you gave lab as an argument so one run will be handed 0o and the other 1.\n",
        "\n",
        "#Put all training examples together and all test examples together\n",
        "X_train = np.concatenate((X0_train, X1_train))\n",
        "X_test = np.concatenate((X0_test, X1_test))\n",
        "y_train = np.concatenate((y0_train, y1_train))\n",
        "y_test = np.concatenate((y0_test, y1_test))"
      ],
      "metadata": {
        "id": "QbkJTT-0pu9g"
      },
      "execution_count": 26,
      "outputs": []
    },
    {
      "cell_type": "code",
      "source": [
        "#Build vgg16 model!\n",
        "\n",
        "#Only the function definition\n",
        "\n",
        "def build_network():\n",
        "\n",
        "  #Are these importations only local if defined within a function?\n",
        "  import keras\n",
        "  from keras.models import Sequential\n",
        "  from keras.layers import Dense, Activation, Dropout, Flatten\n",
        "  from keras.layers import Conv2D\n",
        "  from keras.layers import MaxPooling2D\n",
        "\n",
        "\n",
        "  input_shape = (64, 64, 3)\n",
        "  #Instantiate an empty model\n",
        "  model = Sequential()\n",
        "  model.add(Conv2D(64, (3, 3), input_shape=input_shape, padding='same', activation='relu'))\n",
        "  model.add(Conv2D(64, (3, 3), padding='same', activation='relu'))\n",
        "  model.add(MaxPooling2D(pool_size=(2, 2), strides=(2, 2)))\n",
        "  model.add(Conv2D(128, (3, 3), padding='same', activation='relu'))\n",
        "  model.add(Conv2D(128, (3, 3), padding='same', activation='relu'))\n",
        "  model.add(MaxPooling2D(pool_size=(2, 2), strides=(2, 2)))\n",
        "  model.add(Conv2D(256, (3, 3), padding='same', activation='relu'))\n",
        "  model.add(Conv2D(256, (3, 3), padding='same', activation='relu'))\n",
        "  model.add(Conv2D(256, (3, 3), padding='same', activation='relu'))\n",
        "  model.add(MaxPooling2D(pool_size=(2, 2), strides=(2, 2)))\n",
        "  model.add(Conv2D(512, (3, 3), padding='same', activation='relu'))\n",
        "  model.add(Conv2D(512, (3, 3), padding='same', activation='relu'))\n",
        "  model.add(Conv2D(512, (3, 3), padding='same', activation='relu'))\n",
        "  model.add(MaxPooling2D(pool_size=(2, 2), strides=(2, 2)))\n",
        "  model.add(Conv2D(512, (3, 3), padding='same', activation='relu'))\n",
        "  model.add(Conv2D(512, (3, 3), padding='same', activation='relu'))\n",
        "  model.add(Conv2D(512, (3, 3), padding='same', activation='relu'))\n",
        "  model.add(MaxPooling2D(pool_size=(2, 2), strides=(2, 2)))\n",
        "  model.add(Flatten())\n",
        "  model.add(Dense(4096, activation='relu'))\n",
        "  model.add(Dense(4096, activation='relu'))\n",
        "  model.add(Dense(1, activation='sigmoid')) #Final sigmoid function allows binary classification (like logistic regression - what do I use for multiway classification?)\n",
        "  \n",
        "  return(model)"
      ],
      "metadata": {
        "id": "4Kq3Xm0TwdV7"
      },
      "execution_count": 6,
      "outputs": []
    },
    {
      "cell_type": "code",
      "source": [
        "#Run model! \n",
        "\n",
        "#Do I need GPU? With GPU was only a few seconds\n",
        "\n",
        "#model is a \"sequential\" object\n",
        "\n",
        "#Result is supposed to be disappointing. \n",
        "#Loss is .28 (a bit high) and accuracy is only .72\n",
        "#So remaining blocks are meant to debug\n",
        "\n",
        "#I guess this specifies it\n",
        "model = build_network()\n",
        "#And this runs it? No, this \"configures\" it\n",
        "model.compile(loss='mean_squared_error', optimizer='adam', metrics=['accuracy'])\n",
        "#No, this runs it!\n",
        "model.fit(X_train,y_train, validation_data=(X_test,y_test))"
      ],
      "metadata": {
        "colab": {
          "base_uri": "https://localhost:8080/"
        },
        "id": "TR8P5Zrj0LVD",
        "outputId": "d74d119c-f46e-4329-aed8-79159ebd841a"
      },
      "execution_count": 27,
      "outputs": [
        {
          "output_type": "stream",
          "name": "stdout",
          "text": [
            "79/79 [==============================] - 8s 93ms/step - loss: 0.2799 - accuracy: 0.7196 - val_loss: 0.2800 - val_accuracy: 0.7200\n"
          ]
        },
        {
          "output_type": "execute_result",
          "data": {
            "text/plain": [
              "<keras.callbacks.History at 0x7f4659480e20>"
            ]
          },
          "metadata": {},
          "execution_count": 27
        }
      ]
    },
    {
      "cell_type": "code",
      "source": [
        "#I want to verify for myself that predictions are always one category\n",
        "\n",
        "#Don't forget: X are image pixels and y are labels!!\n",
        "\n",
        "#confusion matrix (rows truth, cols model predictions)\n",
        "yhat = model.predict(X_test)\n",
        "\n",
        "#yhat\n",
        "print(yhat)\n",
        "\n",
        "#Python has a unique in numpy!\n",
        "unique, counts = np.unique(yhat, return_counts=True)\n",
        "\n",
        "print(unique)\n",
        "print(counts)\n",
        "\n",
        "#Did it! So 5000 0's indeed\n",
        "\n"
      ],
      "metadata": {
        "colab": {
          "base_uri": "https://localhost:8080/"
        },
        "id": "PFVsaaSq8Nuh",
        "outputId": "a70f27d1-3d97-41be-d99b-4d667f9d9b63"
      },
      "execution_count": 41,
      "outputs": [
        {
          "output_type": "stream",
          "name": "stdout",
          "text": [
            "[[0.]\n",
            " [0.]\n",
            " [0.]\n",
            " ...\n",
            " [0.]\n",
            " [0.]\n",
            " [0.]]\n",
            "[0.]\n",
            "[5000]\n"
          ]
        }
      ]
    },
    {
      "cell_type": "code",
      "source": [
        "#Now to debug / improve performance\n",
        "\n",
        "#Let's look at images in the dataset\n",
        "import random\n",
        "#from keras.preprocessing import image #I think keras.utils is needed, but it was already imported earlier anyway\n",
        "from keras.applications.vgg16 import preprocess_input\n",
        "\n",
        "#generate random integer between 0 and 4999 (length of y_test - 1) \n",
        "#So we can get an index into y_test and X_test (which starts with 0 in Python!)\n",
        "i = random.randint(0,len(y_test)-1)\n",
        "\n",
        "print(i)  #the index (into X_test to get the image pixels)\n",
        "print(y_test[i])  #the label for the image in X test (0 or 1)\n",
        "\n",
        "#Get image (a bit strange to use y to define random number and then index into X instead!)\n",
        "img_arr = X_test[i]\n",
        "\n",
        "#without preprocessing\n",
        "img = image.array_to_img(img_arr)\n",
        "display(img)\n",
        "\n",
        "#with preprocessing\n",
        "img_arr = preprocess_input(img_arr)\n",
        "img = image.array_to_img(img_arr)\n",
        "display(img)\n",
        "\n",
        "#Should we not have preprocessed everything before submission to model? Or is that done within the fit code?\n",
        "\n",
        "#Preprocessing really changes the colours!\n"
      ],
      "metadata": {
        "colab": {
          "base_uri": "https://localhost:8080/",
          "height": 181
        },
        "id": "DiUHPZht3G2k",
        "outputId": "6dbea107-8ef5-4a68-9676-e5849b1c90cb"
      },
      "execution_count": 24,
      "outputs": [
        {
          "output_type": "stream",
          "name": "stdout",
          "text": [
            "3699\n",
            "1\n"
          ]
        },
        {
          "output_type": "display_data",
          "data": {
            "text/plain": [
              "<PIL.Image.Image image mode=RGB size=64x64 at 0x7F465B9F94F0>"
            ],
            "image/png": "[encoded data removed]"
          },
          "metadata": {}
        },
        {
          "output_type": "display_data",
          "data": {
            "text/plain": [
              "<PIL.Image.Image image mode=RGB size=64x64 at 0x7F465BA3C700>"
            ],
            "image/png": "[encoded data removed]"
          },
          "metadata": {}
        }
      ]
    },
    {
      "cell_type": "code",
      "source": [
        "#We now rerun the model by balancing the number of examples from cats_1 and cats_0. \n",
        "#We include 500 examples of each category in the training set and the tets set.\n",
        "#We retrain the model and report the new accuracy on the train and test set.\n",
        "\n",
        "#Only took a few seconds\n",
        "\n",
        "# running again with balanced examples\n",
        "X0_train, X0_test, y0_train, y0_test = read_cats(cats_0, 0, 500, 500)\n",
        "X1_train, X1_test, y1_train, y1_test = read_cats(cats_1, 1, 500, 500)\n",
        "X_train = np.concatenate((X0_train, X1_train))\n",
        "X_test = np.concatenate((X0_test, X1_test))\n",
        "y_train = np.concatenate((y0_train, y1_train))\n",
        "y_test = np.concatenate((y0_test, y1_test))\n",
        "\n",
        "model = build_network()\n",
        "model.compile(loss='mean_squared_error', optimizer='adam', metrics=['accuracy'])\n",
        "model.fit(X_train,y_train, validation_data=(X_test,y_test))\n",
        "\n",
        "#The result is that performance now looks much worse. Because it was previously getting 72% always guessing the 72% majority category all the time. Now it can't get by guessing anymore"
      ],
      "metadata": {
        "colab": {
          "base_uri": "https://localhost:8080/"
        },
        "id": "pHEo8agt60B1",
        "outputId": "768e8ca8-85d8-4004-b5fa-b731ae056042"
      },
      "execution_count": 42,
      "outputs": [
        {
          "output_type": "stream",
          "name": "stdout",
          "text": [
            "32/32 [==============================] - 3s 80ms/step - loss: 0.4952 - accuracy: 0.4940 - val_loss: 0.5000 - val_accuracy: 0.5000\n"
          ]
        },
        {
          "output_type": "execute_result",
          "data": {
            "text/plain": [
              "<keras.callbacks.History at 0x7f46592bfdf0>"
            ]
          },
          "metadata": {},
          "execution_count": 42
        }
      ]
    },
    {
      "cell_type": "code",
      "source": [],
      "metadata": {
        "id": "oM4vVaZqBIbm"
      },
      "execution_count": null,
      "outputs": []
    }
  ]
}